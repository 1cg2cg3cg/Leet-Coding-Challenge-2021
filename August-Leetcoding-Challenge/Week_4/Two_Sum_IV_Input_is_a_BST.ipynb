{
  "nbformat": 4,
  "nbformat_minor": 0,
  "metadata": {
    "colab": {
      "name": "Week 4 : Two Sum IV - Input is a BST.ipynb",
      "provenance": [],
      "collapsed_sections": [],
      "authorship_tag": "ABX9TyN0ygPFvF6VEc84b5NFjzUW",
      "include_colab_link": true
    },
    "kernelspec": {
      "name": "python3",
      "display_name": "Python 3"
    },
    "language_info": {
      "name": "python"
    }
  },
  "cells": [
    {
      "cell_type": "markdown",
      "metadata": {
        "id": "view-in-github",
        "colab_type": "text"
      },
      "source": [
        "<a href=\"https://colab.research.google.com/github/1cg2cg3cg/Leet-Coding-Challenge-2021/blob/master/August-Leetcoding-Challenge/Week_4/Two_Sum_IV_Input_is_a_BST.ipynb\" target=\"_parent\"><img src=\"https://colab.research.google.com/assets/colab-badge.svg\" alt=\"Open In Colab\"/></a>"
      ]
    },
    {
      "cell_type": "code",
      "metadata": {
        "id": "2MT-Ns6EW82u"
      },
      "source": [
        "# Runtime: 80 ms            Your runtime beats 68.75 % of python3 submissions.\n",
        "# Memory Usage: 18.3 MB     Your memory usage beats 46.96 % of python3 submissions.\n",
        "\n",
        "\n",
        "# Definition for a binary tree node.\n",
        "# class TreeNode:\n",
        "#     def __init__(self, val=0, left=None, right=None):\n",
        "#         self.val = val\n",
        "#         self.left = left\n",
        "#         self.right = right\n",
        "class Solution:\n",
        "    def findTarget(self, root: Optional[TreeNode], k: int) -> bool:\n",
        "        \n",
        "        discovered = set()\n",
        "        self.answer = False\n",
        "        \n",
        "        def dfs(node) :\n",
        "            \n",
        "            if node and self.answer == False :\n",
        "                \n",
        "                if (k - node.val) in discovered : \n",
        "                    self.answer = True\n",
        "                    return\n",
        "                else :\n",
        "                    discovered.add(node.val)\n",
        "                    \n",
        "                    dfs(node.left)\n",
        "                    dfs(node.right)\n",
        "        \n",
        "        dfs(root)\n",
        "        \n",
        "        return self.answer"
      ],
      "execution_count": null,
      "outputs": []
    }
  ]
}