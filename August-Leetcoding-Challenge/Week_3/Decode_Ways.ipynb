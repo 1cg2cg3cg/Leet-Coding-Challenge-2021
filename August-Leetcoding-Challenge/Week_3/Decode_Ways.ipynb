{
  "nbformat": 4,
  "nbformat_minor": 0,
  "metadata": {
    "colab": {
      "name": "Week 3 : Decode Ways.ipynb",
      "provenance": [],
      "collapsed_sections": [],
      "authorship_tag": "ABX9TyN9nBRD919r9F0zK/7tMo9P",
      "include_colab_link": true
    },
    "kernelspec": {
      "name": "python3",
      "display_name": "Python 3"
    },
    "language_info": {
      "name": "python"
    }
  },
  "cells": [
    {
      "cell_type": "markdown",
      "metadata": {
        "id": "view-in-github",
        "colab_type": "text"
      },
      "source": [
        "<a href=\"https://colab.research.google.com/github/1cg2cg3cg/Leet-Coding-Challenge-2021/blob/master/August-Leetcoding-Challenge/Week_3/Decode_Ways.ipynb\" target=\"_parent\"><img src=\"https://colab.research.google.com/assets/colab-badge.svg\" alt=\"Open In Colab\"/></a>"
      ]
    },
    {
      "cell_type": "markdown",
      "metadata": {
        "id": "SGLUFO87bCWE"
      },
      "source": [
        "dfs로 모든 경우를 전부 확인하게 설계했다.\n",
        "\n",
        "가령, 12102127이 입력되면\n",
        "\n",
        "1-2-1-0-2-1-2-7\n",
        "\n",
        "1-2-1-0-2-1-27\n",
        "\n",
        "1-2-1-0-2-12-7\n",
        "\n",
        "12-1-0-21-2-7\n",
        "\n",
        "...\n",
        "\n",
        "다음 상태로 넘어갈 때, s[i] 혹은 s[i:i+2]를 통해 현재 상태(다음 상태의 이전 상태가 된다.)를 prev 변수로 넘기고, prev가 0으로 시작하는 경우 0을 반환한다. (가능한 경우가 아니다.)\n",
        "\n",
        "i가 len(s)와 같다면 주어진 s의 마지막까지 도달한 것으로 가능한 경우다.(1을 반환한다.)\n",
        "\n",
        "dfs 함수를 통해 모든 경우를 전부 탐색할 수 있게 된다.\n",
        "\n",
        "그런데 시간을 초과해버렸다."
      ]
    },
    {
      "cell_type": "code",
      "metadata": {
        "id": "HdDCfpB-bA-X"
      },
      "source": [
        "class Solution:\n",
        "    def numDecodings(self, s: str) -> int:\n",
        "        \n",
        "        def dfs(i, prev) :\n",
        "            # print(i, prev)\n",
        "            \n",
        "            if prev == None : pass\n",
        "            else : \n",
        "                if prev[0] == '0' or int(prev) > 26 : return 0\n",
        "            \n",
        "            if i == len(s) :\n",
        "                # print('finish')\n",
        "                return 1\n",
        "            \n",
        "            # dfs(i+1, s[i])\n",
        "            \n",
        "            # if i+1 < len(s) : dfs(i+2, s[i:i+2])\n",
        "                \n",
        "            return dfs(i+1, s[i]) + dfs(i+2, s[i:i+2]) if i+1 < len(s) else dfs(i+1, s[i])\n",
        "            \n",
        "        answer = dfs(0, None)\n",
        "        \n",
        "        return answer"
      ],
      "execution_count": null,
      "outputs": []
    },
    {
      "cell_type": "markdown",
      "metadata": {
        "id": "Imbr1V4_gN1T"
      },
      "source": [
        "https://leetcode.com/problems/decode-ways/discuss/1410794/C%2B%2BPython-From-Top-down-DP-to-Bottom-up-DP-O(1)-Space-Clean-and-Concise\n"
      ]
    },
    {
      "cell_type": "code",
      "metadata": {
        "id": "Z_2k22j1gM8g"
      },
      "source": [
        "class Solution:  # 36 ms, faster than 34.07%\n",
        "    def numDecodings(self, s: str) -> int:\n",
        "        @lru_cache(None)\n",
        "        def dp(i):\n",
        "            if i == len(s): return 1\n",
        "            ans = 0\n",
        "            if s[i] != '0':  # Single digit\n",
        "                ans += dp(i + 1)\n",
        "            if i + 1 < len(s) and (s[i] == '1' or s[i] == '2' and ord(s[i + 1]) <= ord('6')):  # Two digits\n",
        "                ans += dp(i + 2)\n",
        "            return ans\n",
        "\n",
        "        return dp(0) "
      ],
      "execution_count": null,
      "outputs": []
    }
  ]
}