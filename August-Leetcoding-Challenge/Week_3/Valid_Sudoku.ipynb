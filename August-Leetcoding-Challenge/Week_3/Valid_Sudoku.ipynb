{
  "nbformat": 4,
  "nbformat_minor": 0,
  "metadata": {
    "colab": {
      "name": "Week 3 : Valid Sudoku.ipynb",
      "provenance": [],
      "collapsed_sections": [],
      "authorship_tag": "ABX9TyMFv+uLNxN01Q1YAuUvvrc4",
      "include_colab_link": true
    },
    "kernelspec": {
      "name": "python3",
      "display_name": "Python 3"
    },
    "language_info": {
      "name": "python"
    }
  },
  "cells": [
    {
      "cell_type": "markdown",
      "metadata": {
        "id": "view-in-github",
        "colab_type": "text"
      },
      "source": [
        "<a href=\"https://colab.research.google.com/github/1cg2cg3cg/Leet-Coding-Challenge-2021/blob/master/August-Leetcoding-Challenge/Week_3/Valid_Sudoku.ipynb\" target=\"_parent\"><img src=\"https://colab.research.google.com/assets/colab-badge.svg\" alt=\"Open In Colab\"/></a>"
      ]
    },
    {
      "cell_type": "code",
      "metadata": {
        "id": "qoo9ivB0wr9s"
      },
      "source": [
        "# Runtime: 108 ms           Your runtime beats 24.00 % of python3 submissions.\n",
        "# Memory Usage: 14.5 MB     \n",
        "\n",
        "import collections\n",
        "class Solution:\n",
        "    def isValidSudoku(self, board: List[List[str]]) -> bool:\n",
        "        board_T = list(map(list, zip(*board)))\n",
        "        \n",
        "        def check_box(x, y) :\n",
        "            box = collections.Counter([x for x in (board[x][y:y+3] + board[x+1][y:y+3] + board[x+2][y:y+3]) if x != '.'])\n",
        "            if sum(box.values()) > len(box) : return False\n",
        "            \n",
        "            return True\n",
        "        \n",
        "        def check_hv(x) :\n",
        "            h = collections.Counter([x for x in board[x] if x != '.'])\n",
        "            v = collections.Counter([x for x in board_T[x] if x != '.'])\n",
        "            \n",
        "            if sum(h.values()) > len(h) or sum(v.values()) > len(v) : return False\n",
        "            \n",
        "            return True\n",
        "        \n",
        "        for i in [0, 3, 6] :\n",
        "            for j in [0, 3, 6] :\n",
        "                if not check_box(i,j) : return False\n",
        "        \n",
        "        for i in range(9) :\n",
        "            if not check_hv(i) : return False\n",
        "        \n",
        "        return True"
      ],
      "execution_count": null,
      "outputs": []
    },
    {
      "cell_type": "markdown",
      "metadata": {
        "id": "8HaIyx8fxDxN"
      },
      "source": [
        "성능 개선해보기!"
      ]
    },
    {
      "cell_type": "code",
      "metadata": {
        "id": "bm3gYaT6xHOK"
      },
      "source": [
        ""
      ],
      "execution_count": null,
      "outputs": []
    }
  ]
}