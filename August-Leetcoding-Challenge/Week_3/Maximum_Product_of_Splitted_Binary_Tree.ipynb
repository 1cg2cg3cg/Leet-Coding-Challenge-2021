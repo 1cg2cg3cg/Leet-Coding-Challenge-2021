{
  "nbformat": 4,
  "nbformat_minor": 0,
  "metadata": {
    "colab": {
      "name": "Week 3 : Maximum Product of Splitted Binary Tree",
      "provenance": [],
      "collapsed_sections": [],
      "authorship_tag": "ABX9TyPvtKc6RlgnFw6NlZ4hlmCP",
      "include_colab_link": true
    },
    "kernelspec": {
      "name": "python3",
      "display_name": "Python 3"
    },
    "language_info": {
      "name": "python"
    }
  },
  "cells": [
    {
      "cell_type": "markdown",
      "metadata": {
        "id": "view-in-github",
        "colab_type": "text"
      },
      "source": [
        "<a href=\"https://colab.research.google.com/github/1cg2cg3cg/Leet-Coding-Challenge-2021/blob/master/August-Leetcoding-Challenge/Week_3/Maximum_Product_of_Splitted_Binary_Tree.ipynb\" target=\"_parent\"><img src=\"https://colab.research.google.com/assets/colab-badge.svg\" alt=\"Open In Colab\"/></a>"
      ]
    },
    {
      "cell_type": "markdown",
      "metadata": {
        "id": "_uxXQRaDEfac"
      },
      "source": [
        "모든 경우 다 맞는데, 시간이 오래 걸림"
      ]
    },
    {
      "cell_type": "code",
      "metadata": {
        "id": "6s5znC8-Ebht"
      },
      "source": [
        "# Definition for a binary tree node.\n",
        "# class TreeNode:\n",
        "#     def __init__(self, val=0, left=None, right=None):\n",
        "#         self.val = val\n",
        "#         self.left = left\n",
        "#         self.right = right\n",
        "class Solution:\n",
        "    def maxProduct(self, root: Optional[TreeNode]) -> int:\n",
        "        node = root\n",
        "        self.answer = 1\n",
        "        \n",
        "        def cal_sum(node) :\n",
        "            if not node : return 0\n",
        "            \n",
        "            return node.val + cal_sum(node.left) + cal_sum(node.right)\n",
        "        \n",
        "        \n",
        "        def dfs(node, answer) :\n",
        "            if node == None : return\n",
        "            \n",
        "            right_val = (total_sum - cal_sum(node.left)) * cal_sum(node.left)\n",
        "            left_val = (total_sum - cal_sum(node.right)) * cal_sum(node.right)\n",
        "            \n",
        "            if left_val > self.answer : self.answer = left_val\n",
        "            if right_val > self.answer : self.answer = right_val\n",
        "            \n",
        "            dfs(node.left, self.answer)\n",
        "            dfs(node.right, self.answer)\n",
        "            \n",
        "        \n",
        "        total_sum = cal_sum(node)\n",
        "        dfs(root,self.answer)\n",
        "        return self.answer % (10**9 + 7)"
      ],
      "execution_count": null,
      "outputs": []
    },
    {
      "cell_type": "markdown",
      "metadata": {
        "id": "xBnpW9R5EjA2"
      },
      "source": [
        "total 값이 항상 일정하므로, 곱해지는 두 값의 차이가 작은 곳을 찾고, 해당 노드를 기준으로 left와 right값을 기억해 마지막에 곱해서 return 하게 바꿔보자"
      ]
    },
    {
      "cell_type": "code",
      "metadata": {
        "id": "cixmiX19EsgH"
      },
      "source": [
        "# Definition for a binary tree node.\n",
        "# class TreeNode:\n",
        "#     def __init__(self, val=0, left=None, right=None):\n",
        "#         self.val = val\n",
        "#         self.left = left\n",
        "#         self.right = right\n",
        "class Solution:\n",
        "    def maxProduct(self, root: Optional[TreeNode]) -> int:\n",
        "        node = root\n",
        "        self.diff = float('inf')\n",
        "        self.sub = 0\n",
        "        \n",
        "        def cal_sum(node) :\n",
        "            if not node : return 0\n",
        "            \n",
        "            return node.val + cal_sum(node.left) + cal_sum(node.right)\n",
        "        \n",
        "        \n",
        "        def dfs(node) :\n",
        "            if node == None : return\n",
        "            \n",
        "            diff_r = abs((total_sum - cal_sum(node.left)) - cal_sum(node.left))\n",
        "            diff_l = abs((total_sum - cal_sum(node.right)) - cal_sum(node.right))\n",
        "            \n",
        "            if diff_r < self.diff : \n",
        "                self.diff = diff_r\n",
        "                self.sub = cal_sum(node.left)\n",
        "            \n",
        "            if diff_l < self.diff :\n",
        "                self.diff = diff_l\n",
        "                self.sub = cal_sum(node.right)\n",
        "            \n",
        "            # print(self.sub, diff_r, diff_l)\n",
        "            dfs(node.left)\n",
        "            dfs(node.right)\n",
        "            \n",
        "        \n",
        "        total_sum = cal_sum(node)\n",
        "        dfs(root)\n",
        "        \n",
        "        return (total_sum - self.sub) * self.sub % (10**9 + 7)"
      ],
      "execution_count": null,
      "outputs": []
    },
    {
      "cell_type": "markdown",
      "metadata": {
        "id": "BwolpcKxIuxl"
      },
      "source": [
        "여전히 시간초과.. DP로 풀어야 할 것 같다.\n",
        "\n",
        "아니, 문제는 DP가 아니었다. 시간이 많이 걸리는 DFS를 두 번이나 사용하고 있었기 때문이다..\n",
        "\n",
        "그러니까, 값을 계산할 때 cal_sum을 재귀 호출 하면서 계산을 2번 하고 있었고, left와 right를 계산했으니까 총 4번의 재귀가 이루어지고 있었다.\n",
        "\n",
        "```\n",
        "# 값을 비교\n",
        "right_val = (total_sum - cal_sum(node.left)) * cal_sum(node.left)\n",
        "left_val = (total_sum - cal_sum(node.right)) * cal_sum(node.right)\n",
        "\n",
        "# 좌, 우측 차이 이용\n",
        "diff_r = abs((total_sum - cal_sum(node.left)) - cal_sum(node.left))\n",
        "diff_l = abs((total_sum - cal_sum(node.right)) - cal_sum(node.right))\n",
        "```\n",
        "\n",
        "이를 하나로 통합해 하나의 과정에서 max값까지 계산, 비교하게 변경하니 시간 초과 문제가 해결됐다."
      ]
    },
    {
      "cell_type": "code",
      "metadata": {
        "id": "9X8LuwDlIytw"
      },
      "source": [
        "# Runtime: 428 ms           Your runtime beats 21.48 % of python3 submissions.\n",
        "# Memory Usage: 80.1 MB     Your memory usage beats 70.37 % of python3 submissions.\n",
        "\n",
        "\n",
        "# Definition for a binary tree node.\n",
        "# class TreeNode:\n",
        "#     def __init__(self, val=0, left=None, right=None):\n",
        "#         self.val = val\n",
        "#         self.left = left\n",
        "#         self.right = right\n",
        "class Solution:\n",
        "    def maxProduct(self, root: Optional[TreeNode]) -> int:\n",
        "        \n",
        "        def cal_sum(node) :\n",
        "            if not node : return 0\n",
        "            \n",
        "            cur_sum = node.val + cal_sum(node.left) + cal_sum(node.right)\n",
        "            self.answer = max(self.answer, (self.total_sum - cur_sum) * cur_sum)\n",
        "            \n",
        "            return cur_sum\n",
        "        \n",
        "        self.answer, self.total_sum = 1, 0\n",
        "        self.total_sum = cal_sum(root)\n",
        "        cal_sum(root)\n",
        "        \n",
        "        return self.answer % (10**9 + 7)"
      ],
      "execution_count": null,
      "outputs": []
    }
  ]
}