{
  "nbformat": 4,
  "nbformat_minor": 0,
  "metadata": {
    "colab": {
      "name": "Week 1 : Stone Game",
      "provenance": [],
      "authorship_tag": "ABX9TyMepB9akxW52675CcHqWcxx",
      "include_colab_link": true
    },
    "kernelspec": {
      "name": "python3",
      "display_name": "Python 3"
    },
    "language_info": {
      "name": "python"
    }
  },
  "cells": [
    {
      "cell_type": "markdown",
      "metadata": {
        "id": "view-in-github",
        "colab_type": "text"
      },
      "source": [
        "<a href=\"https://colab.research.google.com/github/1cg2cg3cg/Leet-Coding-Challenge-2021/blob/master/August-Leetcoding-Challenge/Week_1/Stone_Game.ipynb\" target=\"_parent\"><img src=\"https://colab.research.google.com/assets/colab-badge.svg\" alt=\"Open In Colab\"/></a>"
      ]
    },
    {
      "cell_type": "code",
      "metadata": {
        "id": "YOMnzvd56_s1"
      },
      "source": [
        "# Runtime: 28 ms            Your runtime beats 97.57 % of python3 submissions.\n",
        "# Memory Usage: 14.3 MB     Your memory usage beats 77.04 % of python3 submissions.\n",
        "\n",
        "import heapq\n",
        "\n",
        "class Solution:\n",
        "    def stoneGame(self, piles: List[int]) -> bool:\n",
        "        \n",
        "        stack = []\n",
        "        A, i = 0, 0\n",
        "        \n",
        "        for p in piles :\n",
        "            stack.append(-p)\n",
        "        \n",
        "        heapq.heapify(stack)\n",
        "        \n",
        "        while stack :\n",
        "            \n",
        "            if i%2 :\n",
        "                A += heapq.heappop(stack)\n",
        "            else :\n",
        "                A -= heapq.heappop(stack)\n",
        "                \n",
        "            i += 1\n",
        "                \n",
        "        return A > 0"
      ],
      "execution_count": null,
      "outputs": []
    }
  ]
}