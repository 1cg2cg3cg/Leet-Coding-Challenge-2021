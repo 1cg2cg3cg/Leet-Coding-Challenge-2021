{
  "nbformat": 4,
  "nbformat_minor": 0,
  "metadata": {
    "colab": {
      "name": "Week 2 : Flip String to Monotone Increasing.ipynb",
      "provenance": [],
      "collapsed_sections": [],
      "authorship_tag": "ABX9TyPWd5ZLJjeaba1v14ORcVGA",
      "include_colab_link": true
    },
    "kernelspec": {
      "name": "python3",
      "display_name": "Python 3"
    },
    "language_info": {
      "name": "python"
    }
  },
  "cells": [
    {
      "cell_type": "markdown",
      "metadata": {
        "id": "view-in-github",
        "colab_type": "text"
      },
      "source": [
        "<a href=\"https://colab.research.google.com/github/1cg2cg3cg/Leet-Coding-Challenge-2021/blob/master/August-Leetcoding-Challenge/Week_2/Flip_String_to_Monotone_Increasing.ipynb\" target=\"_parent\"><img src=\"https://colab.research.google.com/assets/colab-badge.svg\" alt=\"Open In Colab\"/></a>"
      ]
    },
    {
      "cell_type": "code",
      "metadata": {
        "id": "Zh0sYf0QE0kH"
      },
      "source": [
        "# timeout\n",
        "\n",
        "class Solution:\n",
        "    def minFlipsMonoIncr(self, s: str) -> int:\n",
        "        answer = min(s.count('0'), s.count('1'))\n",
        "        stack = [0, len(s)-1]\n",
        "        \n",
        "        for i in range(1,len(s)) :\n",
        "            if s[i] != s[i-1] :\n",
        "                stack.append(i)\n",
        "        \n",
        "        for i in stack :\n",
        "            left = s[:i]\n",
        "            right = s[i:]\n",
        "            \n",
        "            answer = min(answer,left.count('1') + right.count('0'))\n",
        "                \n",
        "        return answer"
      ],
      "execution_count": null,
      "outputs": []
    },
    {
      "cell_type": "code",
      "metadata": {
        "id": "WiD_kXRpEvzQ"
      },
      "source": [
        "# Runtime: 228 ms           Your runtime beats 10.08 % of python3 submissions.\n",
        "# Memory Usage: 15 MB       Your memory usage beats 34.11 % of python3 submissions.\n",
        "\n",
        "class Solution:\n",
        "    def minFlipsMonoIncr(self, s: str) -> int:\n",
        "        \n",
        "        ones = s.count('1')\n",
        "        answer = ones\n",
        "        zeroes = 0\n",
        "        \n",
        "        for i in range(len(s)-1, -1, -1) :\n",
        "            \n",
        "            if s[i] == '0' :\n",
        "                zeroes += 1\n",
        "            else :\n",
        "                ones -= 1\n",
        "                \n",
        "            answer = min(answer, zeroes + ones)\n",
        "            \n",
        "        return answer"
      ],
      "execution_count": null,
      "outputs": []
    },
    {
      "cell_type": "code",
      "metadata": {
        "id": "3-18WbxcFYOO"
      },
      "source": [
        "# Runtime: 228 ms           Your runtime beats 10.08 % of python3 submissions.\n",
        "# Memory Usage: 15 MB       Your memory usage beats 54.65 % of python3 submissions\n",
        "# reference : https://www.youtube.com/watch?v=5ED9FWxZ7CY&ab_channel=ProgrammingLivewithLarry\n",
        "\n",
        "class Solution:\n",
        "    def minFlipsMonoIncr(self, s: str) -> int:\n",
        "        N = len(s)\n",
        "        ones = s.count('1')\n",
        "        answer = ones\n",
        "        zeroes = 0\n",
        "        \n",
        "        for i in range(N-1, -1, -1) :\n",
        "            \n",
        "            if s[i] == '0' :\n",
        "                zeroes += 1\n",
        "            else :\n",
        "                ones -= 1\n",
        "                \n",
        "            answer = min(answer, zeroes + ones)\n",
        "            \n",
        "        return answer"
      ],
      "execution_count": null,
      "outputs": []
    },
    {
      "cell_type": "code",
      "metadata": {
        "id": "F9UYiwXUHgte"
      },
      "source": [
        "# \n",
        "\n",
        "class Solution:\n",
        "    def minFlipsMonoIncr(self, s: str) -> int:\n",
        "        flip = 0\n",
        "        ones = 0\n",
        "        for c in s:\n",
        "            if c == '1':\n",
        "                ones += 1\n",
        "            else:\n",
        "                flip += 1\n",
        "            flip = min(flip, ones)\n",
        "            \n",
        "        return flip"
      ],
      "execution_count": null,
      "outputs": []
    }
  ]
}