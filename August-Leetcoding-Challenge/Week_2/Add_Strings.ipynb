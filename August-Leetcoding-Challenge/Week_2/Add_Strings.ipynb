{
  "nbformat": 4,
  "nbformat_minor": 0,
  "metadata": {
    "colab": {
      "name": "Week 2 : Add Strings.ipynb",
      "provenance": [],
      "authorship_tag": "ABX9TyNf0uTSQQ87Lz12TwRo48Ve",
      "include_colab_link": true
    },
    "kernelspec": {
      "name": "python3",
      "display_name": "Python 3"
    },
    "language_info": {
      "name": "python"
    }
  },
  "cells": [
    {
      "cell_type": "markdown",
      "metadata": {
        "id": "view-in-github",
        "colab_type": "text"
      },
      "source": [
        "<a href=\"https://colab.research.google.com/github/1cg2cg3cg/Leet-Coding-Challenge-2021/blob/master/August-Leetcoding-Challenge/Week_2/Add_Strings.ipynb\" target=\"_parent\"><img src=\"https://colab.research.google.com/assets/colab-badge.svg\" alt=\"Open In Colab\"/></a>"
      ]
    },
    {
      "cell_type": "code",
      "metadata": {
        "id": "ilflESdOzQmk"
      },
      "source": [
        "# Runtime: 36 ms            Your runtime beats 81.26 % of python3 submissions.\n",
        "# Memory Usage: 14.2 MB     Your memory usage beats 94.79 % of python3 submissions.\n",
        "\n",
        "class Solution:\n",
        "    def addStrings(self, num1: str, num2: str) -> str:\n",
        "        return str(int(num1) + int(num2))"
      ],
      "execution_count": null,
      "outputs": []
    },
    {
      "cell_type": "code",
      "metadata": {
        "id": "3Kp8Pum_zcPR"
      },
      "source": [
        "# Runtime: 60 ms            Your runtime beats 14.33 % of python3 submissions.\n",
        "# Memory Usage: 14.5 MB     Your memory usage beats 39.95 % of python3 submissions.\n",
        "\n",
        "class Solution:\n",
        "    def addStrings(self, num1: str, num2: str) -> str:\n",
        "        \n",
        "        num1 = list(num1)\n",
        "        num2 = list(num2)\n",
        "        answer, mul = 0, 1\n",
        "        \n",
        "        while num1 :\n",
        "            answer += int(num1.pop())*mul\n",
        "            mul *= 10\n",
        "            \n",
        "        mul = 1\n",
        "        while num2 :\n",
        "            answer += int(num2.pop())*mul\n",
        "            mul *= 10\n",
        "            \n",
        "        return str(answer)"
      ],
      "execution_count": null,
      "outputs": []
    },
    {
      "cell_type": "code",
      "metadata": {
        "id": "SNKrrNzDzjqk"
      },
      "source": [
        "# Runtime: 28 ms            Your runtime beats 97.00 % of python3 submissions.\n",
        "# Memory Usage: 14.4 MB     Your memory usage beats 64.52 % of python3 submissions.\n",
        "\n",
        "# solver : DBabichev\n",
        "# link : https://leetcode.com/problems/add-strings/discuss/1392783/Python-schoolbook-summation-explained\n",
        "\n",
        "class Solution:\n",
        "    def addStrings(self, num1, num2):\n",
        "        l1, l2, carry, ans = len(num1) - 1, len(num2) - 1, 0, []\n",
        "        while l1 >= 0 or l2 >= 0 or carry:\n",
        "            d1 = int(num1[l1]) if l1 >= 0 else 0\n",
        "            d2 = int(num2[l2]) if l2 >= 0 else 0\n",
        "            carry, digit = divmod(d1 + d2 + carry, 10)\n",
        "            ans += [str(digit)]\n",
        "            l1, l2 = l1 - 1, l2 - 1\n",
        "        \n",
        "        return \"\".join(ans[::-1])"
      ],
      "execution_count": null,
      "outputs": []
    }
  ]
}