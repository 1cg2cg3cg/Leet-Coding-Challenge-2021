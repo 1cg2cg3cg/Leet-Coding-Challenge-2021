{
  "nbformat": 4,
  "nbformat_minor": 0,
  "metadata": {
    "colab": {
      "name": "Week 2 : Array of Doubled Pairs.ipynb",
      "provenance": [],
      "authorship_tag": "ABX9TyPq+NSaF+rzz+0a2W3wUcEx",
      "include_colab_link": true
    },
    "kernelspec": {
      "name": "python3",
      "display_name": "Python 3"
    },
    "language_info": {
      "name": "python"
    }
  },
  "cells": [
    {
      "cell_type": "markdown",
      "metadata": {
        "id": "view-in-github",
        "colab_type": "text"
      },
      "source": [
        "<a href=\"https://colab.research.google.com/github/1cg2cg3cg/Leet-Coding-Challenge-2021/blob/master/August-Leetcoding-Challenge/Week_2/Array_of_Doubled_Pairs.ipynb\" target=\"_parent\"><img src=\"https://colab.research.google.com/assets/colab-badge.svg\" alt=\"Open In Colab\"/></a>"
      ]
    },
    {
      "cell_type": "code",
      "metadata": {
        "id": "GY2PeND-Mvv5"
      },
      "source": [
        "# Runtime: 772 ms           Your runtime beats 21.53 % of python3 submissions.\n",
        "# Memory Usage: 16.8 MB     Your memory usage beats 29.66 % of python3 submissions.\n",
        "\n",
        "import collections\n",
        "\n",
        "class Solution:\n",
        "    def canReorderDoubled(self, arr: List[int]) -> bool:\n",
        "        \n",
        "        c = collections.Counter(arr)\n",
        "\n",
        "        for num in sorted(arr, key = lambda x : abs(x)) :\n",
        "            if c[num] == 0 : continue\n",
        "            if c[2*num] == 0 : return False\n",
        "            \n",
        "            c[num] -= 1\n",
        "            c[2*num] -= 1\n",
        "            \n",
        "        return True"
      ],
      "execution_count": null,
      "outputs": []
    },
    {
      "cell_type": "code",
      "metadata": {
        "id": "wn1_PHqpMqx-"
      },
      "source": [
        "# sample 544 ms submission\n",
        "\n",
        "class Solution:\n",
        "    def canReorderDoubled(self, arr: List[int]) -> bool:\n",
        "        from collections import Counter\n",
        "        cnt = Counter(arr)\n",
        "        for num in sorted(cnt, key = lambda x:abs(x)):\n",
        "            if cnt[num * 2] >= cnt[num]:\n",
        "                cnt[num * 2] -= cnt[num]\n",
        "            else:\n",
        "                return False\n",
        "        return True"
      ],
      "execution_count": null,
      "outputs": []
    }
  ]
}