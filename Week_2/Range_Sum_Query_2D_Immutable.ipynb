{
  "nbformat": 4,
  "nbformat_minor": 0,
  "metadata": {
    "colab": {
      "name": "Week 2 : Range Sum Query 2D - Immutable.ipynb",
      "provenance": [],
      "collapsed_sections": [],
      "authorship_tag": "ABX9TyMcnaFjMKZj3D8Zf8uvZaLx",
      "include_colab_link": true
    },
    "kernelspec": {
      "name": "python3",
      "display_name": "Python 3"
    },
    "language_info": {
      "name": "python"
    }
  },
  "cells": [
    {
      "cell_type": "markdown",
      "metadata": {
        "id": "view-in-github",
        "colab_type": "text"
      },
      "source": [
        "<a href=\"https://colab.research.google.com/github/1cg2cg3cg/May-Leetcoding-Challenge-2021/blob/main/Week_2/Range_Sum_Query_2D_Immutable.ipynb\" target=\"_parent\"><img src=\"https://colab.research.google.com/assets/colab-badge.svg\" alt=\"Open In Colab\"/></a>"
      ]
    },
    {
      "cell_type": "code",
      "metadata": {
        "id": "alg3sscF2_qR"
      },
      "source": [
        "# Runtime: 116 ms           Your runtime beats 45.45 % of python3 submissions.\n",
        "# Memory Usage: 17.3 MB     Your memory usage beats 53.93 % of python3 submissions.\n",
        "# trade-off between speed and memory....\n",
        "\n",
        "## accumulative sum solution\n",
        "\n",
        "class NumMatrix:\n",
        "\n",
        "    def __init__(self, matrix: List[List[int]]):\n",
        "        self.mat = [[0 for _ in range(len(matrix[0]))] for _ in range(len(matrix))]\n",
        "        \n",
        "        for i in range(len(matrix)) :   # accumulative sum\n",
        "            if i == 0 : \n",
        "                self.mat[0] = matrix[0]\n",
        "                continue\n",
        "                \n",
        "            for j in range(len(matrix[0])) :                    \n",
        "                self.mat[i][j] = self.mat[i-1][j] + matrix[i][j]\n",
        "\n",
        "\n",
        "    def sumRegion(self, row1: int, col1: int, row2: int, col2: int) -> int:\n",
        "        if row1 == 0 :      # exception handling : mat[0-1] = mat[-1]. it is not my intension\n",
        "            return sum(self.mat[row2][col1:col2+1])\n",
        "        else :\n",
        "            return sum(self.mat[row2][col1:col2+1]) - sum(self.mat[row1-1][col1:col2+1])\n",
        "\n",
        "\n",
        "# Your NumMatrix object will be instantiated and called as such:\n",
        "# obj = NumMatrix(matrix)\n",
        "# param_1 = obj.sumRegion(row1,col1,row2,col2)"
      ],
      "execution_count": null,
      "outputs": []
    },
    {
      "cell_type": "code",
      "metadata": {
        "id": "mt_h9yTWiv7H"
      },
      "source": [
        "# Runtime: 1536 ms          Your runtime beats 15.18 % of python3 submissions.\n",
        "# Memory Usage: 16.7 MB     Your memory usage beats 90.03 % of python3 submissions.\n",
        "\n",
        "## B.F. solution\n",
        "class NumMatrix:\n",
        "\n",
        "    def __init__(self, matrix: List[List[int]]):\n",
        "        self.mat = matrix\n",
        "\n",
        "    def sumRegion(self, row1: int, col1: int, row2: int, col2: int) -> int:\n",
        "        res = 0\n",
        "        for r in range(row1, row2+1) :\n",
        "            res += sum(self.mat[r][col1:col2+1])\n",
        "            \n",
        "        return res\n",
        "\n",
        "\n",
        "# Your NumMatrix object will be instantiated and called as such:\n",
        "# obj = NumMatrix(matrix)\n",
        "# param_1 = obj.sumRegion(row1,col1,row2,col2)"
      ],
      "execution_count": null,
      "outputs": []
    }
  ]
}