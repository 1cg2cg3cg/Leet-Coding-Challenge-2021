{
  "nbformat": 4,
  "nbformat_minor": 0,
  "metadata": {
    "colab": {
      "name": "Week 2 : Flatten Binary Tree to Linked List.ipynb",
      "provenance": [],
      "collapsed_sections": [],
      "authorship_tag": "ABX9TyPAW/n3H01ij0qwQioPY7Pz",
      "include_colab_link": true
    },
    "kernelspec": {
      "name": "python3",
      "display_name": "Python 3"
    },
    "language_info": {
      "name": "python"
    }
  },
  "cells": [
    {
      "cell_type": "markdown",
      "metadata": {
        "id": "view-in-github",
        "colab_type": "text"
      },
      "source": [
        "<a href=\"https://colab.research.google.com/github/1cg2cg3cg/May-Leetcoding-Challenge-2021/blob/main/Week_2/Flatten_Binary_Tree_to_Linked_List.ipynb\" target=\"_parent\"><img src=\"https://colab.research.google.com/assets/colab-badge.svg\" alt=\"Open In Colab\"/></a>"
      ]
    },
    {
      "cell_type": "code",
      "metadata": {
        "id": "1kwLLfvLhwpV"
      },
      "source": [
        "# Runtime: 32 ms            # Your runtime beats 91.79 % of python3 submissions.\n",
        "# Memory Usage: 15.4 MB     \n",
        "\n",
        "# Definition for a binary tree node.\n",
        "# class TreeNode:\n",
        "#     def __init__(self, val=0, left=None, right=None):\n",
        "#         self.val = val\n",
        "#         self.left = left\n",
        "#         self.right = right\n",
        "class Solution:\n",
        "    def flatten(self, root: TreeNode) -> None:\n",
        "        \"\"\"\n",
        "        Do not return anything, modify root in-place instead.\n",
        "        \"\"\"\n",
        "                \n",
        "        stack = []\n",
        "        def dfs(node) :     # find all valid node\n",
        "            \n",
        "            if node == None : return\n",
        "            \n",
        "            stack.append(node.val)\n",
        "            \n",
        "            dfs(node.left)\n",
        "            dfs(node.right)\n",
        "            \n",
        "        dfs(root)\n",
        "        \n",
        "        while len(stack) > 1 :  ## link the values except the root(the start point)\n",
        "            root.left = None\n",
        "            root.right = TreeNode(stack.pop(1))\n",
        "            \n",
        "            root = root.right"
      ],
      "execution_count": null,
      "outputs": []
    },
    {
      "cell_type": "code",
      "metadata": {
        "id": "8sD_WtooHpwX"
      },
      "source": [
        "# solver : girikuncoro\n",
        "# https://leetcode.com/problems/flatten-binary-tree-to-linked-list/discuss/37154/8-lines-of-python-solution-(reverse-preorder-traversal)\n",
        "\n",
        "def __init__(self):\n",
        "    self.prev = None\n",
        "    \n",
        "def flatten(self, root):\n",
        "    if not root:\n",
        "        return None\n",
        "    self.flatten(root.right)\n",
        "    self.flatten(root.left)\n",
        "    \n",
        "    root.right = self.prev\n",
        "    root.left = None\n",
        "    self.prev = root"
      ],
      "execution_count": null,
      "outputs": []
    },
    {
      "cell_type": "markdown",
      "metadata": {
        "id": "0LELvaJCHsc2"
      },
      "source": [
        "Commentator : 2014bduck\n",
        "\n",
        "\t    root\n",
        "        / \n",
        "        1 \n",
        "      /  |\n",
        "    3    4  \n",
        "Let's see what is happening with this code.\n",
        "\n",
        "    Node(4).right = None\n",
        "    Node(4).left = None\n",
        "    prev = Node(4)\n",
        "    Node(3).right = Node(4) (prev)\n",
        "    Node(3).left = None\n",
        "    prev = Node(3)->Node(4)\n",
        "    Node(1).right = prev = Node(3) -> Node(4)\n",
        "    Node(1).left = None\n",
        "    prev = Node(1)->Node(3)->Node(4) (Which is the answer)\n",
        "\n",
        "The answer use self.prev to recode the ordered tree of the right part of current node.\n",
        "Remove the left part of current node"
      ]
    }
  ]
}