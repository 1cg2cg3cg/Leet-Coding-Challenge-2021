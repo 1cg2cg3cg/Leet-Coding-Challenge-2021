{
  "nbformat": 4,
  "nbformat_minor": 0,
  "metadata": {
    "colab": {
      "name": "Week 2 : Count Primes.ipynb",
      "provenance": [],
      "collapsed_sections": [],
      "authorship_tag": "ABX9TyPcGG+PgxDLl4guFzbxPhEe",
      "include_colab_link": true
    },
    "kernelspec": {
      "name": "python3",
      "display_name": "Python 3"
    },
    "language_info": {
      "name": "python"
    }
  },
  "cells": [
    {
      "cell_type": "markdown",
      "metadata": {
        "id": "view-in-github",
        "colab_type": "text"
      },
      "source": [
        "<a href=\"https://colab.research.google.com/github/1cg2cg3cg/May-Leetcoding-Challenge-2021/blob/main/Week_2/Count_Primes.ipynb\" target=\"_parent\"><img src=\"https://colab.research.google.com/assets/colab-badge.svg\" alt=\"Open In Colab\"/></a>"
      ]
    },
    {
      "cell_type": "code",
      "metadata": {
        "id": "TScdZXsW0epl"
      },
      "source": [
        "class Solution:\n",
        "    def countPrimes(self, n: int) -> int:\n",
        "        primes = [1] * n\n",
        "        if n <= 2 : return 0\n",
        "        \n",
        "        for num in range(2,int(math.sqrt(n))+1) :\n",
        "            if primes[num] == 0 : continue  ## has already been determined as not a prime number\n",
        "                \n",
        "            for i in range(2, num) :\n",
        "                if i == num : continue  ## except itself\n",
        "\n",
        "                if num % i == 0 : ## not a prime number\n",
        "                    break\n",
        "                \n",
        "            else :\n",
        "                k = num**2   ## Sieve of Eratosthenes\n",
        "                while k < n :   ## if it is prime number, remove the number of multiples\n",
        "                    primes[k] = 0\n",
        "                    k += num\n",
        "        \n",
        "        return sum(primes) - 2  ## except 0 and 1"
      ],
      "execution_count": null,
      "outputs": []
    },
    {
      "cell_type": "markdown",
      "metadata": {
        "id": "6E09nbSI0j7R"
      },
      "source": [
        "### Hint 1\n",
        "\n",
        "Let's start with a isPrime function. To determine if a number is prime, we need to check if it is not divisible by any number less than n. The runtime complexity of isPrime function would be O(n) and hence counting the total prime numbers up to n would be O(n2). Could we do better?\n",
        "\n",
        "### Hint 2\n",
        "\n",
        "As we know the number must not be divisible by any number > n / 2, we can immediately cut the total iterations half by dividing only up to n / 2. Could we still do better?\n",
        "\n",
        "\n",
        "### Hint 3\n",
        "\n",
        "Let's write down all of 12's factors:\n",
        "\n",
        "    2 × 6 = 12\n",
        "    3 × 4 = 12\n",
        "    4 × 3 = 12\n",
        "    6 × 2 = 12\n",
        "\n",
        "As you can see, calculations of 4 × 3 and 6 × 2 are not necessary. Therefore, we only need to consider factors up to √n because, if n is divisible by some number p, then n = p × q and since p ≤ q, we could derive that p ≤ √n.\n",
        "\n",
        "Our total runtime has now improved to O(n1.5), which is slightly better. Is there a faster approach?\n",
        "\n",
        "    public int countPrimes(int n) {\n",
        "    int count = 0;\n",
        "    for (int i = 1; i < n; i++) {\n",
        "        if (isPrime(i)) count++;\n",
        "    }\n",
        "    return count;\n",
        "    }\n",
        "\n",
        "    private boolean isPrime(int num) {\n",
        "    if (num <= 1) return false;\n",
        "    // Loop's ending condition is i * i <= num instead of i <= sqrt(num)\n",
        "    // to avoid repeatedly calling an expensive function sqrt().\n",
        "    for (int i = 2; i * i <= num; i++) {\n",
        "        if (num % i == 0) return false;\n",
        "    }\n",
        "    return true;\n",
        "    }\n",
        "\n",
        "### Hint 4\n",
        "The Sieve of Eratosthenes is one of the most efficient ways to find all prime numbers up to n. But don't let that name scare you, I promise that the concept is surprisingly simple.\n",
        "\n",
        "![img](https://leetcode.com/static/images/solutions/Sieve_of_Eratosthenes_animation.gif)\n",
        "\n",
        "Sieve of Eratosthenes: algorithm steps for primes below 121. \"Sieve of Eratosthenes Animation\" by SKopp is licensed under CC BY 2.0.\n",
        "\n",
        "We start off with a table of n numbers. Let's look at the first number, 2. We know all multiples of 2 must not be primes, so we mark them off as non-primes. Then we look at the next number, 3. Similarly, all multiples of 3 such as 3 × 2 = 6, 3 × 3 = 9, ... must not be primes, so we mark them off as well. Now we look at the next number, 4, which was already marked off. What does this tell you? Should you mark off all multiples of 4 as well?\n",
        "\n",
        "### Hint 5\n",
        "4 is not a prime because it is divisible by 2, which means all multiples of 4 must also be divisible by 2 and were already marked off. So we can skip 4 immediately and go to the next number, 5. Now, all multiples of 5 such as 5 × 2 = 10, 5 × 3 = 15, 5 × 4 = 20, 5 × 5 = 25, ... can be marked off. There is a slight optimization here, we do not need to start from 5 × 2 = 10. Where should we start marking off?\n",
        "\n",
        "### Hint 6\n",
        "In fact, we can mark off multiples of 5 starting at 5 × 5 = 25, because 5 × 2 = 10 was already marked off by multiple of 2, similarly 5 × 3 = 15 was already marked off by multiple of 3. Therefore, if the current number is p, we can always mark off multiples of p starting at p2, then in increments of p: p2 + p, p2 + 2p, ... Now what should be the terminating loop condition?\n",
        "\n",
        "### Hint 7\n",
        "It is easy to say that the terminating loop condition is p < n, which is certainly correct but not efficient. Do you still remember Hint #3?\n",
        "\n",
        "### Hint 8\n",
        "Yes, the terminating loop condition can be p < √n, as all non-primes ≥ √n must have already been marked off. When the loop terminates, all the numbers in the table that are non-marked are prime.\n",
        "\n",
        "The Sieve of Eratosthenes uses an extra O(n) memory and its runtime complexity is O(n log log n). For the more mathematically inclined readers, you can read more about its algorithm complexity on Wikipedia.\n",
        "\n",
        "    public int countPrimes(int n) {\n",
        "    boolean[] isPrime = new boolean[n];\n",
        "    for (int i = 2; i < n; i++) {\n",
        "        isPrime[i] = true;\n",
        "    }\n",
        "    // Loop's ending condition is i * i < n instead of i < sqrt(n)\n",
        "    // to avoid repeatedly calling an expensive function sqrt().\n",
        "    for (int i = 2; i * i < n; i++) {\n",
        "        if (!isPrime[i]) continue;\n",
        "        for (int j = i * i; j < n; j += i) {\n",
        "            isPrime[j] = false;\n",
        "        }\n",
        "    }\n",
        "    int count = 0;\n",
        "    for (int i = 2; i < n; i++) {\n",
        "        if (isPrime[i]) count++;\n",
        "    }\n",
        "    return count;\n",
        "    }\n",
        "\n"
      ]
    }
  ]
}