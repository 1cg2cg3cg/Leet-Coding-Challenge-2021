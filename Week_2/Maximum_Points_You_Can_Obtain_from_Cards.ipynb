{
  "nbformat": 4,
  "nbformat_minor": 0,
  "metadata": {
    "colab": {
      "name": "Week 2 : Maximum Points You Can Obtain from Cards.ipynb",
      "provenance": [],
      "collapsed_sections": [],
      "authorship_tag": "ABX9TyN3KIM+3Ry6MYeMhmDWK007",
      "include_colab_link": true
    },
    "kernelspec": {
      "name": "python3",
      "display_name": "Python 3"
    },
    "language_info": {
      "name": "python"
    }
  },
  "cells": [
    {
      "cell_type": "markdown",
      "metadata": {
        "id": "view-in-github",
        "colab_type": "text"
      },
      "source": [
        "<a href=\"https://colab.research.google.com/github/1cg2cg3cg/May-Leetcoding-Challenge-2021/blob/main/Week_2/Maximum_Points_You_Can_Obtain_from_Cards.ipynb\" target=\"_parent\"><img src=\"https://colab.research.google.com/assets/colab-badge.svg\" alt=\"Open In Colab\"/></a>"
      ]
    },
    {
      "cell_type": "markdown",
      "metadata": {
        "id": "2f6X4Hr2CzeE"
      },
      "source": [
        "#Slicing\n",
        "\n",
        "Slice operations require more thought. To access the slice [a:b] of a list, we must iterate over every element between indices a and b. So, slice access is <u> **O(k)**</u>, where <u>**k**</u> is the size of the slice. Deleting a slice is <u> **O(n)**</u> for the same reason that deleting a single element is <u>***O(n): n***</u>subsequent elements must be shifted toward the list's beginning.\n",
        "\n",
        "\n",
        "# Indexing & Assigning\n",
        "\n",
        "Two common operations are indexing and assigning to an index position. In Python lists, values are assigned to and retrieved from specific, known memory locations. No matter how large the list is, index lookup and assignment take a constant amount of time and are thus <u>***O(1)***</u>.\n"
      ]
    },
    {
      "cell_type": "code",
      "metadata": {
        "id": "obZNRXinsoP7"
      },
      "source": [
        "class Solution:\n",
        "    def maxScore(self, cardPoints: List[int], k: int) -> int:\n",
        "        \n",
        "        \n",
        "        n = len(cardPoints)\n",
        "        cur = sum(cardPoints[:-k])  # the sum of the first rest cards\n",
        "\n",
        "        print(cardPoints[:-k])\n",
        "        \n",
        "        total = sum(cardPoints)\n",
        "        max_val = total - cur\n",
        "        \n",
        "        for i in range(k) :\n",
        "            #print(cardPoints[-k+i], cardPoints[i])\n",
        "            cur = cur + cardPoints[n-k+i] - cardPoints[i]\n",
        "            #print(cur, cardPoints[n-k+i])\n",
        "            max_val = max(max_val, total - cur)\n",
        "                        \n",
        "        return max_val\n",
        "\n",
        "# sliding window 방식인데, 실제로 슬라이드가 이동하는 것이 아니라 이동하는 모양으로 해당 요소를 빼고 더하는 방식\n",
        "# indexing이 slicing보다 빠른 것을 활용!"
      ],
      "execution_count": null,
      "outputs": []
    }
  ]
}