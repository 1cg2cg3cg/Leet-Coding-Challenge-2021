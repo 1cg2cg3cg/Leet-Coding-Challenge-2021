{
  "nbformat": 4,
  "nbformat_minor": 0,
  "metadata": {
    "colab": {
      "name": "Week 2 : Jump Game VI.ipynb",
      "provenance": [],
      "collapsed_sections": [],
      "authorship_tag": "ABX9TyPe5Yi0lBTmY44hQVQ7cTTq",
      "include_colab_link": true
    },
    "kernelspec": {
      "name": "python3",
      "display_name": "Python 3"
    },
    "language_info": {
      "name": "python"
    }
  },
  "cells": [
    {
      "cell_type": "markdown",
      "metadata": {
        "id": "view-in-github",
        "colab_type": "text"
      },
      "source": [
        "<a href=\"https://colab.research.google.com/github/1cg2cg3cg/Leet-Coding-Challenge-2021/blob/master/June-LeetCoding-Challenge-2021/Week_2/Jump_Game_VI.ipynb\" target=\"_parent\"><img src=\"https://colab.research.google.com/assets/colab-badge.svg\" alt=\"Open In Colab\"/></a>"
      ]
    },
    {
      "cell_type": "code",
      "metadata": {
        "id": "I-7lcyMO5Y9g"
      },
      "source": [
        "# DP\n",
        "# Runtime: 936 ms           Your runtime beats 97.60 % of python3 submissions.\n",
        "# Memory Usage: 24.1 MB     # not good\n",
        "\n",
        "# the only changed is removing the temp variable(tmp).\n",
        "# pop the target(cur) element, sum then push it.\n",
        "import collections\n",
        "\n",
        "class Solution:\n",
        "    def maxResult(self, nums: List[int], k: int) -> int:\n",
        "        \n",
        "        stack = collections.deque()     # we need to popleft()\n",
        "        stack.append(nums.pop())        # direction is from the end to start\n",
        "                                        # and we always have to visit the last element.\n",
        "        while nums :\n",
        "            \n",
        "            stack.append(stack[0] + nums.pop())  # stack[0] is always the maximum sum from the end\n",
        "            \n",
        "            if len(stack) > k : stack.popleft()  # keep the window size\n",
        "                \n",
        "            while stack[-1] > stack[0] :        # keep the stack[0] is the maximum value\n",
        "                stack.popleft()\n",
        "            \n",
        "        return stack[-1]"
      ],
      "execution_count": null,
      "outputs": []
    },
    {
      "cell_type": "code",
      "metadata": {
        "id": "V95UeY9a5QKC"
      },
      "source": [
        "# DP\n",
        "# Runtime: 1436 ms          Your runtime beats 7.93 % of python3 submissions.\n",
        "# Memory Usage: 24.2 MB     # not good\n",
        "import collections\n",
        "\n",
        "class Solution:\n",
        "    def maxResult(self, nums: List[int], k: int) -> int:\n",
        "        \n",
        "        stack = collections.deque()\n",
        "        stack.append(nums.pop())\n",
        "        \n",
        "        while nums :\n",
        "            \n",
        "            tmp = stack[0] + nums.pop()\n",
        "            \n",
        "            stack.append(tmp)\n",
        "            \n",
        "            if len(stack) > k : stack.popleft()\n",
        "                \n",
        "            while stack[-1] > stack[0] :\n",
        "                stack.popleft()\n",
        "            \n",
        "        return stack[-1]"
      ],
      "execution_count": null,
      "outputs": []
    },
    {
      "cell_type": "code",
      "metadata": {
        "id": "ss1AVY4A4Amv"
      },
      "source": [
        "# timeout\n",
        "\n",
        "class Solution:\n",
        "    def maxResult(self, nums: List[int], k: int) -> int:\n",
        "        \n",
        "        for i in range(len(nums)-2, -1, -1) :\n",
        "\n",
        "            if len(nums) - i <= k : \n",
        "                nums[i] += max(max(nums[i+1:]), nums[-1])\n",
        "            else :\n",
        "                nums[i] += max(nums[i+1:i+k+1])\n",
        "            \n",
        "        return nums[0]"
      ],
      "execution_count": null,
      "outputs": []
    }
  ]
}