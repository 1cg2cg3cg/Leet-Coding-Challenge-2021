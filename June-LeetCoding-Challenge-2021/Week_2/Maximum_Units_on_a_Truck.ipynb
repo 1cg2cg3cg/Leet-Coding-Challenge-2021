{
  "nbformat": 4,
  "nbformat_minor": 0,
  "metadata": {
    "colab": {
      "name": "Week 2 : Maximum Units on a Truck.ipynb",
      "provenance": [],
      "collapsed_sections": [],
      "authorship_tag": "ABX9TyPbZEqu23SwxGlOa1DAm3aU",
      "include_colab_link": true
    },
    "kernelspec": {
      "name": "python3",
      "display_name": "Python 3"
    },
    "language_info": {
      "name": "python"
    }
  },
  "cells": [
    {
      "cell_type": "markdown",
      "metadata": {
        "id": "view-in-github",
        "colab_type": "text"
      },
      "source": [
        "<a href=\"https://colab.research.google.com/github/1cg2cg3cg/Leet-Coding-Challenge-2021/blob/master/June-LeetCoding-Challenge-2021/Week_2/Maximum_Units_on_a_Truck.ipynb\" target=\"_parent\"><img src=\"https://colab.research.google.com/assets/colab-badge.svg\" alt=\"Open In Colab\"/></a>"
      ]
    },
    {
      "cell_type": "code",
      "metadata": {
        "id": "ClZbPGE2nlHi"
      },
      "source": [
        "# using heap, beat 70.83% of python3 submissions.\n",
        "\n",
        "# Runtime: 168 ms           Your runtime beats 34.56 % of python3 submissions.\n",
        "# Memory Usage: 14.8 MB     Your memory usage beats 70.83 % of python3 submissions.\n",
        "\n",
        "import heapq\n",
        "class Solution:\n",
        "    def maximumUnits(self, boxTypes: List[List[int]], truckSize: int) -> int:\n",
        "        heap = []\n",
        "        for i, j in boxTypes :\n",
        "            heapq.heappush(heap, [-j, i])\n",
        "        \n",
        "        answer = 0\n",
        "        while truckSize > 0 and heap :\n",
        "            \n",
        "            b, a = heapq.heappop(heap)\n",
        "            \n",
        "            if truckSize >= a :\n",
        "                answer += a * -b\n",
        "                truckSize -= a\n",
        "            \n",
        "            else : return answer + truckSize * -b\n",
        "            \n",
        "        return answer"
      ],
      "execution_count": null,
      "outputs": []
    },
    {
      "cell_type": "code",
      "metadata": {
        "id": "-2W3JDmYku7q"
      },
      "source": [
        "# Runtime: 144 ms           Your runtime beats 97.01 % of python3 submissions.\n",
        "# Memory Usage: 14.9 MB     not good\n",
        "\n",
        "# if I remove the print line, I beat 37.33 % more than before.\n",
        "# print takes so much time and resources.\n",
        "\n",
        "class Solution:\n",
        "    def maximumUnits(self, boxTypes: List[List[int]], truckSize: int) -> int:\n",
        "        boxTypes.sort(key = lambda x : x[1])\n",
        "        answer = 0\n",
        "        \n",
        "        while truckSize > 0 and boxTypes:\n",
        "            \n",
        "            a, b = boxTypes.pop()\n",
        "            \n",
        "            if truckSize >= a :\n",
        "                answer += a * b\n",
        "                truckSize -= a\n",
        "            \n",
        "            else : return answer + truckSize * b\n",
        "            \n",
        "        return answer"
      ],
      "execution_count": null,
      "outputs": []
    },
    {
      "cell_type": "code",
      "metadata": {
        "id": "pNo2Nf92lr0E"
      },
      "source": [
        "# Runtime: 160 ms           Your runtime beats 46.39 % of python3 submissions.\n",
        "# Memory Usage: 15 MB       not good\n",
        "\n",
        "# when I added the expection part, It took more time than before.\n",
        "# in this problem, making a exception is inefficient.\n",
        "\n",
        "class Solution:\n",
        "    def maximumUnits(self, boxTypes: List[List[int]], truckSize: int) -> int:\n",
        "        \n",
        "        if not boxTypes or truckSize == 0 : return 0\n",
        "        \n",
        "        boxTypes.sort(key = lambda x : x[1])\n",
        "        answer = 0\n",
        "        \n",
        "        while truckSize > 0 and boxTypes:\n",
        "            \n",
        "            a, b = boxTypes.pop()\n",
        "            \n",
        "            if truckSize >= a :\n",
        "                answer += a * b\n",
        "                truckSize -= a\n",
        "            \n",
        "            else : return answer + truckSize * b\n",
        "            \n",
        "        return answer"
      ],
      "execution_count": null,
      "outputs": []
    },
    {
      "cell_type": "code",
      "metadata": {
        "id": "4yfCVV4okf4V"
      },
      "source": [
        "# Runtime: 156 ms           Your runtime beats 59.68 % of python3 submissions.\n",
        "# Memory Usage: 14.9 MB     not good\n",
        "\n",
        "class Solution:\n",
        "    def maximumUnits(self, boxTypes: List[List[int]], truckSize: int) -> int:\n",
        "        \n",
        "        boxTypes.sort(key = lambda x : x[1])\n",
        "        answer = 0\n",
        "        print(boxTypes)\n",
        "        \n",
        "        while truckSize > 0 and boxTypes:\n",
        "            \n",
        "            a, b = boxTypes.pop()\n",
        "            \n",
        "            if truckSize >= a :\n",
        "                answer += a * b\n",
        "                truckSize -= a\n",
        "            \n",
        "            else : return answer + truckSize * b\n",
        "            \n",
        "        return answer"
      ],
      "execution_count": null,
      "outputs": []
    }
  ]
}