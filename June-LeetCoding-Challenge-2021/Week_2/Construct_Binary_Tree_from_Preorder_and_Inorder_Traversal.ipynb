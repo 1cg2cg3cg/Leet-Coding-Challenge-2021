{
  "nbformat": 4,
  "nbformat_minor": 0,
  "metadata": {
    "colab": {
      "name": "Week 2 : Construct Binary Tree from Preorder and Inorder Traversal.ipynb",
      "provenance": [],
      "collapsed_sections": [],
      "authorship_tag": "ABX9TyNYiJztAzYnXj5AQ2Hd3vPT",
      "include_colab_link": true
    },
    "kernelspec": {
      "name": "python3",
      "display_name": "Python 3"
    },
    "language_info": {
      "name": "python"
    }
  },
  "cells": [
    {
      "cell_type": "markdown",
      "metadata": {
        "id": "view-in-github",
        "colab_type": "text"
      },
      "source": [
        "<a href=\"https://colab.research.google.com/github/1cg2cg3cg/Leet-Coding-Challenge-2021/blob/master/June-LeetCoding-Challenge-2021/Week_2/Construct_Binary_Tree_from_Preorder_and_Inorder_Traversal.ipynb\" target=\"_parent\"><img src=\"https://colab.research.google.com/assets/colab-badge.svg\" alt=\"Open In Colab\"/></a>"
      ]
    },
    {
      "cell_type": "code",
      "metadata": {
        "id": "BvZK2Z78gXcR"
      },
      "source": [
        "# Runtime: 140 ms           Your runtime beats 46.07 % of python3 submissions.\n",
        "# Memory Usage: 53.2 MB     Your memory usage beats 34.58 % of python3 submissions.\n",
        "\n",
        "# Definition for a binary tree node.\n",
        "# class TreeNode:\n",
        "#     def __init__(self, val=0, left=None, right=None):\n",
        "#         self.val = val\n",
        "#         self.left = left\n",
        "#         self.right = right\n",
        "class Solution:\n",
        "    def buildTree(self, preorder: List[int], inorder: List[int]) -> TreeNode:\n",
        "        \n",
        "        if not preorder or not inorder : return\n",
        "\n",
        "        p = inorder.index(preorder.pop(0))\n",
        "\n",
        "        root = TreeNode(inorder[p])\n",
        "        \n",
        "        root.left = self.buildTree(preorder, inorder[:p])\n",
        "        root.right = self.buildTree(preorder, inorder[p+1:])\n",
        "\n",
        "        return root"
      ],
      "execution_count": null,
      "outputs": []
    },
    {
      "cell_type": "markdown",
      "metadata": {
        "id": "9y8ym76XhP9G"
      },
      "source": [
        "![image](https://i.imgur.com/qZZqFyY.gif)\n",
        "\n",
        "I draw some trees and found this rule after an hour. And I spent more than 30minutes coding it.\n",
        "\n",
        "I beat 50% of people. Some so many insane people who have crazy solutions in the leetcode."
      ]
    }
  ]
}