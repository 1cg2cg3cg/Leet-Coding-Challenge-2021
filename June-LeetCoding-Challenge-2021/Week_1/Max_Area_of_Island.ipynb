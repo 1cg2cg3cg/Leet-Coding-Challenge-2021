{
  "nbformat": 4,
  "nbformat_minor": 0,
  "metadata": {
    "colab": {
      "name": "Week 1 : Max Area of Island.ipynb",
      "provenance": [],
      "collapsed_sections": [],
      "authorship_tag": "ABX9TyPD+Okj+VIgc1So+8YfHosI",
      "include_colab_link": true
    },
    "kernelspec": {
      "name": "python3",
      "display_name": "Python 3"
    },
    "language_info": {
      "name": "python"
    }
  },
  "cells": [
    {
      "cell_type": "markdown",
      "metadata": {
        "id": "view-in-github",
        "colab_type": "text"
      },
      "source": [
        "<a href=\"https://colab.research.google.com/github/1cg2cg3cg/leet-coding-challenge/blob/master/June-LeetCoding-Challenge/Week_1/Max_Area_of_Island.ipynb\" target=\"_parent\"><img src=\"https://colab.research.google.com/assets/colab-badge.svg\" alt=\"Open In Colab\"/></a>"
      ]
    },
    {
      "cell_type": "code",
      "metadata": {
        "id": "TRFkEcbeNYd3"
      },
      "source": [
        "# Runtime: 208 ms           Your runtime beats 5.03 % of python3 submissions.\n",
        "# Memory Usage: 17 MB       Your memory usage beats 30.19 % of python3 submissions.\n",
        "\n",
        "# explore all 4 grids(up, down, left, right) if it is not 0\n",
        "# current grid is not 0, add 1 to count varialbe and mark as vitited\n",
        "# at the end of the search, return it and compare it with the maximum value.\n",
        "\n",
        "class Solution:\n",
        "    def maxAreaOfIsland(self, grid: List[List[int]]) -> int:\n",
        "        m,n = len(grid), len(grid[0])\n",
        "        answer = 0\n",
        "        \n",
        "        def search(x, y) :\n",
        "            \n",
        "            if x < 0 or x >= m or y < 0 or y >= n or grid[x][y] == 0 : return\n",
        "        \n",
        "            grid[x][y] = 0\n",
        "            self.q += 1\n",
        "            \n",
        "            search(x-1,y)\n",
        "            search(x+1,y)\n",
        "            search(x,y-1)\n",
        "            search(x,y+1)\n",
        "            \n",
        "        for i in range(len(grid)) :\n",
        "            for j in range(len(grid[0])) :\n",
        "                if grid[i][j] == 1 :\n",
        "                    self.q = 0\n",
        "                    search(i,j)\n",
        "                    answer = max(answer, self.q)\n",
        "        \n",
        "        return answer"
      ],
      "execution_count": null,
      "outputs": []
    },
    {
      "cell_type": "code",
      "metadata": {
        "id": "MnJrsO-5MfpH"
      },
      "source": [
        "# Runtime: 132 ms           Your runtime beats 83.98 % of python3 submissions.\n",
        "# Memory Usage: 16.3 MB     Your memory usage beats 60.57 % of python3 submissions.\n",
        "# 같은 방식의 recursive solution인데 속도는 2배가 차이난다. self.q를 사용해 값을 계속 저장하고 더해야 하기 때문인 것 같다.\n",
        "\n",
        "class Solution:\n",
        "    def maxAreaOfIsland(self, grid):\n",
        "        \"\"\"\n",
        "        :type grid: List[List[int]]\n",
        "        :rtype: int\n",
        "        \"\"\"\n",
        "        # t: O(rc) s: O(1)\n",
        "        max_area = 0\n",
        "        for r in range(len(grid)):\n",
        "            for c in range(len(grid[r])):\n",
        "                if grid[r][c] == 1:\n",
        "                    max_area = max(max_area, self.explore(grid, r, c))\n",
        "        return max_area\n",
        "    \n",
        "    def explore(self, grid, r, c):\n",
        "        if (r < 0 or r >= len(grid)) or (c < 0 or c >= len(grid[r])):\n",
        "            return 0\n",
        "        if grid[r][c] == 0:\n",
        "            return 0\n",
        "        # mark as visited\n",
        "        grid[r][c] = 0\n",
        "        return 1 + self.explore(grid, r - 1, c) + self.explore(grid, r, c - 1) \\\n",
        "            + self.explore(grid, r + 1, c) + self.explore(grid, r, c + 1) "
      ],
      "execution_count": null,
      "outputs": []
    }
  ]
}
