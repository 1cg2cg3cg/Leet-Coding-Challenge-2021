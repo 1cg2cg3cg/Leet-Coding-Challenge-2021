{
  "nbformat": 4,
  "nbformat_minor": 0,
  "metadata": {
    "colab": {
      "name": "Week 1 : Maximum Area of a Piece of Cake After Horizontal and Vertical Cuts: .ipynb",
      "provenance": [],
      "collapsed_sections": [],
      "authorship_tag": "ABX9TyNALOMbgpvnzezWsU07YGBG",
      "include_colab_link": true
    },
    "kernelspec": {
      "name": "python3",
      "display_name": "Python 3"
    },
    "language_info": {
      "name": "python"
    }
  },
  "cells": [
    {
      "cell_type": "markdown",
      "metadata": {
        "id": "view-in-github",
        "colab_type": "text"
      },
      "source": [
        "<a href=\"https://colab.research.google.com/github/1cg2cg3cg/leet-coding-challenge/blob/master/June-LeetCoding-Challenge-2021/Week_1/Maximum_Area_of_a_Piece_of_Cake_After_Horizontal_and_Vertical_Cuts_.ipynb\" target=\"_parent\"><img src=\"https://colab.research.google.com/assets/colab-badge.svg\" alt=\"Open In Colab\"/></a>"
      ]
    },
    {
      "cell_type": "markdown",
      "metadata": {
        "id": "EGbAnj3o7vlm"
      },
      "source": [
        "Idea : we only need longest length between two neighbor numbers in horizontalCuts and verticalCuts respectively.\n",
        "\n",
        "I have tried many similar ways to compare their speed and memory consumption.\n",
        "\n",
        "There are clear trade-off."
      ]
    },
    {
      "cell_type": "code",
      "metadata": {
        "id": "w7pbpxPM7bV3"
      },
      "source": [
        "# Runtime: 412 ms           Your runtime beats 5.03 % of python3 submissions.\n",
        "# Memory Usage: 27.1 MB     Your memory usage beats 75.56 % of python3 submissions.\n",
        "class Solution:\n",
        "    def maxArea(self, h: int, w: int, horizontalCuts: List[int], verticalCuts: List[int]) -> int:\n",
        "        horizontalCuts.append(0)\n",
        "        verticalCuts.append(0)\n",
        "        horizontalCuts.append(h)\n",
        "        verticalCuts.append(w)\n",
        "        horizontalCuts.sort()\n",
        "        verticalCuts.sort()\n",
        "        \n",
        "        r, c = 0, 0\n",
        "        \n",
        "        for i in range(1, len(verticalCuts)) :\n",
        "            if verticalCuts[i]-verticalCuts[i-1] > r :\n",
        "                r = verticalCuts[i]-verticalCuts[i-1]\n",
        "            \n",
        "        for i in range(1, len(horizontalCuts)) :\n",
        "            if horizontalCuts[i]-horizontalCuts[i-1] > c :\n",
        "                c = horizontalCuts[i]-horizontalCuts[i-1]        \n",
        "        \n",
        "        return (r*c)%(10**9+7)\n",
        "\n",
        "# Runtime: 300 ms           Your runtime beats 80.07 % of python3 submissions.\n",
        "# Memory Usage: 27.2 MB     Your memory usage beats 22.73 % of python3 submissions.\n",
        "\n",
        "class Solution:\n",
        "    def maxArea(self, h: int, w: int, horizontalCuts: List[int], verticalCuts: List[int]) -> int:\n",
        "        horizontalCuts.append(0)\n",
        "        verticalCuts.append(0)\n",
        "        horizontalCuts.append(h)\n",
        "        verticalCuts.append(w)\n",
        "        horizontalCuts.sort()\n",
        "        verticalCuts.sort()\n",
        "        \n",
        "        r, c = 0, 0\n",
        "        \n",
        "        \n",
        "        for i in range(1, len(verticalCuts)) :\n",
        "            temp = verticalCuts[i]-verticalCuts[i-1]\n",
        "            if temp > r : r = temp\n",
        "            \n",
        "        for i in range(1, len(horizontalCuts)) :\n",
        "            temp = horizontalCuts[i]-horizontalCuts[i-1]\n",
        "            if temp > c : c = temp\n",
        "        \n",
        "        return (r*c)%(10**9+7)"
      ],
      "execution_count": null,
      "outputs": []
    },
    {
      "cell_type": "code",
      "metadata": {
        "id": "OProz_cT5ETI"
      },
      "source": [
        "# Runtime: 304 ms           Your runtime beats 71.40 % of python3 submissions.\n",
        "# Memory Usage: 27.1 MB     Your memory usage beats 44.73 % of python3 submissions.\n",
        "\n",
        "class Solution:\n",
        "    def maxArea(self, h: int, w: int, horizontalCuts: List[int], verticalCuts: List[int]) -> int:\n",
        "        horizontalCuts = sorted(horizontalCuts+[h])\n",
        "        verticalCuts = sorted(verticalCuts+[w])\n",
        "        \n",
        "        r, c = verticalCuts[0], horizontalCuts[0]\n",
        "        \n",
        "        for i in range(len(verticalCuts)-1) :\n",
        "            r = max(r, verticalCuts[i+1]-verticalCuts[i])\n",
        "            \n",
        "        for i in range(len(horizontalCuts)-1) :\n",
        "            c = max(c, horizontalCuts[i+1]-horizontalCuts[i])    \n",
        "        \n",
        "        \n",
        "        return (r*c)%(10**9+7)"
      ],
      "execution_count": null,
      "outputs": []
    },
    {
      "cell_type": "code",
      "metadata": {
        "id": "azFCf_Uh34BG"
      },
      "source": [
        "# Runtime: 320 ms           Your runtime beats 33.29 % of python3 submissions.\n",
        "# Memory Usage: 27.1 MB     Your memory usage beats 44.73 % of python3 submissions.\n",
        "\n",
        "class Solution:\n",
        "    def maxArea(self, h: int, w: int, horizontalCuts: List[int], verticalCuts: List[int]) -> int:\n",
        "        horizontalCuts = sorted([0]+horizontalCuts+[h])\n",
        "        verticalCuts = sorted([0]+verticalCuts+[w])\n",
        "        r, c = 0, 0\n",
        "        \n",
        "        for i in range(1,len(verticalCuts)) :\n",
        "            r = max(r, verticalCuts[i]-verticalCuts[i-1])\n",
        "            \n",
        "        for i in range(1, len(horizontalCuts)) :\n",
        "            c = max(c, horizontalCuts[i]-horizontalCuts[i-1])    \n",
        "        \n",
        "        return (r*c)%(10**9+7)"
      ],
      "execution_count": null,
      "outputs": []
    },
    {
      "cell_type": "code",
      "metadata": {
        "id": "Dgktpfquu0Zq"
      },
      "source": [
        "# Runtime: 460 ms\n",
        "# Memory Usage: 27.1 MB     Your memory usage beats 44.73 % of python3 submissions.\n",
        "\n",
        "class Solution:\n",
        "    def maxArea(self, h: int, w: int, horizontalCuts: List[int], verticalCuts: List[int]) -> int:\n",
        "        horizontalCuts.sort()\n",
        "        verticalCuts.sort()\n",
        "        r, c = 0, 0\n",
        "        \n",
        "        for i in range(1, len(verticalCuts)) :\n",
        "            if verticalCuts[i] - verticalCuts[i-1] > r :\n",
        "                r = verticalCuts[i] - verticalCuts[i-1]\n",
        "        \n",
        "        for i in range(1, len(horizontalCuts)) :\n",
        "            if horizontalCuts[i] - horizontalCuts[i-1] > c :\n",
        "                c = horizontalCuts[i] - horizontalCuts[i-1]\n",
        "                \n",
        "        return (max(verticalCuts[0], r, w-verticalCuts[-1]) * max(horizontalCuts[0], c, h-horizontalCuts[-1]))%(10**9+7)"
      ],
      "execution_count": null,
      "outputs": []
    }
  ]
}