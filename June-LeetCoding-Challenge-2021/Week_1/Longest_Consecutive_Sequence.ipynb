{
  "nbformat": 4,
  "nbformat_minor": 0,
  "metadata": {
    "colab": {
      "name": "Week 1 : Longest Consecutive Sequence.ipynb",
      "provenance": [],
      "collapsed_sections": [],
      "authorship_tag": "ABX9TyO0iskgkkIk9wHiFxaaEDqG",
      "include_colab_link": true
    },
    "kernelspec": {
      "name": "python3",
      "display_name": "Python 3"
    },
    "language_info": {
      "name": "python"
    }
  },
  "cells": [
    {
      "cell_type": "markdown",
      "metadata": {
        "id": "view-in-github",
        "colab_type": "text"
      },
      "source": [
        "<a href=\"https://colab.research.google.com/github/1cg2cg3cg/Leet-Coding-Challenge-2021/blob/master/June-LeetCoding-Challenge-2021/Week_1/Longest_Consecutive_Sequence.ipynb\" target=\"_parent\"><img src=\"https://colab.research.google.com/assets/colab-badge.svg\" alt=\"Open In Colab\"/></a>"
      ]
    },
    {
      "cell_type": "code",
      "metadata": {
        "id": "i67TRqB_LXsa"
      },
      "source": [
        "# Runtime: 224 ms           Your runtime beats 30.77 % of python3 submissions.\n",
        "# Memory Usage: 25.9 MB     Your memory usage beats 11.08 % of python3 submissions.\n",
        "\n",
        "import heapq # from smallest number to largest number\n",
        "\n",
        "class Solution:\n",
        "    def longestConsecutive(self, nums: List[int]) -> int:\n",
        "        \n",
        "        if not nums : return 0\n",
        "        \n",
        "        nums = list(set(nums))\n",
        "        heapq.heapify(nums)\n",
        "        old = heapq.heappop(nums)   # start number\n",
        "        cnt, answer = 1, 1          # start values\n",
        "        while nums :\n",
        "\n",
        "            new = heapq.heappop(nums)\n",
        "            \n",
        "            if new-old == 1 : cnt += 1  # consecutive\n",
        "            else : \n",
        "                answer = max(answer, cnt)\n",
        "                cnt = 1\n",
        "            \n",
        "            old = new\n",
        "        \n",
        "        return max(answer,cnt)  # end with consecutive numbers"
      ],
      "execution_count": null,
      "outputs": []
    },
    {
      "cell_type": "code",
      "metadata": {
        "id": "jLLcu8pxLiH7"
      },
      "source": [
        "# Runtime: 184 ms           Your runtime beats 41.50 % of python3 submissions.\n",
        "# Memory Usage: 25.7 MB     Your memory usage beats 25.84 % of python3 submissions.\n",
        "\n",
        "# 2 pointer solution\n",
        "\n",
        "class Solution:\n",
        "    def longestConsecutive(self, nums):\n",
        "        nums = set(nums)\n",
        "        maxlen = 0\n",
        "        while nums:\n",
        "            first = last = nums.pop()\n",
        "            while first - 1 in nums:\n",
        "                first -= 1\n",
        "                nums.remove(first)\n",
        "            while last + 1 in nums:\n",
        "                last += 1\n",
        "                nums.remove(last)\n",
        "            maxlen = max(maxlen, last - first + 1)\n",
        "        return maxlen"
      ],
      "execution_count": null,
      "outputs": []
    },
    {
      "cell_type": "code",
      "metadata": {
        "id": "9OundZCoOztt"
      },
      "source": [
        "# Runtime: 200 ms           Your runtime beats 35.05 % of python3 submissions.\n",
        "# Memory Usage: 25.8 MB     Your memory usage beats 16.29 % of python3 submissions.\n",
        "\n",
        "# official solution\n",
        "\n",
        "class Solution:\n",
        "    def longestConsecutive(self, nums):\n",
        "        longest_streak = 0\n",
        "        num_set = set(nums)\n",
        "\n",
        "        for num in num_set:\n",
        "            if num - 1 not in num_set:\n",
        "                current_num = num\n",
        "                current_streak = 1\n",
        "\n",
        "                while current_num + 1 in num_set:\n",
        "                    current_num += 1\n",
        "                    current_streak += 1\n",
        "\n",
        "                longest_streak = max(longest_streak, current_streak)\n",
        "\n",
        "        return longest_streak"
      ],
      "execution_count": null,
      "outputs": []
    }
  ]
}