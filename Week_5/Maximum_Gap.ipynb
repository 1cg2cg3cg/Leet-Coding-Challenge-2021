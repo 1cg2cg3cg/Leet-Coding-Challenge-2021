{
  "nbformat": 4,
  "nbformat_minor": 0,
  "metadata": {
    "colab": {
      "name": "Week 5 : Maximum Gap.ipynb",
      "provenance": [],
      "collapsed_sections": [],
      "authorship_tag": "ABX9TyMQiLQDOXH2hM1Endq6riZa",
      "include_colab_link": true
    },
    "kernelspec": {
      "name": "python3",
      "display_name": "Python 3"
    },
    "language_info": {
      "name": "python"
    }
  },
  "cells": [
    {
      "cell_type": "markdown",
      "metadata": {
        "id": "view-in-github",
        "colab_type": "text"
      },
      "source": [
        "<a href=\"https://colab.research.google.com/github/1cg2cg3cg/May-Leetcoding-Challenge-2021/blob/main/Week_5/Maximum_Gap.ipynb\" target=\"_parent\"><img src=\"https://colab.research.google.com/assets/colab-badge.svg\" alt=\"Open In Colab\"/></a>"
      ]
    },
    {
      "cell_type": "code",
      "metadata": {
        "id": "ckjaPLC7zkVj"
      },
      "source": [
        "# Runtime: 56 ms            Your runtime beats 61.05 % of python3 submissions.\n",
        "# Memory Usage: 15.2 MB     Your memory usage beats 58.68 % of python3 submissions.\n",
        "\n",
        "# we should check 2 numbers and their gap in nums\n",
        "# I try to check ascending order.\n",
        "# Python heap is always min heap and return min values.\n",
        "\n",
        "# I thought I should not use sort function but it is more fast and light\n",
        "\n",
        "import heapq\n",
        "\n",
        "class Solution:\n",
        "    def maximumGap(self, nums: List[int]) -> int:\n",
        "        if len(nums) < 2 : return 0\n",
        "        \n",
        "        heapq.heapify(nums)\n",
        "        old = heapq.heappop(nums)\n",
        "        answer = -1\n",
        "        \n",
        "        while nums :\n",
        "            \n",
        "            new = heapq.heappop(nums)\n",
        "            \n",
        "            if new-old > answer : answer = new-old\n",
        "            \n",
        "            old = new\n",
        "            \n",
        "        return answer"
      ],
      "execution_count": null,
      "outputs": []
    },
    {
      "cell_type": "code",
      "metadata": {
        "id": "1-TZ2Xx261jV"
      },
      "source": [
        "# Runtime: 52 ms            Your runtime beats 81.90 % of python3 submissions.\n",
        "# Memory Usage: 15.1 MB     Your memory usage beats 58.68 % of python3 submissions.\n",
        "\n",
        "class Solution:\n",
        "    def maximumGap(self, nums: List[int]) -> int:\n",
        "        if len(nums) < 2: return 0\n",
        "        nums.sort()\n",
        "        return max([nums[index+1]-nums[index] for index in range(len(nums)-1)])"
      ],
      "execution_count": null,
      "outputs": []
    },
    {
      "cell_type": "code",
      "metadata": {
        "id": "Nf0bFP4q6-5x"
      },
      "source": [
        "# Runtime: 48 ms            Your runtime beats 93.26 % of python3 submissions.\n",
        "# Memory Usage: 15.2 MB     Your memory usage beats 58.68 % of python3 submissions.\n",
        "\n",
        "class Solution:\n",
        "    def maximumGap(self, nums: List[int]) -> int:\n",
        "        diff=float('-inf')\n",
        "        n=len(nums)\n",
        "        if n<2: return 0\n",
        "        nums.sort()\n",
        "        for i in range(1,n):\n",
        "            diff=max(diff, nums[i]-nums[i-1])\n",
        "        return diff"
      ],
      "execution_count": null,
      "outputs": []
    }
  ]
}