{
  "nbformat": 4,
  "nbformat_minor": 0,
  "metadata": {
    "colab": {
      "name": "Week 4 : Partitioning Into Minimum Number Of Deci-Binary Numbers.ipynb",
      "provenance": [],
      "collapsed_sections": [],
      "authorship_tag": "ABX9TyMSfxyvmigsTVmrNMQd54H6",
      "include_colab_link": true
    },
    "kernelspec": {
      "name": "python3",
      "display_name": "Python 3"
    },
    "language_info": {
      "name": "python"
    }
  },
  "cells": [
    {
      "cell_type": "markdown",
      "metadata": {
        "id": "view-in-github",
        "colab_type": "text"
      },
      "source": [
        "<a href=\"https://colab.research.google.com/github/1cg2cg3cg/May-Leetcoding-Challenge-2021/blob/main/Week_4/Partitioning_Into_Minimum_Number_Of_Deci_Binary_Numbers.ipynb\" target=\"_parent\"><img src=\"https://colab.research.google.com/assets/colab-badge.svg\" alt=\"Open In Colab\"/></a>"
      ]
    },
    {
      "cell_type": "markdown",
      "metadata": {
        "id": "kiSjVUlFBWay"
      },
      "source": [
        "큰 자리 수부터 각 자리의 수를 얻기 위해 더해야 하는 1의 개수를 찾는다.\n",
        "\n",
        "주어지는 문자열 n 중에서 왼쪽에서 오른쪽으로 이동하면서 가장 큰 값을 찾아 return 한다.\n",
        "\n",
        "\"82734\"가 주어진다면, 왼쪽부터 가장 큰 숫자인 8이 정답이 된다.\n",
        "\n",
        "나머지 2, 7, 3, 4 는 8을 만들기 위해 1을 8번 더할 때, 해당 숫자를 만들 수 있다.\n",
        "\n",
        "\"27346209830709182346\"가 주어지면, 왼쪽에서 오른쪽으로 진행하면서 가장 큰 숫자를 찾는다.\n",
        "\n",
        "2734620**\"9\"**830709182346 9 앞의 숫자들을 만들 때, 9자리에 모두 1을 배정해도 9를 만들 수 없기 때문에 9를 반환한다.\n",
        "\n",
        "\"27346208830705182346\"가 주어졌다면, 역시 8 이전의 숫자를 만들면서 모두 1을 배정해도 8을 만들 수 없으므로 8이 정답이다.\n",
        "\n",
        "이와 관계없이 9가 등장하면, 항상 9가 정답이다.\n",
        "\n",
        "    결국, 문자열의 숫자 중 가장 큰 숫자가 문제의 답이다.\n",
        "\n",
        "가장 큰 숫자를 구하기 위해 다양한 방법을 시도했다. 확실히 python에서 set은 연산 속도가 빠르다."
      ]
    },
    {
      "cell_type": "code",
      "metadata": {
        "id": "CuRUKniA_vm6"
      },
      "source": [
        "# Runtime: 56 ms            Your runtime beats 75.12 % of python3 submissions.\n",
        "# Memory Usage: 14.7 MB     Your memory usage beats 83.86 % of python3 submissions.\n",
        "\n",
        "class Solution:\n",
        "    def minPartitions(self, n: str) -> int:\n",
        "        return max(n)"
      ],
      "execution_count": null,
      "outputs": []
    },
    {
      "cell_type": "code",
      "metadata": {
        "id": "fpBEhhYa__Oq"
      },
      "source": [
        "# 2nd solution\n",
        "# Runtime: 264 ms           Your runtime beats 15.78 % of python3 submissions.\n",
        "# Memory Usage: 14.9 MB     Your memory usage beats 28.70 % of python3 submissions.\n",
        "\n",
        "class Solution:\n",
        "    def minPartitions(self, n: str) -> int:\n",
        "        answer = 1\n",
        "        for i in n :\n",
        "            \n",
        "            if int(i) == 9 : return 9\n",
        "            \n",
        "            if int(i) > answer : answer = int(i)\n",
        "            \n",
        "        return answer"
      ],
      "execution_count": null,
      "outputs": []
    },
    {
      "cell_type": "code",
      "metadata": {
        "id": "uGOGalLCAgqP"
      },
      "source": [
        "# 3rd solution\n",
        "# Runtime: 40 ms            Your runtime beats 95.02 % of python3 submissions.\n",
        "# Memory Usage: 14.7 MB     Your memory usage beats 83.86 % of python3 submissions.\n",
        "\n",
        "class Solution:\n",
        "    def minPartitions(self, n: str) -> int:\n",
        "        return max(set(n))"
      ],
      "execution_count": null,
      "outputs": []
    },
    {
      "cell_type": "code",
      "metadata": {
        "id": "x_wbGrKBAgHi"
      },
      "source": [
        "# the most fastest solution in leetcode\n",
        "\n",
        "\n",
        "class Solution:\n",
        "    def minPartitions(self, n: str) -> int:\n",
        "        if '9' in n:\n",
        "            return 9\n",
        "        if '8' in n:\n",
        "            return 8\n",
        "        if '7' in n:\n",
        "            return 7\n",
        "        if '6' in n:\n",
        "            return 6\n",
        "        if '5' in n:\n",
        "            return 5\n",
        "        if '4' in n:\n",
        "            return 4\n",
        "        if '3' in n:\n",
        "            return 3\n",
        "        if '2' in n:\n",
        "            return 2\n",
        "        if '1' in n:\n",
        "            return 1"
      ],
      "execution_count": null,
      "outputs": []
    }
  ]
}