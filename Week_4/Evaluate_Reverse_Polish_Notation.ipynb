{
  "nbformat": 4,
  "nbformat_minor": 0,
  "metadata": {
    "colab": {
      "name": "Week 4 : Evaluate Reverse Polish Notation.ipynb",
      "provenance": [],
      "collapsed_sections": [],
      "authorship_tag": "ABX9TyOIox7JJ/Vm1maiqZn1n9Us",
      "include_colab_link": true
    },
    "kernelspec": {
      "name": "python3",
      "display_name": "Python 3"
    },
    "language_info": {
      "name": "python"
    }
  },
  "cells": [
    {
      "cell_type": "markdown",
      "metadata": {
        "id": "view-in-github",
        "colab_type": "text"
      },
      "source": [
        "<a href=\"https://colab.research.google.com/github/1cg2cg3cg/May-Leetcoding-Challenge-2021/blob/main/Week_4/Evaluate_Reverse_Polish_Notation.ipynb\" target=\"_parent\"><img src=\"https://colab.research.google.com/assets/colab-badge.svg\" alt=\"Open In Colab\"/></a>"
      ]
    },
    {
      "cell_type": "code",
      "metadata": {
        "id": "qKv6LntX7Zn5"
      },
      "source": [
        "# Runtime: 56 ms            Your runtime beats 98.09 % of python3 submissions.\n",
        "# Memory Usage: 14.5 MB     Your memory usage beats 88.01 % of python3 submissions.\n",
        "\n",
        "# key is RPN(Reverse Polish Notation)\n",
        "# This method is suitable for programming.\n",
        "class Solution:\n",
        "    def evalRPN(self, tokens: List[str]) -> int:\n",
        "        stack = []\n",
        "        \n",
        "        for t in tokens :\n",
        "            if len(stack) < 2 :\n",
        "                stack.append(int(t))\n",
        "                continue\n",
        "                \n",
        "            if t == '+' :   # The sequence of operation does not matter because + satisfies cummutative property\n",
        "                stack.append(stack.pop()+stack.pop())\n",
        "\n",
        "            elif t == '-' : # have to match the sequence of opereation\n",
        "                r = stack.pop()\n",
        "                l = stack.pop()\n",
        "                stack.append(l-r)\n",
        "\n",
        "            elif t == '*' : # The sequence of operation does not matter because * satisfies cummutative property\n",
        "                stack.append(stack.pop()*stack.pop())\n",
        "\n",
        "            elif t == '/' : # have to match the sequence of opereation\n",
        "                r = stack.pop()\n",
        "                l = stack.pop()\n",
        "                stack.append(int(l/r))\n",
        "            \n",
        "            else : # do not any calculation\n",
        "                stack.append(int(t))\n",
        "            \n",
        "        return stack.pop()"
      ],
      "execution_count": null,
      "outputs": []
    }
  ]
}