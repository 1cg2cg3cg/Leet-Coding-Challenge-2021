{
  "nbformat": 4,
  "nbformat_minor": 0,
  "metadata": {
    "colab": {
      "name": "Week 4 : N-Queens.ipynb",
      "provenance": [],
      "collapsed_sections": [],
      "authorship_tag": "ABX9TyNVEzKXI+wLWN+OmN8TVgOa",
      "include_colab_link": true
    },
    "kernelspec": {
      "name": "python3",
      "display_name": "Python 3"
    },
    "language_info": {
      "name": "python"
    }
  },
  "cells": [
    {
      "cell_type": "markdown",
      "metadata": {
        "id": "view-in-github",
        "colab_type": "text"
      },
      "source": [
        "<a href=\"https://colab.research.google.com/github/1cg2cg3cg/May-Leetcoding-Challenge-2021/blob/main/Week_4/N_Queens.ipynb\" target=\"_parent\"><img src=\"https://colab.research.google.com/assets/colab-badge.svg\" alt=\"Open In Colab\"/></a>"
      ]
    },
    {
      "cell_type": "code",
      "metadata": {
        "id": "9Bx-PMC7L4XG"
      },
      "source": [
        "# 중복되는 답안을 제거해야 한다. = 문제를 정확하게 이해하지 못함\n",
        "# ex) 24130과 20413은 같은 답으로 처리해야 한다.\n",
        "# DFS를 사용해 접근한 풀이는 좋았으나, 결국 답으로 만들어내지 못함.\n",
        "# 수정 필요!\n",
        "\n",
        "class Solution:\n",
        "    def solveNQueens(self, n: int) -> List[List[str]]:\n",
        "        pass\n",
        "        answer = []\n",
        "        \n",
        "        def dfs(idx, discovered) :\n",
        "            \n",
        "            #print(idx, discovered)\n",
        "            \n",
        "            if len(discovered) == n :\n",
        "                #print('T', discovered)\n",
        "                \n",
        "                temp = []\n",
        "                \n",
        "                for i in discovered :\n",
        "                    \n",
        "                    temp.append('.'*i + 'Q' + '.' * (n-1-i))\n",
        "                \n",
        "                answer.append(temp)\n",
        "                return\n",
        "            \n",
        "            if idx >= n : return\n",
        "            \n",
        "            for j in range(n) :\n",
        "                #print('for')\n",
        "                if j != discovered[-1]-1 and j != discovered[-1] and j != discovered[-1]+1 and j not in discovered:\n",
        "                    dfs(idx+1, discovered+[j])\n",
        "        \n",
        "        for i in range(n) :\n",
        "            dfs(0, [i])\n",
        "            \n",
        "        #print(answer)\n",
        "        return answer"
      ],
      "execution_count": null,
      "outputs": []
    }
  ]
}