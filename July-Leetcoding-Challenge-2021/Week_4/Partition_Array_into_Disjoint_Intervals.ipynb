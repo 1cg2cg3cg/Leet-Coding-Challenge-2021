{
  "nbformat": 4,
  "nbformat_minor": 0,
  "metadata": {
    "colab": {
      "name": "Week 3 : Partition Array into Disjoint Intervals.ipynb",
      "provenance": [],
      "authorship_tag": "ABX9TyONJuXKCRhrl8k5ZIsrN0yB",
      "include_colab_link": true
    },
    "kernelspec": {
      "name": "python3",
      "display_name": "Python 3"
    },
    "language_info": {
      "name": "python"
    }
  },
  "cells": [
    {
      "cell_type": "markdown",
      "metadata": {
        "id": "view-in-github",
        "colab_type": "text"
      },
      "source": [
        "<a href=\"https://colab.research.google.com/github/1cg2cg3cg/Leet-Coding-Challenge-2021/blob/master/July-Leetcoding-Challenge-2021/Week_3/Partition_Array_into_Disjoint_Intervals.ipynb\" target=\"_parent\"><img src=\"https://colab.research.google.com/assets/colab-badge.svg\" alt=\"Open In Colab\"/></a>"
      ]
    },
    {
      "cell_type": "code",
      "metadata": {
        "id": "2qIlRXD69e5l"
      },
      "source": [
        "# Runtime: 196 ms           Your runtime beats 64.52 % of python3 submissions.\n",
        "# Memory Usage: 18.2 MB     Your memory usage beats 98.88 % of python3 submissions.\n",
        "\n",
        "class Solution:\n",
        "    def partitionDisjoint(self, nums: List[int]) -> int:\n",
        "        if len(nums) < 3 : return 1\n",
        "        \n",
        "        left_max = nums[0]\n",
        "        for i in range(1, len(nums)) :\n",
        "            \n",
        "            if left_max <= nums[i] and left_max <= min(nums[i:]) :\n",
        "                return i\n",
        "            \n",
        "            if nums[i] >= left_max :\n",
        "                left_max = nums[i]"
      ],
      "execution_count": null,
      "outputs": []
    }
  ]
}
