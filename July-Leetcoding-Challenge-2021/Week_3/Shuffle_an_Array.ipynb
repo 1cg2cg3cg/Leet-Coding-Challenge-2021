{
  "nbformat": 4,
  "nbformat_minor": 0,
  "metadata": {
    "colab": {
      "name": "Week 3 : Shuffle an Array.ipynb",
      "provenance": [],
      "collapsed_sections": [],
      "authorship_tag": "ABX9TyNQ0bibXqjz2rpOZgNYd03i",
      "include_colab_link": true
    },
    "kernelspec": {
      "name": "python3",
      "display_name": "Python 3"
    },
    "language_info": {
      "name": "python"
    }
  },
  "cells": [
    {
      "cell_type": "markdown",
      "metadata": {
        "id": "view-in-github",
        "colab_type": "text"
      },
      "source": [
        "<a href=\"https://colab.research.google.com/github/1cg2cg3cg/Leet-Coding-Challenge-2021/blob/master/July-Leetcoding-Challenge-2021/Week_3/Shuffle_an_Array.ipynb\" target=\"_parent\"><img src=\"https://colab.research.google.com/assets/colab-badge.svg\" alt=\"Open In Colab\"/></a>"
      ]
    },
    {
      "cell_type": "code",
      "metadata": {
        "id": "AD8X7iCCa481"
      },
      "source": [
        "# Runtime: 264 ms           Your runtime beats 89.25 % of python3 submissions.\n",
        "# Memory Usage: 19.4 MB     Your memory usage beats 38.73 % of python3 submissions.\n",
        "\n",
        "class Solution:\n",
        "\n",
        "    def __init__(self, nums: List[int]):\n",
        "        self.origin = nums\n",
        "        self.answer = nums[:]\n",
        "\n",
        "    def reset(self) -> List[int]:\n",
        "        \"\"\"\n",
        "        Resets the array to its original configuration and return it.\n",
        "        \"\"\"\n",
        "        return self.origin\n",
        "\n",
        "    def shuffle(self) -> List[int]:\n",
        "        \"\"\"\n",
        "        Returns a random shuffling of the array.\n",
        "        \"\"\"\n",
        "        random.shuffle(self.answer)\n",
        "        return self.answer\n",
        "        \n",
        "\n",
        "\n",
        "# Your Solution object will be instantiated and called as such:\n",
        "# obj = Solution(nums)\n",
        "# param_1 = obj.reset()\n",
        "# param_2 = obj.shuffle()"
      ],
      "execution_count": null,
      "outputs": []
    }
  ]
}