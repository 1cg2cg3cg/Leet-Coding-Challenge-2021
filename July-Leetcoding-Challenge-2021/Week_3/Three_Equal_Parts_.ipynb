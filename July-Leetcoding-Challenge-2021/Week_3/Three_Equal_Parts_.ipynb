{
  "nbformat": 4,
  "nbformat_minor": 0,
  "metadata": {
    "colab": {
      "name": "Week 3 Three Equal Parts: .ipynb",
      "provenance": [],
      "authorship_tag": "ABX9TyM/li2g1r953s8sAood+IEG",
      "include_colab_link": true
    },
    "kernelspec": {
      "name": "python3",
      "display_name": "Python 3"
    },
    "language_info": {
      "name": "python"
    }
  },
  "cells": [
    {
      "cell_type": "markdown",
      "metadata": {
        "id": "view-in-github",
        "colab_type": "text"
      },
      "source": [
        "<a href=\"https://colab.research.google.com/github/1cg2cg3cg/Leet-Coding-Challenge-2021/blob/master/July-Leetcoding-Challenge-2021/Week_3/Three_Equal_Parts_.ipynb\" target=\"_parent\"><img src=\"https://colab.research.google.com/assets/colab-badge.svg\" alt=\"Open In Colab\"/></a>"
      ]
    },
    {
      "cell_type": "code",
      "metadata": {
        "id": "XbTq8u34Sbat"
      },
      "source": [
        "class Solution:\n",
        "    def threeEqualParts(self, A):\n",
        "        n = len(A)\n",
        "        indexes = [i for i in range(n) if A[i] == 1]\n",
        "        m = len(indexes)\n",
        "        \n",
        "        if m == 0: return [0, 2]\n",
        "        \n",
        "        if m % 3 != 0: return [-1, -1]\n",
        "        p1, p2 = indexes[0], indexes[m//3-1]\n",
        "        p3, p4 = indexes[m//3], indexes[2*m//3-1]\n",
        "        p5, p6 = indexes[2*m//3], indexes[-1]\n",
        "        part1, part2, part3 = A[p1:p2+1], A[p3:p4+1], A[p5:p6+1]\n",
        "        \n",
        "        if part1 != part2 or part2 != part3: return [-1, -1]\n",
        "        \n",
        "        l1 = p3 - p2 - 1\n",
        "        l2 = p5 - p4 - 1\n",
        "        l3 = n - p6 - 1\n",
        "        \n",
        "        if l3 > l2 or l3 > l1: return [-1, -1]\n",
        "        \n",
        "        return [p2 + l3, p4 + l3 + 1]"
      ],
      "execution_count": null,
      "outputs": []
    }
  ]
}