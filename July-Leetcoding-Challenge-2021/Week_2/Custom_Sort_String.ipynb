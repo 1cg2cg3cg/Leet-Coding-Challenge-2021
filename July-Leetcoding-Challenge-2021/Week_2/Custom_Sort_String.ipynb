{
  "nbformat": 4,
  "nbformat_minor": 0,
  "metadata": {
    "colab": {
      "name": "Week 2 : Custom Sort String.ipynb",
      "provenance": [],
      "authorship_tag": "ABX9TyM6H/DtEZhfKh2zUCcUuEuv",
      "include_colab_link": true
    },
    "kernelspec": {
      "name": "python3",
      "display_name": "Python 3"
    },
    "language_info": {
      "name": "python"
    }
  },
  "cells": [
    {
      "cell_type": "markdown",
      "metadata": {
        "id": "view-in-github",
        "colab_type": "text"
      },
      "source": [
        "<a href=\"https://colab.research.google.com/github/1cg2cg3cg/Leet-Coding-Challenge-2021/blob/master/July-Leetcoding-Challenge-2021/Week_2/Custom_Sort_String.ipynb\" target=\"_parent\"><img src=\"https://colab.research.google.com/assets/colab-badge.svg\" alt=\"Open In Colab\"/></a>"
      ]
    },
    {
      "cell_type": "code",
      "metadata": {
        "id": "ObwUPXbty9QO"
      },
      "source": [
        "# Runtime: 28 ms            Your runtime beats 85.88 % of python3 submissions.\n",
        "# Memory Usage: 14.4 MB     \n",
        "\n",
        "import collections\n",
        "class Solution:\n",
        "    def customSortString(self, order: str, str: str) -> str:\n",
        "        answer = ''\n",
        "        c = collections.Counter(str)\n",
        "        \n",
        "        for o in order :\n",
        "            if o in c :\n",
        "                answer += o * c[o]\n",
        "                del c[o]\n",
        "                \n",
        "        for i in c :\n",
        "            answer += i * c[i]\n",
        "        \n",
        "        return answer"
      ],
      "execution_count": null,
      "outputs": []
    },
    {
      "cell_type": "code",
      "metadata": {
        "id": "O1F6t2ugzFEW"
      },
      "source": [
        ""
      ],
      "execution_count": null,
      "outputs": []
    }
  ]
}