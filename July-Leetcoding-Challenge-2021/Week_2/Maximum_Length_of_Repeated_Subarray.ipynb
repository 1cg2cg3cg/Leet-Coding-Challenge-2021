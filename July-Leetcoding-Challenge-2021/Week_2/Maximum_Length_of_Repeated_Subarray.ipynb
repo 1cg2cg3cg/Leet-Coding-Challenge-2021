{
  "nbformat": 4,
  "nbformat_minor": 0,
  "metadata": {
    "colab": {
      "name": "Week 2 : Maximum Length of Repeated Subarray.ipynb",
      "provenance": [],
      "collapsed_sections": [],
      "authorship_tag": "ABX9TyNN/aqYvBxl055F7+gTngvK",
      "include_colab_link": true
    },
    "kernelspec": {
      "name": "python3",
      "display_name": "Python 3"
    },
    "language_info": {
      "name": "python"
    }
  },
  "cells": [
    {
      "cell_type": "markdown",
      "metadata": {
        "id": "view-in-github",
        "colab_type": "text"
      },
      "source": [
        "<a href=\"https://colab.research.google.com/github/1cg2cg3cg/Leet-Coding-Challenge-2021/blob/master/July-Leetcoding-Challenge-2021/Week_2/Maximum_Length_of_Repeated_Subarray.ipynb\" target=\"_parent\"><img src=\"https://colab.research.google.com/assets/colab-badge.svg\" alt=\"Open In Colab\"/></a>"
      ]
    },
    {
      "cell_type": "code",
      "metadata": {
        "id": "T34E0WhzCbdE"
      },
      "source": [
        "# Runtime: 3780 ms          Your runtime beats 59.91 % of python3 submissions.\n",
        "# Memory Usage: 40.3 MB     Your memory usage beats 5.76 % of python3 submissions.\n",
        "\n",
        "# 두 배열 중 연속하는 부분 찾기\n",
        "# 2차원 map으로 만들고 일치하는 경우 연속인지 확인\n",
        "# ex) [1, 2, 3, 2, 1]과 [3, 2, 1, 4, 7]의 경우\n",
        "\n",
        "#      1   2   3   2   1\n",
        "# 3    0   0   1   0   0\n",
        "# 2    0   1   0  *2*  0\n",
        "# 1    1   0   0   0  *3*\n",
        "# 4    0   0   0   0   0\n",
        "# 7    0   0   0   0   0\n",
        "\n",
        "# 일치하는 경우(*) 좌측 상단의 값을 받아와 1을 더해준다.(연속이기 때문)\n",
        "class Solution:\n",
        "    def findLength(self, nums1: List[int], nums2: List[int]) -> int:\n",
        "        Map = [[0 for _ in range(len(nums1))] for _ in range(len(nums2))]\n",
        "        \n",
        "        for i in range(len(nums1)) :\n",
        "            for j in range(len(nums2)) :\n",
        "                \n",
        "                if nums1[i] == nums2[j] :\n",
        "                    \n",
        "                    if i > 0 and j > 0 :\n",
        "                        Map[j][i] = Map[j-1][i-1] + 1\n",
        "                    else :\n",
        "                        Map[j][i] = 1\n",
        "        \n",
        "        return max(map(max,Map))    # 2차원 배열의 최댓값 찾기\n",
        "                                    # min(map(min,Map)) : 2차원 배열의 최솟값 찾기"
      ],
      "execution_count": null,
      "outputs": []
    }
  ]
}