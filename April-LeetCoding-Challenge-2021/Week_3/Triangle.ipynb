{
  "nbformat": 4,
  "nbformat_minor": 0,
  "metadata": {
    "colab": {
      "name": "Week 3 : Triangle.ipynb",
      "provenance": [],
      "collapsed_sections": [],
      "authorship_tag": "ABX9TyMJmOxVRLSv1JeIhbl65uCq",
      "include_colab_link": true
    },
    "kernelspec": {
      "name": "python3",
      "display_name": "Python 3"
    },
    "language_info": {
      "name": "python"
    }
  },
  "cells": [
    {
      "cell_type": "markdown",
      "metadata": {
        "id": "view-in-github",
        "colab_type": "text"
      },
      "source": [
        "<a href=\"https://colab.research.google.com/github/1cg2cg3cg/April-LeetCoding-Challenge-2021/blob/main/Week_3/Triangle.ipynb\" target=\"_parent\"><img src=\"https://colab.research.google.com/assets/colab-badge.svg\" alt=\"Open In Colab\"/></a>"
      ]
    },
    {
      "cell_type": "code",
      "metadata": {
        "id": "9enkTaRWDEEB"
      },
      "source": [
        "# Runtime: 72 ms        Your runtime beats 13.83 % of python3 submissions.\n",
        "# Memory Usage: 15 MB   Your memory usage beats 67.00 % of python3 submissions.\n",
        "# DP solution\n",
        "class Solution:\n",
        "    def minimumTotal(self, triangle: List[List[int]]) -> int:\n",
        "        \n",
        "        for i in range(1, len(triangle)) :\n",
        "                        \n",
        "            for j in range(1, len(triangle[i])-1) :\n",
        "            # choose possible minimum path    \n",
        "                triangle[i][j] = triangle[i][j] + min(triangle[i-1][j-1], triangle[i-1][j])\n",
        "                \n",
        "            triangle[i][0] += triangle[i-1][0] # only 1 path\n",
        "            triangle[i][-1] += triangle[i-1][-1] # only 1 path\n",
        "\n",
        "        return min(triangle[-1])"
      ],
      "execution_count": null,
      "outputs": []
    }
  ]
}