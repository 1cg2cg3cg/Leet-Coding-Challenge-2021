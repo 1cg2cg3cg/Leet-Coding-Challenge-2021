{
  "nbformat": 4,
  "nbformat_minor": 0,
  "metadata": {
    "colab": {
      "name": "Week 3 : N-ary Tree Preorder Traversal.ipynb",
      "provenance": [],
      "collapsed_sections": [],
      "authorship_tag": "ABX9TyMOnJR9pl8T2JhYKCMJ8Msa",
      "include_colab_link": true
    },
    "kernelspec": {
      "name": "python3",
      "display_name": "Python 3"
    },
    "language_info": {
      "name": "python"
    }
  },
  "cells": [
    {
      "cell_type": "markdown",
      "metadata": {
        "id": "view-in-github",
        "colab_type": "text"
      },
      "source": [
        "<a href=\"https://colab.research.google.com/github/1cg2cg3cg/April-LeetCoding-Challenge-2021/blob/main/Week_3/N_ary_Tree_Preorder_Traversal.ipynb\" target=\"_parent\"><img src=\"https://colab.research.google.com/assets/colab-badge.svg\" alt=\"Open In Colab\"/></a>"
      ]
    },
    {
      "cell_type": "code",
      "metadata": {
        "id": "--3q60DIxzbT"
      },
      "source": [
        "# Runtime: 40 ms                Your runtime beats 98.46 % of python3 submissions.\n",
        "# Memory Usage: 16.1 MB         Your memory usage beats 20.27 %\n",
        "# 아래 코드처럼 더 효율적으로 만들기 연습!\n",
        "\"\"\"\n",
        "# Definition for a Node.\n",
        "class Node:\n",
        "    def __init__(self, val=None, children=None):\n",
        "        self.val = val\n",
        "        self.children = children\n",
        "\"\"\"\n",
        "\n",
        "class Solution:\n",
        "    def preorder(self, root: 'Node') -> List[int]:\n",
        "        if not root :   # blank root --> return []\n",
        "            return []\n",
        "        \n",
        "        answer = []\n",
        "        stack = root.children\n",
        "        \n",
        "        while stack :\n",
        "            \n",
        "            if stack[-1].children : # not leaf, extend children to stack and find the children's children\n",
        "                temp = stack[-1].children\n",
        "                stack[-1].children = None   # remove children\n",
        "                stack.extend(temp)\n",
        "\n",
        "            else :           # if stack[-1] is leaf, append\n",
        "                answer.append(stack.pop().val)\n",
        "        \n",
        "        answer.append(root.val)\n",
        "        \n",
        "        return answer[::-1]"
      ],
      "execution_count": null,
      "outputs": []
    },
    {
      "cell_type": "code",
      "metadata": {
        "id": "_XlA6NeeyiWI"
      },
      "source": [
        "# less memory solution\n",
        "class Solution(object):\n",
        "    def preorder(self, root):\n",
        "        \"\"\"\n",
        "        :type root: Node\n",
        "        :rtype: List[int]\n",
        "        \"\"\"\n",
        "        if root is None:\n",
        "            return []\n",
        "        \n",
        "        stack, output = [root, ], []            \n",
        "        while stack:\n",
        "            root = stack.pop()\n",
        "            output.append(root.val)\n",
        "            stack.extend(root.children[::-1])\n",
        "                \n",
        "        return output"
      ],
      "execution_count": null,
      "outputs": []
    }
  ]
}