{
  "nbformat": 4,
  "nbformat_minor": 0,
  "metadata": {
    "colab": {
      "name": "Week 2 : Remove All Adjacent Duplicates in String II.ipynb",
      "provenance": [],
      "collapsed_sections": [],
      "authorship_tag": "ABX9TyNuliJ1/FKlr/x+IPHQ6wiu",
      "include_colab_link": true
    },
    "kernelspec": {
      "name": "python3",
      "display_name": "Python 3"
    },
    "language_info": {
      "name": "python"
    }
  },
  "cells": [
    {
      "cell_type": "markdown",
      "metadata": {
        "id": "view-in-github",
        "colab_type": "text"
      },
      "source": [
        "<a href=\"https://colab.research.google.com/github/1cg2cg3cg/April-LeetCoding-Challenge-2021/blob/main/Week_2/Remove_All_Adjacent_Duplicates_in_String_II.ipynb\" target=\"_parent\"><img src=\"https://colab.research.google.com/assets/colab-badge.svg\" alt=\"Open In Colab\"/></a>"
      ]
    },
    {
      "cell_type": "code",
      "metadata": {
        "id": "4PGKJmXa8VeA"
      },
      "source": [
        "# timeout. \n",
        "# Hint : To make it more efficient, use a pair to store the value and the count of each character.\n",
        "def solution(s, k) :\n",
        "\n",
        "    stack = []\n",
        "\n",
        "    for i in s :\n",
        "        stack.append(i)\n",
        "        \n",
        "        if len(stack) >= k :\n",
        "            for j in range(k) :\n",
        "                if stack[-1] == stack[-1-j] :\n",
        "                    continue\n",
        "                else :\n",
        "                    break\n",
        "            else :\n",
        "                for _ in range(k) :\n",
        "                    stack.pop()\n",
        "\n",
        "    return ''.join(stack)\n",
        "\n",
        "print(solution(\"deeedbbcccbdaa\", 3))\n",
        "print(solution(\"abcd\", 2))"
      ],
      "execution_count": null,
      "outputs": []
    },
    {
      "cell_type": "code",
      "metadata": {
        "id": "SnFSNO0rAJDC"
      },
      "source": [
        "def removeDuplicates(self, s: str, k: int) -> str:\n",
        "        distinct = set(s)\n",
        "        toRemove = list()\n",
        "        for char in distinct:\n",
        "            toRemove.append(char*k)\n",
        "        \n",
        "        while True:\n",
        "            start = s\n",
        "            for dup in toRemove:\n",
        "                if dup in s:\n",
        "                    s = s.replace(dup, \"\")\n",
        "            if start == s:\n",
        "                return s"
      ],
      "execution_count": null,
      "outputs": []
    },
    {
      "cell_type": "code",
      "metadata": {
        "id": "63J7M3fuAs3F"
      },
      "source": [
        "def removeDuplicates(s, k):\n",
        "        #stack = [['',0]]\n",
        "        stack = [['#',0]]\n",
        "        for c in s:\n",
        "            if stack[-1][0] == c:\n",
        "                stack[-1][1] += 1\n",
        "                if stack[-1][1] == k:\n",
        "                    stack.pop()\n",
        "            else:\n",
        "                stack.append([c, 1])\n",
        "\n",
        "        return ''.join(c * k for c, k in stack) # 맨 처음 ㅇ비력한 함수의 개수가 0이라 출력 x\n",
        "\n",
        "print(removeDuplicates(\"deeedbbcccbdaa\", 3))\n",
        "print(removeDuplicates(\"abcd\", 2))"
      ],
      "execution_count": null,
      "outputs": []
    }
  ]
}
