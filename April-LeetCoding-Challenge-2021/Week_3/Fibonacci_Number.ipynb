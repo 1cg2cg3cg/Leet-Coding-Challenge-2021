{
  "nbformat": 4,
  "nbformat_minor": 0,
  "metadata": {
    "colab": {
      "name": "Week 3 : Fibonacci Number.ipynb",
      "provenance": [],
      "collapsed_sections": [],
      "authorship_tag": "ABX9TyPSriZKnpen/6N2I1F+A/bn",
      "include_colab_link": true
    },
    "kernelspec": {
      "name": "python3",
      "display_name": "Python 3"
    },
    "language_info": {
      "name": "python"
    }
  },
  "cells": [
    {
      "cell_type": "markdown",
      "metadata": {
        "id": "view-in-github",
        "colab_type": "text"
      },
      "source": [
        "<a href=\"https://colab.research.google.com/github/1cg2cg3cg/April-LeetCoding-Challenge-2021/blob/main/Week_3/Fibonacci_Number.ipynb\" target=\"_parent\"><img src=\"https://colab.research.google.com/assets/colab-badge.svg\" alt=\"Open In Colab\"/></a>"
      ]
    },
    {
      "cell_type": "code",
      "metadata": {
        "id": "bhNEwiSozqJE"
      },
      "source": [
        "import collections  # for dp\n",
        "\n",
        "class Solution:\n",
        "    # dp if we know dp[n] value, do not have to calculate at this time.\n",
        "    '''\n",
        "    dp = collections.defaultdict(int)\n",
        "    \n",
        "    def fib(self, n: int) -> int:\n",
        "        \n",
        "        if n <= 1 :\n",
        "            return n\n",
        "        \n",
        "        if self.dp[n] :\n",
        "            return self.dp[n]\n",
        "        \n",
        "        self.dp[n] = self.fib(n-1) + self.fib(n-2)\n",
        "        return self.dp[n]\n",
        "    '''\n",
        "    # can save memory\n",
        "    def fib(self, n : int) -> int :\n",
        "        print(n)\n",
        "        x, y = 0, 1\n",
        "        \n",
        "        for _ in range(n) :\n",
        "            x, y = x+y, x\n",
        "        \n",
        "        return x"
      ],
      "execution_count": null,
      "outputs": []
    }
  ]
}