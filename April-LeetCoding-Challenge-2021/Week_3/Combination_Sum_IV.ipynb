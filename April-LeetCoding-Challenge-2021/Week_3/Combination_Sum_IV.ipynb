{
  "nbformat": 4,
  "nbformat_minor": 0,
  "metadata": {
    "colab": {
      "name": "Week 3 : Combination Sum IV.ipynb",
      "provenance": [],
      "collapsed_sections": [],
      "authorship_tag": "ABX9TyOOfROUQtDLy8vqtKg2NxWt",
      "include_colab_link": true
    },
    "kernelspec": {
      "name": "python3",
      "display_name": "Python 3"
    },
    "language_info": {
      "name": "python"
    }
  },
  "cells": [
    {
      "cell_type": "markdown",
      "metadata": {
        "id": "view-in-github",
        "colab_type": "text"
      },
      "source": [
        "<a href=\"https://colab.research.google.com/github/1cg2cg3cg/April-LeetCoding-Challenge-2021/blob/main/Week_3/Combination_Sum_IV.ipynb\" target=\"_parent\"><img src=\"https://colab.research.google.com/assets/colab-badge.svg\" alt=\"Open In Colab\"/></a>"
      ]
    },
    {
      "cell_type": "code",
      "metadata": {
        "id": "vtQzfJEqUgd-"
      },
      "source": [
        "# 1st trial : timeout error\n",
        "class Solution:\n",
        "    def combinationSum4(self, nums: List[int], target: int) -> int:\n",
        "        answer = []\n",
        "        \n",
        "        def dfs(score, discovered) :    # find all possible paths\n",
        "            \n",
        "            if score == target :    # if score equals target, return path\n",
        "                return answer.append(discovered)\n",
        "            \n",
        "            for num in nums :\n",
        "                \n",
        "                if score + num <= target  : # to match the score to target\n",
        "                    dfs(score + num, discovered+[num])\n",
        "                    \n",
        "        dfs(0, [])\n",
        "\n",
        "        return len(answer)"
      ],
      "execution_count": null,
      "outputs": []
    },
    {
      "cell_type": "code",
      "metadata": {
        "colab": {
          "base_uri": "https://localhost:8080/"
        },
        "id": "AuSa6bJksC3Q",
        "outputId": "297d5dbe-08dc-43ca-f9d8-6424e7f19bd2"
      },
      "source": [
        "# DP\n",
        "import collections\n",
        "\n",
        "class Solution:\n",
        "    def combinationSum4(self, nums: List[int], target: int) -> int:        \n",
        "        dp = collections.defaultdict(int)   # to avoid out of index error\n",
        "        dp[0] = 1   # all numbers in nums have more or equal 1 path(s) (0 -> nums elements)\n",
        "                    # ex) nums = [1,2,5,7]  nums[1], nums[2], nums[5], nums[7] >= 1\n",
        "                    #                        0 -> 1, 0 -> 2,  0 -> 5,   0 -> 7\n",
        "        \n",
        "        for i in range(1,target+1) :            \n",
        "            for num in nums :\n",
        "                dp[i] += dp[i-num] if i-num >= 0 else 0\n",
        "        \n",
        "        return dp[target]"
      ],
      "execution_count": 3,
      "outputs": [
        {
          "output_type": "stream",
          "text": [
            "[[0], [0], [0], [0], [0], [0], [0], [0], [0], [0]]\n",
            "[0, 1, 2, 3, 4, 5, 6, 7, 8, 9]\n",
            "[42, 1, 2, 3, 4, 5, 6, 7, 8, 9]\n"
          ],
          "name": "stdout"
        }
      ]
    }
  ]
}