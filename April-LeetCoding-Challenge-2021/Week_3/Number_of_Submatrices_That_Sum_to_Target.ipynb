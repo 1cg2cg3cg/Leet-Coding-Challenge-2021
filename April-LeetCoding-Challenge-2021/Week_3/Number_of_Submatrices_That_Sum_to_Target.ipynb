{
  "nbformat": 4,
  "nbformat_minor": 0,
  "metadata": {
    "colab": {
      "name": "Week 2 : Number of Submatrices That Sum to Target.ipynb",
      "provenance": [],
      "collapsed_sections": [],
      "authorship_tag": "ABX9TyPr7bQSW6SeLqNegLcgFW+i",
      "include_colab_link": true
    },
    "kernelspec": {
      "name": "python3",
      "display_name": "Python 3"
    },
    "language_info": {
      "name": "python"
    }
  },
  "cells": [
    {
      "cell_type": "markdown",
      "metadata": {
        "id": "view-in-github",
        "colab_type": "text"
      },
      "source": [
        "<a href=\"https://colab.research.google.com/github/1cg2cg3cg/April-LeetCoding-Challenge-2021/blob/main/Week_2/Number_of_Submatrices_That_Sum_to_Target.ipynb\" target=\"_parent\"><img src=\"https://colab.research.google.com/assets/colab-badge.svg\" alt=\"Open In Colab\"/></a>"
      ]
    },
    {
      "cell_type": "code",
      "metadata": {
        "id": "7m9QNBk-OrbN"
      },
      "source": [
        "# I missed this question....\n"
      ],
      "execution_count": null,
      "outputs": []
    }
  ]
}
