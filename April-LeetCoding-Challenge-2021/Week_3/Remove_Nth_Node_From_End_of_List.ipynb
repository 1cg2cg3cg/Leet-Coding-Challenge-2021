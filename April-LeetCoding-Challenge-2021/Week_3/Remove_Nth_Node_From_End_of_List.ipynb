{
  "nbformat": 4,
  "nbformat_minor": 0,
  "metadata": {
    "colab": {
      "name": "Week 2 : Remove Nth Node From End of List.ipynb",
      "provenance": [],
      "collapsed_sections": [],
      "authorship_tag": "ABX9TyPKskUoe0drVFy51dh+e2tF",
      "include_colab_link": true
    },
    "kernelspec": {
      "name": "python3",
      "display_name": "Python 3"
    },
    "language_info": {
      "name": "python"
    }
  },
  "cells": [
    {
      "cell_type": "markdown",
      "metadata": {
        "id": "view-in-github",
        "colab_type": "text"
      },
      "source": [
        "<a href=\"https://colab.research.google.com/github/1cg2cg3cg/April-LeetCoding-Challenge-2021/blob/main/Week_3/Remove_Nth_Node_From_End_of_List.ipynb\" target=\"_parent\"><img src=\"https://colab.research.google.com/assets/colab-badge.svg\" alt=\"Open In Colab\"/></a>"
      ]
    },
    {
      "cell_type": "code",
      "metadata": {
        "id": "5-YfkTUK9ozO"
      },
      "source": [
        "# Definition for singly-linked list.\n",
        "# class ListNode:\n",
        "#     def __init__(self, val=0, next=None):\n",
        "#         self.val = val\n",
        "#         self.next = next\n",
        "class Solution:\n",
        "    def removeNthFromEnd(self, head: ListNode, n: int) -> ListNode:\n",
        "        \n",
        "        slow = head\n",
        "        while slow :\n",
        "            \n",
        "            fast = slow\n",
        "            for i in range(n+1) :   # check val far from current node\n",
        "                fast = fast.next\n",
        "                \n",
        "                if not fast and i < n : # have to remove 1st node\n",
        "                    head = head.next\n",
        "                    return head\n",
        "            # to remove Nth node, we have to link N-1th node to N+1 Node\n",
        "            if not fast :   \n",
        "                slow.next = slow.next.next\n",
        "                return head\n",
        "            \n",
        "            slow = slow.next    # move to next node\n",
        "        \n",
        "        return head"
      ],
      "execution_count": null,
      "outputs": []
    }
  ]
}