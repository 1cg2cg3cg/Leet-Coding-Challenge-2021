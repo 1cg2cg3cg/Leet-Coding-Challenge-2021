{
  "nbformat": 4,
  "nbformat_minor": 0,
  "metadata": {
    "colab": {
      "name": "Week 4 : Brick Wall  Solution.ipynb",
      "provenance": [],
      "collapsed_sections": [],
      "authorship_tag": "ABX9TyPxpnI6qcAri+HOJRbrPJIC",
      "include_colab_link": true
    },
    "kernelspec": {
      "name": "python3",
      "display_name": "Python 3"
    },
    "language_info": {
      "name": "python"
    }
  },
  "cells": [
    {
      "cell_type": "markdown",
      "metadata": {
        "id": "view-in-github",
        "colab_type": "text"
      },
      "source": [
        "<a href=\"https://colab.research.google.com/github/1cg2cg3cg/April-LeetCoding-Challenge-2021/blob/main/Week_4/Brick_Wall_Solution.ipynb\" target=\"_parent\"><img src=\"https://colab.research.google.com/assets/colab-badge.svg\" alt=\"Open In Colab\"/></a>"
      ]
    },
    {
      "cell_type": "code",
      "metadata": {
        "id": "geoUunKu3Tat"
      },
      "source": [
        "# Runtime: 644 ms           가까스로 통과\n",
        "# Memory Usage: 19.1 MB     가까스로 통과\n",
        "# 풀이 방법은 가장 마지막 답안과 동일한데, acummulate 함수 사용 여부에 의해 엄청난 시간 차이 발생.\n",
        "# built-in 함수 파악, 활용의 중요성!\n",
        "\n",
        "import collections\n",
        "\n",
        "class Solution:\n",
        "    def leastBricks(self, wall: List[List[int]]) -> int:\n",
        "\n",
        "        Map = collections.defaultdict(int)  # calculate seperated points only\n",
        "        \n",
        "        for i in range(len(wall)) : # floors\n",
        "            \n",
        "            for j in range(len(wall[i])-1) :\n",
        "        \n",
        "                left = sum(wall[i][:j+1])   # find seperated points\n",
        "                Map[left] += 1\n",
        "        \n",
        "        if sum(Map) == 0 :  # wall is not seperated\n",
        "            return len(wall)\n",
        "        \n",
        "        return len(wall) - max(Map.values())    # floors - the point cross the most bricks"
      ],
      "execution_count": null,
      "outputs": []
    },
    {
      "cell_type": "code",
      "metadata": {
        "id": "bqJ5mSgT3Qsp"
      },
      "source": [
        "# Brute force - timeout\n",
        "class Solution:\n",
        "    def leastBricks(self, wall: List[List[int]]) -> int:\n",
        "        length = sum(wall[0])\n",
        "        floor = len(wall)\n",
        "        map = [[0 for _ in range(sum(wall[0]))] for _ in range(len(wall))]\n",
        "        \n",
        "        for i in range(len(wall)) :\n",
        "            wall[i] = wall[i][::-1]\n",
        "        \n",
        "        for i in range(len(wall)) :\n",
        "            b = wall[i].pop()\n",
        "            for start in range(1, length) :\n",
        "                \n",
        "                if b < start :\n",
        "                    b += wall[i].pop()\n",
        "                \n",
        "                map[i][start] = b\n",
        "                \n",
        "        min_cnt = floor\n",
        "        for start in range(1, length) :\n",
        "            cnt = 0\n",
        "            \n",
        "            for i in range(floor) :\n",
        "                \n",
        "                if map[i][start] > start : cnt += 1\n",
        "                \n",
        "                if cnt > min_cnt : break\n",
        "            \n",
        "            if cnt < min_cnt : min_cnt = cnt\n",
        "        \n",
        "        return min_cnt"
      ],
      "execution_count": null,
      "outputs": []
    },
    {
      "cell_type": "code",
      "metadata": {
        "id": "uEeTXN0A-ev6"
      },
      "source": [
        "# Solution - II (HashMap in One-Pass)\n",
        "# posted by archit91\n",
        "# https://leetcode.com/explore/challenge/card/april-leetcoding-challenge-2021/596/week-4-april-22nd-april-28th/3717/discuss/1170869/Short-and-Simple-Solution-w-Explanation-and-Comments-or-Beats-100\n",
        "def leastBricks(self, wall: List[List[int]]) -> int:\n",
        "\tedges, maxEdges = defaultdict(int), 0\n",
        "\tfor row in wall:\n",
        "\t\tfor idx in accumulate(row[:-1]):\n",
        "\t\t\tedges[idx] += 1\n",
        "\t\t\tmaxEdges = max(maxEdges, edges[idx])\n",
        "\treturn len(wall) - maxEdges"
      ],
      "execution_count": null,
      "outputs": []
    }
  ]
}