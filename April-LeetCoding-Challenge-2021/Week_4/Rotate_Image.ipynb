{
  "nbformat": 4,
  "nbformat_minor": 0,
  "metadata": {
    "colab": {
      "name": "Week 4 : Rotate Image.ipynb",
      "provenance": [],
      "collapsed_sections": [],
      "authorship_tag": "ABX9TyMYePdJVQvkRHwYmR+krFjX",
      "include_colab_link": true
    },
    "kernelspec": {
      "name": "python3",
      "display_name": "Python 3"
    },
    "language_info": {
      "name": "python"
    }
  },
  "cells": [
    {
      "cell_type": "markdown",
      "metadata": {
        "id": "view-in-github",
        "colab_type": "text"
      },
      "source": [
        "<a href=\"https://colab.research.google.com/github/1cg2cg3cg/April-LeetCoding-Challenge-2021/blob/main/Week_4/Rotate_Image.ipynb\" target=\"_parent\"><img src=\"https://colab.research.google.com/assets/colab-badge.svg\" alt=\"Open In Colab\"/></a>"
      ]
    },
    {
      "cell_type": "code",
      "metadata": {
        "id": "qUI_1brqoT7U"
      },
      "source": [
        "# programmers 행렬의 곱셈에서 사용한 transpose 활용\n",
        "# in-place algorithm이 어떤 것인지 몰라서, 답을 내고도 맞지 못함\n",
        "# matrix = [list(x) for x in zip(*matrix[::-1])] 로 제출 시 오답\n",
        "\n",
        "class Solution:\n",
        "    def rotate(self, matrix: List[List[int]]) -> None:\n",
        "        \"\"\"\n",
        "        Do not return anything, modify matrix in-place instead.\n",
        "        \"\"\"\n",
        "        matrix[::] = [list(x) for x in zip(*matrix[::-1])]"
      ],
      "execution_count": null,
      "outputs": []
    }
  ]
}