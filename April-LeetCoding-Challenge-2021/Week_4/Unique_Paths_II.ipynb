{
  "nbformat": 4,
  "nbformat_minor": 0,
  "metadata": {
    "colab": {
      "name": "Week 4 : Unique Paths II.ipynb",
      "provenance": [],
      "collapsed_sections": [],
      "authorship_tag": "ABX9TyMBm8TZiuM0nxFLejGfqhaR",
      "include_colab_link": true
    },
    "kernelspec": {
      "name": "python3",
      "display_name": "Python 3"
    },
    "language_info": {
      "name": "python"
    }
  },
  "cells": [
    {
      "cell_type": "markdown",
      "metadata": {
        "id": "view-in-github",
        "colab_type": "text"
      },
      "source": [
        "<a href=\"https://colab.research.google.com/github/1cg2cg3cg/April-LeetCoding-Challenge-2021/blob/main/Week_4/Unique_Paths_II.ipynb\" target=\"_parent\"><img src=\"https://colab.research.google.com/assets/colab-badge.svg\" alt=\"Open In Colab\"/></a>"
      ]
    },
    {
      "cell_type": "code",
      "metadata": {
        "id": "OpO3VdEELZEO"
      },
      "source": [
        "# https://leetcode.com/explore/challenge/card/april-leetcoding-challenge-2021/596/week-4-april-22nd-april-28th/3723/\n",
        "# Runtime: 44 ms                Your runtime beats 49.79 % of python3 submissions.\n",
        "# Memory Usage: 14.2 MB         Your memory usage beats 94.58 % of python3 submissions.\n",
        "# 프로그래머스 level3 등굣길 문제와 비슷\n",
        "# DP solution\n",
        "class Solution:\n",
        "    def uniquePathsWithObstacles(self, obstacleGrid: List[List[int]]) -> int:\n",
        "        m, n = len(obstacleGrid), len(obstacleGrid[0])\n",
        "        map = [[0 for _ in range(n)] for _ in range(m)] # draw a map to check the possible path(s)\n",
        "        \n",
        "        if obstacleGrid[0][0] == 1 or obstacleGrid[-1][-1] == 1 :   # if it is impossible return 0\n",
        "            return 0\n",
        "        \n",
        "        for i in range(m) :\n",
        "            for j in range(n) :\n",
        "                \n",
        "                if i == 0 and j == 0 :  # start point\n",
        "                    if obstacleGrid[i][j] == 0 :    # can start\n",
        "                        map[i][j] = 1\n",
        "                        continue\n",
        "                    else :                          # can't start\n",
        "                        return 0\n",
        "                    \n",
        "                if i == 0 and j > 0 and obstacleGrid[i][j] != 1 :   # the 1st fow\n",
        "                    map[i][j] = map[i][j-1]\n",
        "                    continue\n",
        "                \n",
        "                if i > 0 and j == 0 and obstacleGrid[i][j] != 1 :   # the 1st colomn\n",
        "                    map[i][j] = map[i-1][j]\n",
        "                    continue\n",
        "                    \n",
        "                if obstacleGrid[i][j] != 1 :                        # there is no obstacle\n",
        "                    map[i][j] = map[i-1][j] + map[i][j-1]\n",
        "                else :                                              # there is an obstacle\n",
        "                    map[i][j] = 0\n",
        "                    \n",
        "        return map[-1][-1]"
      ],
      "execution_count": null,
      "outputs": []
    },
    {
      "cell_type": "code",
      "metadata": {
        "id": "2cRIBiIgMLgC"
      },
      "source": [
        "# official solution\n",
        "\n",
        "class Solution(object):\n",
        "    def uniquePathsWithObstacles(self, obstacleGrid):\n",
        "        \"\"\"\n",
        "        :type obstacleGrid: List[List[int]]\n",
        "        :rtype: int\n",
        "        \"\"\"\n",
        "\n",
        "        m = len(obstacleGrid)\n",
        "        n = len(obstacleGrid[0])\n",
        "\n",
        "        # If the starting cell has an obstacle, then simply return as there would be\n",
        "        # no paths to the destination.\n",
        "        if obstacleGrid[0][0] == 1:\n",
        "            return 0\n",
        "\n",
        "        # Number of ways of reaching the starting cell = 1.\n",
        "        obstacleGrid[0][0] = 1\n",
        "\n",
        "        # Filling the values for the first column\n",
        "        for i in range(1,m):\n",
        "            obstacleGrid[i][0] = int(obstacleGrid[i][0] == 0 and obstacleGrid[i-1][0] == 1)\n",
        "\n",
        "        # Filling the values for the first row        \n",
        "        for j in range(1, n):\n",
        "            obstacleGrid[0][j] = int(obstacleGrid[0][j] == 0 and obstacleGrid[0][j-1] == 1)\n",
        "\n",
        "        # Starting from cell(1,1) fill up the values\n",
        "        # No. of ways of reaching cell[i][j] = cell[i - 1][j] + cell[i][j - 1]\n",
        "        # i.e. From above and left.\n",
        "        for i in range(1,m):\n",
        "            for j in range(1,n):\n",
        "                if obstacleGrid[i][j] == 0:\n",
        "                    obstacleGrid[i][j] = obstacleGrid[i-1][j] + obstacleGrid[i][j-1]\n",
        "                else:\n",
        "                    obstacleGrid[i][j] = 0\n",
        "\n",
        "        # Return value stored in rightmost bottommost cell. That is the destination.            \n",
        "        return obstacleGrid[m-1][n-1]"
      ],
      "execution_count": null,
      "outputs": []
    },
    {
      "cell_type": "code",
      "metadata": {
        "id": "Cx_70VvoMfyp"
      },
      "source": [
        "# most upvoted solution\n",
        "# solver : DBabichev\n",
        "# https://leetcode.com/problems/unique-paths-ii/discuss/1180225/Python-short-dp-solution-explained\n",
        "\n",
        "class Solution:\n",
        "    def uniquePathsWithObstacles(self, M):\n",
        "        m, n = len(M), len(M[0])\n",
        "        dp = [[0] * n for _ in range(m)]\n",
        "        dp[0][0] = int(M[0][0] == 0)\n",
        "        for i, j in product(range(m), range(n)):\n",
        "            if M[i][j] == 1: continue\n",
        "            if i > 0: dp[i][j] += dp[i-1][j]\n",
        "            if j > 0: dp[i][j] += dp[i][j-1]\n",
        "                \n",
        "        return dp[-1][-1]\n",
        "\n",
        "\n",
        "class Solution:\n",
        "    def uniquePathsWithObstacles(self, M):\n",
        "        m, n = len(M), len(M[0])\n",
        "        dp = [0] * n\n",
        "        dp[0] = 1\n",
        "        for i, j in product(range(m), range(n)):\n",
        "            if M[i][j]: dp[j] = 0\n",
        "            elif j > 0: dp[j] += dp[j - 1]\n",
        "        return dp[-1]"
      ],
      "execution_count": null,
      "outputs": []
    }
  ]
}