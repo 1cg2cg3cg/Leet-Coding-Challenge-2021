{
  "nbformat": 4,
  "nbformat_minor": 0,
  "metadata": {
    "colab": {
      "name": "Week 4 : Count Binary Substrings.ipynb",
      "provenance": [],
      "collapsed_sections": [],
      "authorship_tag": "ABX9TyMvZWwTKWWsgVSAeBMt0yw7",
      "include_colab_link": true
    },
    "kernelspec": {
      "name": "python3",
      "display_name": "Python 3"
    },
    "language_info": {
      "name": "python"
    }
  },
  "cells": [
    {
      "cell_type": "markdown",
      "metadata": {
        "id": "view-in-github",
        "colab_type": "text"
      },
      "source": [
        "<a href=\"https://colab.research.google.com/github/1cg2cg3cg/April-LeetCoding-Challenge-2021/blob/main/Week_4/Count_Binary_Substrings.ipynb\" target=\"_parent\"><img src=\"https://colab.research.google.com/assets/colab-badge.svg\" alt=\"Open In Colab\"/></a>"
      ]
    },
    {
      "cell_type": "code",
      "metadata": {
        "id": "GFuMQ0AJAgaQ"
      },
      "source": [
        "# Runtime: 204 ms\n",
        "# Memory Usage: 15.3 MB\n",
        "\n",
        "# If number is changed (0 -> 1, 1 -> 0), add the index to stack\n",
        "# Find the minimum length and it is the possible longest case\n",
        "# and this case include less size of substrings.\n",
        "# 000111 includes 01, 0011\n",
        "class Solution:\n",
        "    def countBinarySubstrings(self, s: str) -> int:\n",
        "        \n",
        "        if len(s) < 2 :\n",
        "            return 0\n",
        "        \n",
        "        answer = 0\n",
        "        stack = [-1]    # to calculate the length of first changed case\n",
        "        for i in range(len(s)-1) :\n",
        "            \n",
        "            if s[i] != s[i+1] :\n",
        "                stack.append(i)\n",
        "\n",
        "        stack.append(len(s)-1)  # to calculate the length of the last case\n",
        "        \n",
        "        for i in range(1, len(stack)-1) :\n",
        "            \n",
        "            answer += min(stack[i] - stack[i-1], stack[i+1] - stack[i]) # calculate the all possible longest case and add to answer\n",
        "\n",
        "        return answer\n",
        "# ex) 000001110001\n",
        "# stack = [-1, 4, 7, 10, 11]\n",
        "# in case of the 4 (stack[1]) stack[i-1] - stack[i-1] = 5, stack[i+1] - stack[i] = 3\n",
        "# and 3 is possible longest case."
      ],
      "execution_count": null,
      "outputs": []
    },
    {
      "cell_type": "code",
      "metadata": {
        "id": "HSard3eHAnkP"
      },
      "source": [
        "# first trial : timeout\n",
        "\n",
        "class Solution:\n",
        "    def countBinarySubstrings(self, s: str) -> int:\n",
        "        n = min(s.count('0'), s.count('1')) # find the longest case\n",
        "        answer = 0\n",
        "        \n",
        "        for i in range(1, n+1) :    # find every possible size of window\n",
        "\n",
        "            if '0'*i + '1'*i in s : # 01, 0011, 000111, 00001111 ...\n",
        "                #print('0'*i + '1'*i)\n",
        "                answer += s.count('0'*i + '1'*i)\n",
        "            \n",
        "            if '1'*i + '0'*i in s : # 10, 1100, 111000, 11110000 ....\n",
        "                #print('1'*i + '0'*i)\n",
        "                answer += s.count('1'*i + '0'*i)\n",
        "        \n",
        "        return answer"
      ],
      "execution_count": null,
      "outputs": []
    },
    {
      "cell_type": "code",
      "metadata": {
        "id": "UcXXpNu3D308"
      },
      "source": [
        "# it is crazy!!\n",
        "# solved by lee215\n",
        "# https://leetcode.com/explore/challenge/card/april-leetcoding-challenge-2021/596/week-4-april-22nd-april-28th/3718/discuss/108625/JavaC++Python-Easy-and-Concise-with-Explanation\n",
        "\n",
        "# First, I count the number of 1 or 0 grouped consecutively.\n",
        "# For example \"0110001111\" will be [1, 2, 3, 4].\n",
        "\n",
        "# Second, for any possible substrings with 1 and 0 grouped consecutively, the number of valid substring will be the minimum number of 0 and 1.\n",
        "# For example \"0001111\", will be min(3, 4) = 3, (\"01\", \"0011\", \"000111\")\n",
        "\n",
        "def countBinarySubstrings(self, s):\n",
        "        s = map(len, s.replace('01', '0 1').replace('10', '1 0').split())\n",
        "        return sum(min(a, b) for a, b in zip(s, s[1:]))"
      ],
      "execution_count": null,
      "outputs": []
    },
    {
      "cell_type": "code",
      "metadata": {
        "id": "fSl4Tj3YE5HE"
      },
      "source": [
        "# solver : archit91\n",
        "\n",
        "# The problem asks us to find all substrings that have equal number of consecutive count of 0s and 1s. \n",
        "# With the given constraints, finding and checking for all substrings would obviously not work and we need to figure out a way to solve it in linear time.\n",
        "\n",
        "# We can observe from the above examples that our final count will only depend on the consecutive counts of binary characters. \n",
        "# With each two groups of consecutive characters, the number of substrings that can be formed will be minimum of count among the two groups.\n",
        "\n",
        "# Now, although we could maintain all the groupings and their counts and then count the number of substrings, \n",
        "# we actually don't even need to maintain the consecutive counts in all of the string. \n",
        "# We can just store the current consecutive count and previous consecutive count and count the substrings on the fly.\n",
        "\n",
        "# s[i] == s[i - 1] : When current character is equal to previous - just increment the current consecutive count.\n",
        "# s[i] != s[i - 1] : Whenever current character is not equal to previous - We know that we at least have group of 2 different characters having consecutiveCount >= 1. \n",
        "# The number of substrings that can be formed from these would be equal to minimum of currentConsecutiveCount & prevConsecutiveCount.\n",
        "\n",
        "# So just add that amount to ans. Now prevConsecutiveCount will become equal to currentConsecutiveCount and reset the currentConsecutiveCount to 1.\n",
        "\n",
        "# https://leetcode.com/explore/challenge/card/april-leetcoding-challenge-2021/596/week-4-april-22nd-april-28th/3718/discuss/1172569/Short-and-Easy-w-Explanation-and-Comments-or-Keeping-Consecutive-0s-and-1s-Count-or-Beats-100\n",
        "\n",
        "def countBinarySubstrings(self, s: str) -> int:\n",
        "\tans, prev, cur = 0, 0, 1\n",
        "\tfor i in range(1, len(s)):\n",
        "\t\tif s[i] != s[i - 1]: # number is changed (0 -> 1, 1 -> 0)\n",
        "\t\t\tans += min(prev, cur)\n",
        "\t\t\tprev = cur  # previous number's length, role such as stack[i-1]\n",
        "\t\t\tcur = 1 # minimum value\n",
        "\t\t\n",
        "        else:   # repeatedly same letters\n",
        "\t\t\tcur += 1\n",
        "\t\n",
        "    ans += min(prev, cur)\n",
        "\treturn ans"
      ],
      "execution_count": null,
      "outputs": []
    }
  ]
}