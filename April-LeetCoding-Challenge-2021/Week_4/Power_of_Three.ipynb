{
  "nbformat": 4,
  "nbformat_minor": 0,
  "metadata": {
    "colab": {
      "name": "Week 4 : Power of Three.ipynb",
      "provenance": [],
      "collapsed_sections": [],
      "authorship_tag": "ABX9TyNoISfP8jrwIzMyFr5Lu3te",
      "include_colab_link": true
    },
    "kernelspec": {
      "name": "python3",
      "display_name": "Python 3"
    },
    "language_info": {
      "name": "python"
    }
  },
  "cells": [
    {
      "cell_type": "markdown",
      "metadata": {
        "id": "view-in-github",
        "colab_type": "text"
      },
      "source": [
        "<a href=\"https://colab.research.google.com/github/1cg2cg3cg/April-LeetCoding-Challenge-2021/blob/main/Week_4/Power_of_Three.ipynb\" target=\"_parent\"><img src=\"https://colab.research.google.com/assets/colab-badge.svg\" alt=\"Open In Colab\"/></a>"
      ]
    },
    {
      "cell_type": "code",
      "metadata": {
        "id": "fnaHzcBmA2Ze"
      },
      "source": [
        "# power of two :\n",
        "# 2의 n 제곱수의 2진 표현과 n-1의 이진 표현을 &연산하면, 2의 n제곱수는 항상 0이다.\n",
        "def solution(n) :\n",
        "\n",
        "    if n & (n-1) :\n",
        "        return False\n",
        "    else :\n",
        "        return True\n",
        "    \n",
        "    return False if n & (n-1) else True\n",
        "\n",
        "print(solution(8))"
      ],
      "execution_count": null,
      "outputs": []
    },
    {
      "cell_type": "code",
      "metadata": {
        "id": "gkIOlRY_0N3A"
      },
      "source": [
        "# 위와 같은 방법으로 해결하려 했으나 실패\n",
        "# 편법으로 범위 내 가능한 모든 3의 제곱수를 구하고 비교하는 방식 사용\n",
        "# 이외, loop를 사용하면 해결 가능\n",
        "class Solution:\n",
        "    \n",
        "    base = [1]\n",
        "    \n",
        "    while base[-1] < 2**31 :\n",
        "        base.append(base[-1]*3)\n",
        "\n",
        "    base = set(base)    # list와 set의 in 연산 속도 차이를 고려해 set으로 변환\n",
        "    \n",
        "    def isPowerOfThree(self, n: int) -> bool:\n",
        "        return True if n in self.base else False"
      ],
      "execution_count": null,
      "outputs": []
    }
  ]
}