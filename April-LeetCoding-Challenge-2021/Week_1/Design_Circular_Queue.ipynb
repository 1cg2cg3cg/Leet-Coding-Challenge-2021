{
  "nbformat": 4,
  "nbformat_minor": 0,
  "metadata": {
    "colab": {
      "name": "Week 1 : Design Circular Queue.ipynb",
      "provenance": [],
      "collapsed_sections": [],
      "authorship_tag": "ABX9TyMHJDwrUnw0ykjl8s6A2s6a",
      "include_colab_link": true
    },
    "kernelspec": {
      "name": "python3",
      "display_name": "Python 3"
    },
    "language_info": {
      "name": "python"
    }
  },
  "cells": [
    {
      "cell_type": "markdown",
      "metadata": {
        "id": "view-in-github",
        "colab_type": "text"
      },
      "source": [
        "<a href=\"https://colab.research.google.com/github/1cg2cg3cg/April-LeetCoding-Challenge-2021/blob/main/Week_1/Design_Circular_Queue.ipynb\" target=\"_parent\"><img src=\"https://colab.research.google.com/assets/colab-badge.svg\" alt=\"Open In Colab\"/></a>"
      ]
    },
    {
      "cell_type": "code",
      "metadata": {
        "id": "-C4_uEiZdQZ9"
      },
      "source": [
        "# 파이썬 알고리즘 인터뷰 259쪽\n",
        "# 알고있던 문제라 어렵지 않았다.\n",
        "class MyCircularQueue:\n",
        "\n",
        "    def __init__(self, k: int):\n",
        "        self.queue = [None] * k # 길이만큼 큐 생성\n",
        "        self.maxlength = k\n",
        "        self.head = 0   # 머리와 꼬리를 통해 큐의 시작과 끝\n",
        "        self.tail = 0   # 채워져있는 구간 표시\n",
        "\n",
        "    def enQueue(self, value: int) -> bool:\n",
        "        if self.queue[self.tail] is None :  # queue가 비어있으면\n",
        "            self.queue[self.tail] = value   # 추가\n",
        "            self.tail = (self.tail+1) % self.maxlength  # 추가하고 꼬리 한 칸 이동, 전체 길이를 넘어가지 않도록 mod 연산\n",
        "            return True\n",
        "        else :\n",
        "            return False\n",
        "\n",
        "    def deQueue(self) -> bool:\n",
        "        if self.queue[self.head] is not None :  # 값이 채워져 있는 경우\n",
        "            self.queue[self.head] = None    # 제거하고\n",
        "            self.head = (self.head+1) % self.maxlength  # 머리를 앞으로 이동\n",
        "            return True\n",
        "        else :\n",
        "            return False\n",
        "\n",
        "    def Front(self) -> int:\n",
        "        if self.queue[self.head] is None :  # 비어있는 경우\n",
        "            return -1\n",
        "        else :\n",
        "            return self.queue[self.head]\n",
        "\n",
        "    def Rear(self) -> int:\n",
        "        if self.queue[self.tail-1] is None :    # 비어있는 경우\n",
        "            return -1\n",
        "        else :\n",
        "            return self.queue[self.tail-1]\n",
        "\n",
        "    def isEmpty(self) -> bool:\n",
        "        if self.head == self.tail and self.queue[self.head] is None:    # 머리와 꼬리가 같고, 비어있으면 큐의 모든 자리가 비어있다.\n",
        "            return True\n",
        "        else :\n",
        "            return False\n",
        "\n",
        "    def isFull(self) -> bool:\n",
        "        if self.head == self.tail and self.queue[self.head] is not None :   # 머리와 꼬리가 같고, 비어있지 않으면 큐의 모든 자리가 채워져있다.\n",
        "            return True\n",
        "        else :\n",
        "            return False\n",
        "\n",
        "\n",
        "# Your MyCircularQueue object will be instantiated and called as such:\n",
        "# obj = MyCircularQueue(k)\n",
        "# param_1 = obj.enQueue(value)\n",
        "# param_2 = obj.deQueue()\n",
        "# param_3 = obj.Front()\n",
        "# param_4 = obj.Rear()\n",
        "# param_5 = obj.isEmpty()\n",
        "# param_6 = obj.isFull()"
      ],
      "execution_count": null,
      "outputs": []
    }
  ]
}