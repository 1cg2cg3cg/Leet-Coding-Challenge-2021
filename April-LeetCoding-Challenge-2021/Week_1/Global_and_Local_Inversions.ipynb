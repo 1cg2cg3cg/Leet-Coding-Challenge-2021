{
  "nbformat": 4,
  "nbformat_minor": 0,
  "metadata": {
    "colab": {
      "name": "Week 1 : Global and Local Inversions.ipynb",
      "provenance": [],
      "collapsed_sections": [],
      "authorship_tag": "ABX9TyPjaQaHhglW07A4Wq0HJezA",
      "include_colab_link": true
    },
    "kernelspec": {
      "name": "python3",
      "display_name": "Python 3"
    },
    "language_info": {
      "name": "python"
    }
  },
  "cells": [
    {
      "cell_type": "markdown",
      "metadata": {
        "id": "view-in-github",
        "colab_type": "text"
      },
      "source": [
        "<a href=\"https://colab.research.google.com/github/1cg2cg3cg/April-LeetCoding-Challenge-2021/blob/main/Week_1/Global_and_Local_Inversions.ipynb\" target=\"_parent\"><img src=\"https://colab.research.google.com/assets/colab-badge.svg\" alt=\"Open In Colab\"/></a>"
      ]
    },
    {
      "cell_type": "code",
      "metadata": {
        "id": "tW3fqe5AdWIH"
      },
      "source": [
        "# global inversions 는 local inversions를 포함하는 개념\n",
        "# local이 아닌 global이 하나라도 있으면 False!\n",
        "# 좌측에서부터 움직이면서 오른쪽으로 두 칸 이상 떨어진 작은 수가 있다면 False\n",
        "class Solution:\n",
        "    def isIdealPermutation(self, A: List[int]) -> bool:\n",
        "        max_val = 0\n",
        "        \n",
        "        for i in range(len(A)-2) :\n",
        "            \n",
        "            if A[i] > max_val :\n",
        "                max_val = A[i]\n",
        "                \n",
        "            if max_val > A[i+2]:\n",
        "                return False\n",
        "        \n",
        "        return True"
      ],
      "execution_count": null,
      "outputs": []
    }
  ]
}