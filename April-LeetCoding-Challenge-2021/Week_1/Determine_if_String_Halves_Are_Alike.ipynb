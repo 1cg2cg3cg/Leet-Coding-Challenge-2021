{
  "nbformat": 4,
  "nbformat_minor": 0,
  "metadata": {
    "colab": {
      "name": "Week 1 : Determine if String Halves Are Alike.ipynb",
      "provenance": [],
      "collapsed_sections": [],
      "authorship_tag": "ABX9TyOPEY1v+zGC3xUrOof+VOqk",
      "include_colab_link": true
    },
    "kernelspec": {
      "name": "python3",
      "display_name": "Python 3"
    },
    "language_info": {
      "name": "python"
    }
  },
  "cells": [
    {
      "cell_type": "markdown",
      "metadata": {
        "id": "view-in-github",
        "colab_type": "text"
      },
      "source": [
        "<a href=\"https://colab.research.google.com/github/1cg2cg3cg/April-LeetCoding-Challenge-2021/blob/main/Week_1/Determine_if_String_Halves_Are_Alike.ipynb\" target=\"_parent\"><img src=\"https://colab.research.google.com/assets/colab-badge.svg\" alt=\"Open In Colab\"/></a>"
      ]
    },
    {
      "cell_type": "code",
      "metadata": {
        "id": "zOtu7kLjrF10"
      },
      "source": [
        "#Runtime: 20 ms     ## python in operation의 연산 속도를 고려해 list -> set 변경    ## 매 측정마다 오차 발생\n",
        "#Memory Usage: 14.4 MB\n",
        "# Your runtime beats 99.82 % of python3 submissions.\n",
        "class Solution:\n",
        "    def halvesAreAlike(self, s: str) -> bool:\n",
        "        \n",
        "        def check(s:str) -> int :   # 모음 개수 비교를 위한 함수\n",
        "            answer = 0\n",
        "            for i in s :\n",
        "                if i in {'a', 'e', 'i', 'o', 'u', 'A', 'E', 'I', 'O', 'U'} :\n",
        "                    answer += 1\n",
        "            \n",
        "            return answer\n",
        "        \n",
        "        if check(s[:len(s) // 2]) == check(s[len(s) // 2:]) :   # 모음의 개수 비교\n",
        "            return True\n",
        "        else :\n",
        "            return False"
      ],
      "execution_count": null,
      "outputs": []
    },
    {
      "cell_type": "code",
      "metadata": {
        "id": "wONZtcvDwbPV"
      },
      "source": [
        "#Runtime: 36 ms     ## 메모리 사용량 감소, 연산 시간 증가    ## 매 측정마다 오차 발생\n",
        "#Memory Usage: 14.1 MB\n",
        "#Your runtime beats 57.16 % of python3 submissions.\n",
        "#Your memory usage beats 87.83 % of python3 submissions.\n",
        "class Solution:\n",
        "    def halvesAreAlike(self, s: str) -> bool:\n",
        "        \n",
        "        vowels = {'a', 'e', 'i', 'o', 'u', 'A', 'E', 'I', 'O', 'U'}\n",
        "        cnt1, cnt2 = 0, 0\n",
        "        for i in s[:len(s) // 2] :\n",
        "            if i in vowels :\n",
        "                cnt1 += 1\n",
        "        for i in s[len(s) // 2:] :\n",
        "            if i in vowels :\n",
        "                cnt2 += 1\n",
        "        \n",
        "        return cnt1 == cnt2"
      ],
      "execution_count": null,
      "outputs": []
    },
    {
      "cell_type": "code",
      "metadata": {
        "id": "HoWc69C5lGS8"
      },
      "source": [
        "#Runtime: 32 ms\n",
        "#Memory Usage: 14.1 MB\n",
        "#Your runtime beats 82.09 % of python3 submissions.\n",
        "\n",
        "class Solution:\n",
        "    def halvesAreAlike(self, s: str) -> bool:\n",
        "        \n",
        "        def check(s:str) -> int :   # 모음 개수 비교를 위한 함수\n",
        "            answer = 0\n",
        "            for i in s :\n",
        "                if i in ['a', 'e', 'i', 'o', 'u', 'A', 'E', 'I', 'O', 'U'] :\n",
        "                    answer += 1\n",
        "            \n",
        "            return answer\n",
        "        \n",
        "        a, b = s[:len(s) // 2], s[len(s) // 2:] # 문제의 요구대로, 반 씩 나누고\n",
        "        \n",
        "        if check(a) == check(b) :   # 모음의 개수 비교\n",
        "            return True\n",
        "        else :\n",
        "            return False"
      ],
      "execution_count": null,
      "outputs": []
    },
    {
      "cell_type": "code",
      "metadata": {
        "id": "CkN8zfbnsqEw"
      },
      "source": [
        "# Runtime: 36 ms\n",
        "# Memory Usage: 14.4 MB\n",
        "class Solution:\n",
        "    def halvesAreAlike(self, s: str) -> bool:\n",
        "        \n",
        "        def check(s:str) -> int :   # 모음 개수 비교를 위한 함수\n",
        "            answer = 0\n",
        "            for i in s :\n",
        "                if i in 'aeiouAEIOU' :\n",
        "                    answer += 1\n",
        "            \n",
        "            return answer\n",
        "        \n",
        "        if check(s[:len(s) // 2]) == check(s[len(s) // 2:]) :   # 모음의 개수 비교\n",
        "            return True\n",
        "        else :\n",
        "            return False      "
      ],
      "execution_count": null,
      "outputs": []
    },
    {
      "cell_type": "code",
      "metadata": {
        "id": "KyJoULV4s-s3"
      },
      "source": [
        "#Runtime: 32 ms     ## Discussion의 풀이. 큰 차이는 없다.\n",
        "#Memory Usage: 14.3 MB\n",
        "\n",
        "class Solution:\n",
        "    def halvesAreAlike(self, s: str) -> bool:\n",
        "        cnt, half = 0, len(s) / 2\n",
        "        for i, c in enumerate(s):\n",
        "            if c in \"aeiouAEIOU\":\n",
        "                cnt += 1 if i < half else -1 \n",
        "        return cnt == 0"
      ],
      "execution_count": null,
      "outputs": []
    },
    {
      "cell_type": "code",
      "metadata": {
        "id": "-MPmw42TvRdf"
      },
      "source": [
        "#Runtime: 32 ms\n",
        "#Memory Usage: 14.4 MB\n",
        "# Your runtime beats 82.09 % of python3 submissions\n",
        "\n",
        "class Solution:\n",
        "    \n",
        "    @staticmethod\n",
        "    def check(s:str) -> int :   # 모음 개수 비교를 위한 함수\n",
        "        answer = 0\n",
        "        for i in s :\n",
        "            if i in {'a', 'e', 'i', 'o', 'u', 'A', 'E', 'I', 'O', 'U'} :\n",
        "                answer += 1\n",
        "\n",
        "        return answer\n",
        "\n",
        "    def halvesAreAlike(self, s: str) -> bool:\n",
        "        if self.check(s[:len(s) // 2]) == self.check(s[len(s) // 2:]) :   # 모음의 개수 비교\n",
        "            return True\n",
        "        else :\n",
        "            return False"
      ],
      "execution_count": null,
      "outputs": []
    }
  ]
}