{
  "nbformat": 4,
  "nbformat_minor": 0,
  "metadata": {
    "colab": {
      "name": "Week 1 : Minimum Operations to Make Array Equal.ipynb",
      "provenance": [],
      "collapsed_sections": [],
      "authorship_tag": "ABX9TyPT/uYJoDuH6nCUCBO+w4No",
      "include_colab_link": true
    },
    "kernelspec": {
      "name": "python3",
      "display_name": "Python 3"
    },
    "language_info": {
      "name": "python"
    }
  },
  "cells": [
    {
      "cell_type": "markdown",
      "metadata": {
        "id": "view-in-github",
        "colab_type": "text"
      },
      "source": [
        "<a href=\"https://colab.research.google.com/github/1cg2cg3cg/April-LeetCoding-Challenge-2021/blob/main/Week_1/Minimum_Operations_to_Make_Array_Equal.ipynb\" target=\"_parent\"><img src=\"https://colab.research.google.com/assets/colab-badge.svg\" alt=\"Open In Colab\"/></a>"
      ]
    },
    {
      "cell_type": "code",
      "metadata": {
        "id": "juYu4fdmxihM"
      },
      "source": [
        "# [1, 3] -> [2, 2]\n",
        "# [1, 3, 5] -> [2, 3, 4] -> [3, 3, 3]\n",
        "# [1, 3, 5, 7] -> [2, 3, 5, 6] -> [3, 3, 5, 5] ->  [4, 3, 4, 5] -> [4, 4, 4, 4]\n",
        "# target = sum(arr) / n\n",
        "# 배열의 중간을 기준으로 좌측과 우측을 번갈아 선택해야 target에 도달할 수 있다.\n",
        "# 따라서 한 쪽을 모두 target을 만들기 위해 차만큼 선택해야 함.\n",
        "class Solution:\n",
        "    def minOperations(self, n: int) -> int:\n",
        "        answer = 0\n",
        "        target = sum([2*i+1 for i in range(n)]) / n\n",
        "        \n",
        "        for i in range(n//2) :\n",
        "            answer += target - (2*i+1)\n",
        "            \n",
        "        return int(answer)"
      ],
      "execution_count": null,
      "outputs": []
    }
  ]
}