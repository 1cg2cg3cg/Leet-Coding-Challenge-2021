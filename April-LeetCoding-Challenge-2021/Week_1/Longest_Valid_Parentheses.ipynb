{
  "nbformat": 4,
  "nbformat_minor": 0,
  "metadata": {
    "colab": {
      "name": "Week 1 : Longest Valid Parentheses.ipynb",
      "provenance": [],
      "collapsed_sections": [],
      "authorship_tag": "ABX9TyMLjEiBtB88ZBhrOjpUvUJJ",
      "include_colab_link": true
    },
    "kernelspec": {
      "name": "python3",
      "display_name": "Python 3"
    },
    "language_info": {
      "name": "python"
    }
  },
  "cells": [
    {
      "cell_type": "markdown",
      "metadata": {
        "id": "view-in-github",
        "colab_type": "text"
      },
      "source": [
        "<a href=\"https://colab.research.google.com/github/1cg2cg3cg/April-LeetCoding-Challenge-2021/blob/main/Week_1/Longest_Valid_Parentheses.ipynb\" target=\"_parent\"><img src=\"https://colab.research.google.com/assets/colab-badge.svg\" alt=\"Open In Colab\"/></a>"
      ]
    },
    {
      "cell_type": "code",
      "metadata": {
        "id": "9EE80lJYdJ7l"
      },
      "source": [
        "class Solution:\n",
        "    def longestValidParentheses(self, s: str) -> int:\n",
        "        answer, length, stack = 0, 0, [-1]\n",
        "        \n",
        "        for i in range(len(s)): \n",
        "            \n",
        "            if s[i] == '(' :\n",
        "                stack.append(i)\n",
        "            else :\n",
        "                stack.pop()\n",
        "                \n",
        "                if stack :\n",
        "                    length = i - stack[-1]\n",
        "                    if length > answer :\n",
        "                        answer = length\n",
        "                else :\n",
        "                    stack.append(i)\n",
        "        \n",
        "        return answer"
      ],
      "execution_count": null,
      "outputs": []
    },
    {
      "cell_type": "code",
      "metadata": {
        "id": "RsjxD9uZ6FU6"
      },
      "source": [
        "https://leetcode.com/problems/longest-valid-parentheses/solution/\n",
        "\n",
        "다행히 유명한 문제들만 계속 나와서, 꾸역꾸역 풀어내고 있다.\n",
        "\n",
        "leetcode 자체적으로 다양한 방법의 풀이를 제공한다.\n",
        "stack을 이용한 풀이와 일치하는데, brute force, dp 풀이는 전혀 생각하지 못했다.\n",
        "슬라이딩 윈도우를 이용한 풀이는 효율성이 떨어진다고 생각해 항상 배재했는데, 제한 시간이 있는 상황이라면 가장 직관적으로 떠올릴 수 있는 풀이인 것 같다."
      ],
      "execution_count": null,
      "outputs": []
    }
  ]
}