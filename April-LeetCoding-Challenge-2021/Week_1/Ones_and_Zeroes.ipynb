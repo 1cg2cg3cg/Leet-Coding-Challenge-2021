{
  "nbformat": 4,
  "nbformat_minor": 0,
  "metadata": {
    "colab": {
      "name": "Week 1 : Ones and Zeroes.ipynb",
      "provenance": [],
      "collapsed_sections": [],
      "authorship_tag": "ABX9TyPFECZsoq+gmMwJtvTzc1UA",
      "include_colab_link": true
    },
    "kernelspec": {
      "name": "python3",
      "display_name": "Python 3"
    },
    "language_info": {
      "name": "python"
    }
  },
  "cells": [
    {
      "cell_type": "markdown",
      "metadata": {
        "id": "view-in-github",
        "colab_type": "text"
      },
      "source": [
        "<a href=\"https://colab.research.google.com/github/1cg2cg3cg/April-LeetCoding-Challenge-2021/blob/main/Week_1/Ones_and_Zeroes.ipynb\" target=\"_parent\"><img src=\"https://colab.research.google.com/assets/colab-badge.svg\" alt=\"Open In Colab\"/></a>"
      ]
    },
    {
      "cell_type": "code",
      "metadata": {
        "id": "iMdt-q2Sc87u"
      },
      "source": [
        "# 파이썬 알고리즘 인터뷰 p.632 배낭 문제와 비슷\n",
        "class Solution:\n",
        "    def findMaxForm(self, strs: List[str], m: int, n: int) -> int:\n",
        "        \n",
        "        dp = [[0] * (m+1) for _ in range(n+1)]\n",
        "        \n",
        "        for s in strs :\n",
        "            \n",
        "            ones, zeroes = s.count('1'), s.count('0')\n",
        "            \n",
        "            for i in range(m, zeroes-1, -1) :\n",
        "                \n",
        "                for j in range(n, ones-1, -1) :\n",
        "                    \n",
        "                    dp[j][i] = max( 1+dp[j-ones][i-zeroes], dp[j][i])\n",
        "                    # dp[0의 개수][1의 개수]에 도달할 수있는 방법의 수 확인\n",
        "                    # 비슷한 방법으로 풀지만, 매 번 정확하게 생각하고 풀어내기 어렵다.\n",
        "        return dp[-1][-1]"
      ],
      "execution_count": null,
      "outputs": []
    }
  ]
}