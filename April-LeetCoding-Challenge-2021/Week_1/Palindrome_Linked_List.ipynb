{
  "nbformat": 4,
  "nbformat_minor": 0,
  "metadata": {
    "colab": {
      "name": "Week 1 : Palindrome Linked List.ipynb",
      "provenance": [],
      "collapsed_sections": [],
      "authorship_tag": "ABX9TyPPWev73H5tmEq3hf+a21PG",
      "include_colab_link": true
    },
    "kernelspec": {
      "name": "python3",
      "display_name": "Python 3"
    },
    "language_info": {
      "name": "python"
    }
  },
  "cells": [
    {
      "cell_type": "markdown",
      "metadata": {
        "id": "view-in-github",
        "colab_type": "text"
      },
      "source": [
        "<a href=\"https://colab.research.google.com/github/1cg2cg3cg/April-LeetCoding-Challenge-2021/blob/main/Week_1/Palindrome_Linked_List.ipynb\" target=\"_parent\"><img src=\"https://colab.research.google.com/assets/colab-badge.svg\" alt=\"Open In Colab\"/></a>"
      ]
    },
    {
      "cell_type": "code",
      "metadata": {
        "id": "BL_C2EclGPUS"
      },
      "source": [
        "# Definition for singly-linked list.\n",
        "# class ListNode:\n",
        "#     def __init__(self, val=0, next=None):\n",
        "#         self.val = val\n",
        "#         self.next = next\n",
        "class Solution:\n",
        "    def isPalindrome(self, head: ListNode) -> bool:\n",
        "        # solution 1\n",
        "        '''\n",
        "        node = head\n",
        "        q = []\n",
        "        \n",
        "        while node :    # List가 끝이 아닌 경우, q에 계속해서 추가\n",
        "            q.append(node.val)\n",
        "            node = node.next\n",
        "                    \n",
        "        if q == q[::-1] :   # List가 끝나면, 전체를 뒤집어서 일치하는지 확인\n",
        "            return True\n",
        "        \n",
        "        else :\n",
        "            return False\n",
        "        '''\n",
        "        # solution 2    # runner를 사용한 풀이\n",
        "        slow = fast = head\n",
        "        rev = None\n",
        "        \n",
        "        while fast and fast.next :  # fast는 2칸씩 전진하면서, List의 중앙을 찾는다.\n",
        "            fast = fast.next.next\n",
        "            \n",
        "            rev, rev.next, slow = slow, rev, slow.next  # slow가 지나오는 node를 역순으로 연결하는 List rev\n",
        "        \n",
        "        if fast :   # List가 짝수개인 경우 다음 것부터 비교\n",
        "            slow = slow.next\n",
        "            \n",
        "        while rev and rev.val == slow.val : # 중앙에서부터, slow는 전진, rev는 후진하면서 palindrome 여부 확인\n",
        "            slow, rev = slow.next, rev.next\n",
        "        \n",
        "        return not rev  # palindrome 인 경우 not None이 된다."
      ],
      "execution_count": null,
      "outputs": []
    }
  ]
}