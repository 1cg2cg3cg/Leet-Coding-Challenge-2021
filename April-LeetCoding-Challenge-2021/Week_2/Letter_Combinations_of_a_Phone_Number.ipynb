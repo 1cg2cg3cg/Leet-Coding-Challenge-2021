{
  "nbformat": 4,
  "nbformat_minor": 0,
  "metadata": {
    "colab": {
      "name": "Week 2 : Letter Combinations of a Phone Number.ipynb",
      "provenance": [],
      "authorship_tag": "ABX9TyMEaO2A2qFHU2Cmjebz4xSj",
      "include_colab_link": true
    },
    "kernelspec": {
      "name": "python3",
      "display_name": "Python 3"
    },
    "language_info": {
      "name": "python"
    }
  },
  "cells": [
    {
      "cell_type": "markdown",
      "metadata": {
        "id": "view-in-github",
        "colab_type": "text"
      },
      "source": [
        "<a href=\"https://colab.research.google.com/github/1cg2cg3cg/April-LeetCoding-Challenge-2021/blob/main/Week_2/Letter_Combinations_of_a_Phone_Number.ipynb\" target=\"_parent\"><img src=\"https://colab.research.google.com/assets/colab-badge.svg\" alt=\"Open In Colab\"/></a>"
      ]
    },
    {
      "cell_type": "code",
      "metadata": {
        "colab": {
          "base_uri": "https://localhost:8080/"
        },
        "id": "20L5fFwvve1m",
        "outputId": "fdbd1d35-fe9a-4e45-8f30-867c6c327677"
      },
      "source": [
        "# 파이썬 알고리즘 인터뷰에서 풀었던 문제\n",
        "# Your memory usage beats 33.10 % of python3 submissions.\n",
        "# Your runtime beats 81.79 % of python3 submissions.\n",
        "# 겨우겨우 풀어내기만 한 수준인 것 같다...\n",
        "from typing import List\n",
        "def letterCombinations(digits: str) -> List[str]:\n",
        "    answer = []\n",
        "    graph = {'2' : 'abc', '3' : 'def', '4' : 'ghi', \n",
        "                '5' : 'jkl' , '6' : 'mno' , '7' : 'pqrs' , '8' : 'tuv' , '9' : 'wxyz'}\n",
        "    \n",
        "    def dfs(index, path) :\n",
        "        \n",
        "        if len(path) == len(digits) :\n",
        "            answer.append(path)\n",
        "            return\n",
        "\n",
        "        for i in range(index, len(digits)) :\n",
        "            \n",
        "            for node in graph[digits[i]] :\n",
        "                dfs(i+1, path+node)\n",
        "    \n",
        "    dfs(0, '')\n",
        "\n",
        "    return answer\n",
        "\n",
        "\n",
        "print(letterCombinations('23'))"
      ],
      "execution_count": 5,
      "outputs": [
        {
          "output_type": "stream",
          "text": [
            "2 abc\n",
            "3 def\n",
            "['ad', 'ae', 'af', 'bd', 'be', 'bf', 'cd', 'ce', 'cf']\n"
          ],
          "name": "stdout"
        }
      ]
    }
  ]
}