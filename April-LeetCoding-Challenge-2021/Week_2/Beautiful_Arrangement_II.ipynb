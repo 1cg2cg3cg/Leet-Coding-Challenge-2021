{
  "nbformat": 4,
  "nbformat_minor": 0,
  "metadata": {
    "colab": {
      "name": "Week 2 : Beautiful Arrangement II.ipynb",
      "provenance": [],
      "collapsed_sections": [],
      "authorship_tag": "ABX9TyML4pFj7lbZNxbXGeO27rSY",
      "include_colab_link": true
    },
    "kernelspec": {
      "name": "python3",
      "display_name": "Python 3"
    },
    "language_info": {
      "name": "python"
    }
  },
  "cells": [
    {
      "cell_type": "markdown",
      "metadata": {
        "id": "view-in-github",
        "colab_type": "text"
      },
      "source": [
        "<a href=\"https://colab.research.google.com/github/1cg2cg3cg/April-LeetCoding-Challenge-2021/blob/main/Week_2/Beautiful_Arrangement_II.ipynb\" target=\"_parent\"><img src=\"https://colab.research.google.com/assets/colab-badge.svg\" alt=\"Open In Colab\"/></a>"
      ]
    },
    {
      "cell_type": "code",
      "metadata": {
        "id": "51ToKgMoi2d0"
      },
      "source": [
        "# Runtime: 1052 ms          거의 꼴찌에 가깝다.. 가까스로 통과한 수준.. 개선하자!\n",
        "# Memory Usage: 15.1 MB     Your memory usage beats 83.33 % of python3 submissions.\n",
        "\n",
        "# k+1번의 조작만으로 k개의 차이를 만들 수 있다는 것은 파악했지만,\n",
        "# 그 차이를 효율적으로 만들어내는 일관된 논리를 찾지 못했다.\n",
        "# head and tail order 배웠으니, 비슷한 문제 나오면 활용하기!\n",
        "class Solution:\n",
        "    def constructArray(self, n: int, k: int) -> List[int]:\n",
        "        answer = []\n",
        "        \n",
        "        while k > 0 :\n",
        "            \n",
        "            if not answer :\n",
        "                answer.append(1)\n",
        "            \n",
        "            if len(answer) % 2 == 1 :\n",
        "                answer.append(answer[-1]+k)\n",
        "                k -= 1\n",
        "            else :\n",
        "                answer.append(answer[-1]-k)\n",
        "                k -= 1\n",
        "                \n",
        "        for i in range(1, n+1) :\n",
        "            if i not in answer :\n",
        "                answer.append(i)\n",
        "        \n",
        "        return answer"
      ],
      "execution_count": null,
      "outputs": []
    },
    {
      "cell_type": "code",
      "metadata": {
        "id": "KaXIWhgFjKax"
      },
      "source": [
        "# k개의 차이를 만들기 위해 k+1개의 숫자만 있으면 된다.\n",
        "# n-k-1개의 필요 없는 숫자와 k+1개의 숫자로 나누고,\n",
        "# n-k-1까지는 range()함수로 나열해버린다.\n",
        "# 남아있는 k+1 ~ n중 head and tail 순서로 뽑아내면 풀이 끝.\n",
        "class Solution(object):\n",
        "    def constructArray(self, n, k):\n",
        "        ans = list(range(1, n - k))\n",
        "        for i in range(k+1):\n",
        "            if i % 2 == 0:\n",
        "                ans.append(n-k + i//2)\n",
        "            else:\n",
        "                ans.append(n - i//2)\n",
        "\n",
        "        return ans"
      ],
      "execution_count": null,
      "outputs": []
    }
  ]
}