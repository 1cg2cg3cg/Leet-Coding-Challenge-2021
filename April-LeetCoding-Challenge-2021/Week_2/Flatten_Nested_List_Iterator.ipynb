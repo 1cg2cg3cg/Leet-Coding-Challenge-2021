{
  "nbformat": 4,
  "nbformat_minor": 0,
  "metadata": {
    "colab": {
      "name": "Week 2 : Flatten Nested List Iterator.ipynb",
      "provenance": [],
      "collapsed_sections": [],
      "authorship_tag": "ABX9TyPXScSVsi/GDlE2R5NtogA4",
      "include_colab_link": true
    },
    "kernelspec": {
      "name": "python3",
      "display_name": "Python 3"
    },
    "language_info": {
      "name": "python"
    }
  },
  "cells": [
    {
      "cell_type": "markdown",
      "metadata": {
        "id": "view-in-github",
        "colab_type": "text"
      },
      "source": [
        "<a href=\"https://colab.research.google.com/github/1cg2cg3cg/April-LeetCoding-Challenge-2021/blob/main/Week_2/Flatten_Nested_List_Iterator.ipynb\" target=\"_parent\"><img src=\"https://colab.research.google.com/assets/colab-badge.svg\" alt=\"Open In Colab\"/></a>"
      ]
    },
    {
      "cell_type": "code",
      "metadata": {
        "id": "rWi8_A7LPf-1"
      },
      "source": [
        "# This is the interface that allows for creating nested lists.\n",
        "# You should not implement it, or speculate about its implementation\n",
        "# \n",
        "#class NestedInteger:\n",
        "#    def isInteger(self) -> bool:\n",
        "#        \"\"\"\n",
        "#        return True if this NestedInteger holds a single integer, rather than a nested list.\n",
        "#        \"\"\"\n",
        "#\n",
        "#    def getInteger(self) -> int:\n",
        "#        \"\"\"\n",
        "#        return the single integer that this NestedInteger holds, if it holds a single integer\n",
        "#        Return None if this NestedInteger holds a nested list\n",
        "#        \"\"\"\n",
        "#\n",
        "#    def getList(self) -> [NestedInteger]:\n",
        "#        \"\"\"\n",
        "#        return the nested list that this NestedInteger holds, if it holds a nested list\n",
        "#        Return None if this NestedInteger holds a single integer\n",
        "#        \"\"\"\n",
        "\n",
        "class NestedIterator:\n",
        "    def __init__(self, nestedList: [NestedInteger]):\n",
        "        self.stack = nestedList[::-1]   # pop을 사용하면 index 변수를 만들 필요가 없다.\n",
        "        \n",
        "    def next(self) -> int:\n",
        "        return self.stack.pop().getInteger()    # hasNext에서 숫자인 경우 next로 넘어와서, 숫자 가져간다 (v에 append)\n",
        "    \n",
        "    def hasNext(self) -> bool:\n",
        "        \n",
        "        while self.stack :\n",
        "            cur = self.stack[-1]    # 마지막 원소를 기준으로\n",
        "            \n",
        "            if cur.isInteger() :    # 숫자면 next로 바로 보내고\n",
        "                return True\n",
        "            \n",
        "            else :                  # 숫자가 아니면, list를 분해해서 stack 뒤로 보낸다  # 다음 동작 시 숫자이므로, next로 보내진다.\n",
        "                self.stack = self.stack[:-1] + cur.getList()[::-1]\n",
        "        \n",
        "        return False\n",
        "        \n",
        "# Your NestedIterator object will be instantiated and called as such:\n",
        "# i, v = NestedIterator(nestedList), []\n",
        "# while i.hasNext(): v.append(i.next())"
      ],
      "execution_count": null,
      "outputs": []
    }
  ]
}