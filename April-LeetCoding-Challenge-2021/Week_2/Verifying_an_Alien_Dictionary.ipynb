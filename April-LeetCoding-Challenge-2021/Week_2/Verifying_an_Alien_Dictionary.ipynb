{
  "nbformat": 4,
  "nbformat_minor": 0,
  "metadata": {
    "colab": {
      "name": "Week 2 : Verifying an Alien Dictionary.ipynb",
      "provenance": [],
      "collapsed_sections": [],
      "authorship_tag": "ABX9TyNjYrRwsN/GgOL8R6ElZCyV",
      "include_colab_link": true
    },
    "kernelspec": {
      "name": "python3",
      "display_name": "Python 3"
    },
    "language_info": {
      "name": "python"
    }
  },
  "cells": [
    {
      "cell_type": "markdown",
      "metadata": {
        "id": "view-in-github",
        "colab_type": "text"
      },
      "source": [
        "<a href=\"https://colab.research.google.com/github/1cg2cg3cg/April-LeetCoding-Challenge-2021/blob/main/Week_2/Verifying_an_Alien_Dictionary.ipynb\" target=\"_parent\"><img src=\"https://colab.research.google.com/assets/colab-badge.svg\" alt=\"Open In Colab\"/></a>"
      ]
    },
    {
      "cell_type": "code",
      "metadata": {
        "colab": {
          "base_uri": "https://localhost:8080/"
        },
        "id": "IIMKVhgRnA7T",
        "outputId": "1e42d8e8-86d9-4547-c781-52b7104dfe8d"
      },
      "source": [
        "# Runtime: 36 ms  Your runtime beats 61.36 % of python3 submissions.\n",
        "# Memory Usage: 14.4 MB  Your memory usage beats 48.60 % of python3 submissions.\n",
        "# 원하는 순서대로 정렬되어 있으려면 앞의 문자의 순서가 더 빨라야한다.\n",
        "# 하나의 분자가 다른 문자에 포함되는 경우 짧은 문자가 앞에 있어야 한다.\n",
        "def solution(words, order) :\n",
        "    for i in range(1, len(words)) :\n",
        "        for j in range(len(words[i-1])) :\n",
        "            \n",
        "            if j == len(words[i]) : # 앞의 문자의 길이가 더 긴 경우\n",
        "                return False\n",
        "\n",
        "            # 앞의 문자가 더 큰 경우\n",
        "            if order.index(words[i-1][j]) > order.index(words[i][j]) :\n",
        "                return False\n",
        "\n",
        "            # 비교하려는 문자가 같은 경우, 다음 문자 비교            \n",
        "            if order.index(words[i-1][j]) == order.index(words[i][j]) :\n",
        "                continue\n",
        "            \n",
        "            # 앞의 문자가 더 작은 경우 올바른 정렬, 비교 중지\n",
        "            if order.index(words[i-1][j]) < order.index(words[i][j]) :\n",
        "                break\n",
        "            \n",
        "    return True\n",
        "\n",
        "print(solution(['l', 'h'], \"xkbwnqozvterhpjifgualycmds\"), 'F')\n",
        "print(solution([\"apple\",\"app\"], \" abcdefghijklmnopqrstuvwxyz\"), 'F')\n",
        "print(solution([\"word\",\"world\",\"row\"], \" worldabcefghijkmnpqstuvxyz\"), 'F')\n",
        "print(solution([\"hello\",\"leetcode\"], \" hlabcdefgijkmnopqrstuvwxyz\"), 'T')\n",
        "print(solution([\"kuvp\",\"q\"], \" ngxlkthsjuoqcpavbfdermiywz\"), 'T')"
      ],
      "execution_count": 1,
      "outputs": [
        {
          "output_type": "stream",
          "text": [
            "False F\n",
            "False F\n",
            "False F\n",
            "True T\n",
            "True T\n"
          ],
          "name": "stdout"
        }
      ]
    },
    {
      "cell_type": "code",
      "metadata": {
        "colab": {
          "base_uri": "https://localhost:8080/"
        },
        "id": "f7UqI3V6nU77",
        "outputId": "cb732911-b665-4f7b-e3e9-76d0d32bc965"
      },
      "source": [
        "#def solution(words, order) :\n",
        "\n",
        "    length = len(sorted(words, key = lambda x : len(x))[-1])\n",
        "    order = ' '+order\n",
        "\n",
        "    for i, word in enumerate(words) :\n",
        "        if len(word) < length :\n",
        "            words[i] = word + ' '*(length-len(word))\n",
        "\n",
        "    for i, word in enumerate(words) :\n",
        "            temp = []\n",
        "            for w in word :\n",
        "                temp.append(order.index(w))\n",
        "\n",
        "            words[i] = temp\n",
        "    print(words)\n",
        "    print(sorted(words))\n",
        "    print(sorted(words, reverse=True))\n",
        "    return  words == sorted(words, reverse = True)\n",
        "\n",
        "\n",
        "print(solution([\"apple\",\"app\"], \"abcdefghijklmnopqrstuvwxyz\"), 'F')\n",
        "print(solution([\"word\",\"world\",\"row\"], \"worldabcefghijkmnpqstuvxyz\"), 'F')\n",
        "print(solution([\"hello\",\"leetcode\"], \"hlabcdefgijkmnopqrstuvwxyz\"), 'T')\n",
        "print(solution([\"kuvp\",\"q\"], \"ngxlkthsjuoqcpavbfdermiywz\"), 'T')"
      ],
      "execution_count": 43,
      "outputs": [
        {
          "output_type": "stream",
          "text": [
            "[[1, 16, 16, 12, 5], [1, 16, 16, 0, 0]]\n",
            "[[1, 16, 16, 0, 0], [1, 16, 16, 12, 5]]\n",
            "[[1, 16, 16, 12, 5], [1, 16, 16, 0, 0]]\n",
            "True F\n",
            "[[1, 2, 3, 5, 0], [1, 2, 3, 4, 5], [3, 2, 1, 0, 0]]\n",
            "[[1, 2, 3, 4, 5], [1, 2, 3, 5, 0], [3, 2, 1, 0, 0]]\n",
            "[[3, 2, 1, 0, 0], [1, 2, 3, 5, 0], [1, 2, 3, 4, 5]]\n",
            "False F\n",
            "[[1, 7, 2, 2, 15, 0, 0, 0], [2, 7, 7, 20, 5, 15, 6, 7]]\n",
            "[[1, 7, 2, 2, 15, 0, 0, 0], [2, 7, 7, 20, 5, 15, 6, 7]]\n",
            "[[2, 7, 7, 20, 5, 15, 6, 7], [1, 7, 2, 2, 15, 0, 0, 0]]\n",
            "False T\n",
            "[[5, 10, 16, 14], [12, 0, 0, 0]]\n",
            "[[5, 10, 16, 14], [12, 0, 0, 0]]\n",
            "[[12, 0, 0, 0], [5, 10, 16, 14]]\n",
            "False T\n"
          ],
          "name": "stdout"
        }
      ]
    }
  ]
}