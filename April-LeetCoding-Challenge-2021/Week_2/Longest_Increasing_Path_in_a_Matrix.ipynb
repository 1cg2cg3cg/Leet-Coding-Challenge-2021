{
  "nbformat": 4,
  "nbformat_minor": 0,
  "metadata": {
    "colab": {
      "name": "Week2 : Longest Increasing Path in a Matrix.ipynb",
      "provenance": [],
      "collapsed_sections": [],
      "authorship_tag": "ABX9TyNulYYY6xgDbmFDJ1uNk4rF",
      "include_colab_link": true
    },
    "kernelspec": {
      "name": "python3",
      "display_name": "Python 3"
    },
    "language_info": {
      "name": "python"
    }
  },
  "cells": [
    {
      "cell_type": "markdown",
      "metadata": {
        "id": "view-in-github",
        "colab_type": "text"
      },
      "source": [
        "<a href=\"https://colab.research.google.com/github/1cg2cg3cg/April-LeetCoding-Challenge-2021/blob/main/Week2/Longest_Increasing_Path_in_a_Matrix.ipynb\" target=\"_parent\"><img src=\"https://colab.research.google.com/assets/colab-badge.svg\" alt=\"Open In Colab\"/></a>"
      ]
    },
    {
      "cell_type": "code",
      "metadata": {
        "id": "yE9NdmhtcSGq"
      },
      "source": [
        "# 제한 시간에 풀어내지 못했다.\n",
        "# DFS, DP 둘 중 하나만 사용하려고 생각했는데, 모두 예외 처리를 하지 못했다.\n",
        "class Solution:\n",
        "    def longestIncreasingPath(self, matrix: List[List[int]]) -> int:\n",
        "        if not matrix or not matrix[0]: return 0\n",
        "        \n",
        "        def dfs(i, j):\n",
        "            if not dp[i][j]:\n",
        "                val = matrix[i][j]\n",
        "                dp[i][j] = 1 + max(\n",
        "                    dfs(i - 1, j) if i and val > matrix[i - 1][j] else 0,\n",
        "                    dfs(i + 1, j) if i < M - 1 and val > matrix[i + 1][j] else 0,\n",
        "                    dfs(i, j - 1) if j and val > matrix[i][j - 1] else 0,\n",
        "                    dfs(i, j + 1) if j < N - 1 and val > matrix[i][j + 1] else 0)\n",
        "            return dp[i][j]\n",
        "    \n",
        "        M, N = len(matrix), len(matrix[0])\n",
        "        dp = [[0] * N for i in range(M)]\n",
        "        \n",
        "        return max(dfs(x, y) for x in range(M) for y in range(N))"
      ],
      "execution_count": null,
      "outputs": []
    },
    {
      "cell_type": "code",
      "metadata": {
        "colab": {
          "base_uri": "https://localhost:8080/"
        },
        "id": "Xo2ZZTLF5miP",
        "outputId": "6adb80ad-249e-4964-eb84-660d110c3701"
      },
      "source": [
        "# 시간 초과.......\n",
        "def solution(matrix) :\n",
        "    m, n = len(matrix), len(matrix[0])\n",
        "    print(m, n)\n",
        "    def dfs(x, y) :\n",
        "\n",
        "        val = matrix[x][y]\n",
        "\n",
        "        \n",
        "\n",
        "    for i in range(m) :\n",
        "        for j in range(n) :\n",
        "            dfs(j, i)\n",
        "    print(matrix[0][0], matrix[0][1], matrix[1][0])\n",
        "    return\n",
        "\n",
        "#print(solution([[9,9,4],[6,6,8],[2,1,1]]), 4)\n",
        "print(solution([[9,9,4],[6,6,8],[2,1,1],[1,1,1]]), 4)"
      ],
      "execution_count": null,
      "outputs": [
        {
          "output_type": "stream",
          "text": [
            "4 3\n",
            "9 9 6\n",
            "None 4\n"
          ],
          "name": "stdout"
        }
      ]
    }
  ]
}
