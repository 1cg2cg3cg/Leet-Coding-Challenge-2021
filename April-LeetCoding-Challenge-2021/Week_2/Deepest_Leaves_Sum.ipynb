{
  "nbformat": 4,
  "nbformat_minor": 0,
  "metadata": {
    "colab": {
      "name": "Week 2 : Deepest Leaves Sum.ipynb",
      "provenance": [],
      "collapsed_sections": [],
      "authorship_tag": "ABX9TyPGZB4YBUkwzuuVm4DCWBBE",
      "include_colab_link": true
    },
    "kernelspec": {
      "name": "python3",
      "display_name": "Python 3"
    },
    "language_info": {
      "name": "python"
    }
  },
  "cells": [
    {
      "cell_type": "markdown",
      "metadata": {
        "id": "view-in-github",
        "colab_type": "text"
      },
      "source": [
        "<a href=\"https://colab.research.google.com/github/1cg2cg3cg/April-LeetCoding-Challenge-2021/blob/main/Week_2/Deepest_Leaves_Sum.ipynb\" target=\"_parent\"><img src=\"https://colab.research.google.com/assets/colab-badge.svg\" alt=\"Open In Colab\"/></a>"
      ]
    },
    {
      "cell_type": "code",
      "metadata": {
        "id": "Gr_BLcdyatPP"
      },
      "source": [
        "# BFS 방식으로 cur과 next_r 변수를 사용해 모든 node에서 단계적으로 하강\n",
        "# Runtime: 76 ms                Your runtime beats 99.46 % of python3 submissions.\n",
        "# Memory Usage: 17.7 MB         Your memory usage beats 71.33 % of python3 submissions.\n",
        "\n",
        "# Definition for a binary tree node.\n",
        "# class TreeNode:\n",
        "#     def __init__(self, val=0, left=None, right=None):\n",
        "#         self.val = val\n",
        "#         self.left = left\n",
        "#         self.right = right\n",
        "\n",
        "class Solution:\n",
        "    def deepestLeavesSum(self, root: TreeNode) -> int:\n",
        "        if not root :\n",
        "            return 0\n",
        "        \n",
        "        cur = [root]    # root에서 시작\n",
        "        answer = 0\n",
        "        \n",
        "        while True :\n",
        "            next_r = []\n",
        "            for r in cur :  # 현재 node의 left, right 여부 확인\n",
        "                if r.left :\n",
        "                    next_r.append(r.left)\n",
        "                if r.right :\n",
        "                    next_r.append(r.right)\n",
        "            \n",
        "            if not next_r : # 현재 cur 변수가 leaves\n",
        "                for r in cur :\n",
        "                    answer += r.val # 값 더해서 반환\n",
        "                break\n",
        "\n",
        "            cur = next_r[:]\n",
        "        \n",
        "        return answer\n",
        "        "
      ],
      "execution_count": null,
      "outputs": []
    }
  ]
}