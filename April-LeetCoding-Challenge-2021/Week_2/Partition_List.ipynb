{
  "nbformat": 4,
  "nbformat_minor": 0,
  "metadata": {
    "colab": {
      "name": "Week 2 : Partition List.ipynb",
      "provenance": [],
      "collapsed_sections": [],
      "authorship_tag": "ABX9TyPt4VnaO+ihly064bIsjEfG",
      "include_colab_link": true
    },
    "kernelspec": {
      "name": "python3",
      "display_name": "Python 3"
    },
    "language_info": {
      "name": "python"
    }
  },
  "cells": [
    {
      "cell_type": "markdown",
      "metadata": {
        "id": "view-in-github",
        "colab_type": "text"
      },
      "source": [
        "<a href=\"https://colab.research.google.com/github/1cg2cg3cg/April-LeetCoding-Challenge-2021/blob/main/Week_2/Partition_List.ipynb\" target=\"_parent\"><img src=\"https://colab.research.google.com/assets/colab-badge.svg\" alt=\"Open In Colab\"/></a>"
      ]
    },
    {
      "cell_type": "code",
      "metadata": {
        "id": "6mFNWsqk03Cu"
      },
      "source": [
        "# fail to solve. Be familiar with the linked list\n",
        "\n",
        "# Definition for singly-linked list.\n",
        "# class ListNode:\n",
        "#     def __init__(self, val=0, next=None):\n",
        "#         self.val = val\n",
        "#         self.next = next\n",
        "class Solution:\n",
        "    def partition(self, head: ListNode, x: int) -> ListNode:\n",
        "        fdum, bdum = ListNode(0), ListNode(0)\n",
        "        \n",
        "        front, back, curr = fdum, bdum, head\n",
        "        \n",
        "        while curr :\n",
        "            if curr.val < x :\n",
        "                front.next = curr\n",
        "                front = curr\n",
        "            else :\n",
        "                back.next = curr\n",
        "                back = curr\n",
        "            \n",
        "            curr = curr.next\n",
        "        \n",
        "        front.next, back.next = bdum.next, None\n",
        "        \n",
        "        return fdum.next"
      ],
      "execution_count": null,
      "outputs": []
    }
  ]
}