{
  "nbformat": 4,
  "nbformat_minor": 0,
  "metadata": {
    "colab": {
      "name": "Week 5 : Find First and Last Position of Element in Sorted Array.ipynb",
      "provenance": [],
      "collapsed_sections": [],
      "authorship_tag": "ABX9TyPnkZ3KUAgBLIMppmN/ZpOT",
      "include_colab_link": true
    },
    "kernelspec": {
      "name": "python3",
      "display_name": "Python 3"
    },
    "language_info": {
      "name": "python"
    }
  },
  "cells": [
    {
      "cell_type": "markdown",
      "metadata": {
        "id": "view-in-github",
        "colab_type": "text"
      },
      "source": [
        "<a href=\"https://colab.research.google.com/github/1cg2cg3cg/April-LeetCoding-Challenge-2021/blob/main/Week_5/Find_First_and_Last_Position_of_Element_in_Sorted_Array.ipynb\" target=\"_parent\"><img src=\"https://colab.research.google.com/assets/colab-badge.svg\" alt=\"Open In Colab\"/></a>"
      ]
    },
    {
      "cell_type": "markdown",
      "metadata": {
        "id": "XpFYwWhbwNfo"
      },
      "source": [
        "처음 생각한 풀이\n",
        "\n",
        "1. for loop 사용한 Brute Force\n",
        "\n",
        "2. left, right를 사용한 이분탐색 : 주어진 nums가 정렬되어 있기 때문에\n",
        "\n",
        "3. .index와 .count 사용\n",
        "\n",
        "새로 배운 함수\n",
        "\n",
        "    bisect(arr, target)\n",
        "    bisect_left(arr, taget, lo, hi=len(arr))\n",
        "    bisect_right(arr,x) (default)\n",
        "\n",
        "<h3> 트리 구조 타입을 만들지 않고도 이진 탐색 알고리듬을 활용할 수 있다. </h3>\n",
        "\n",
        "* 이 모듈은 이미 존재하는 리스트가 있을 때[^2] 주어진 값 x 가 이 리스트상에서 위치해야 할 인덱스 값을 구하는 식의 함수들로 구성되며 크게 두 가지로 나뉜다.\n",
        "\n",
        "    1. 주어진 리스트 a와 값 x 가 있을 때, x 가 위치해야 할 인덱스를 구하는 함수\n",
        "    2. 같은 조건에서 값 x를 올바른 위치에 삽입하는 함수\n",
        "\n",
        "* _left, _right : x와 같은 값이 있을 때 반환하는 index가 다르다 (참고로 접미사가 생략되는 경우 _right라고 간주한다.)\n",
        "    1. _left의 경우 가장 먼저 등장하는 x의 index 출력\n",
        "    2. _right는 가장 오른쪽 x보다 1큰 index 출력\n",
        "    \n",
        "\n",
        "    left = bisect.bisect_left(nums, target)    ## ① 5 ② 8\n",
        "    right = bisect.bisect(nums,target)         ## ① 4 ② 5\n",
        "\n",
        "    print(left, right)\n",
        "\n",
        "    ① print(solution([1,1,2,4,5,6,6,6,7], 6), [5,7])\n",
        "    ② print(solution([1,2,3,4,5,6,7], 5), 4)\n",
        "\n",
        "\n",
        "bisect_left(arr, x, lo=0, hi=len(arr)) : 리스트 a에서 값 x가 들어갈 인덱스를 구한다. 참고로 lo=, hi=는 리스트의 특정 범위 내에서만 이진 탐색을 수행하려할 때 사용한다. (모든 함수에 공통적으로 추가할 수 있는 인자이다.)\n",
        "\n",
        "bisect_right(arr, x) : bisect()와 같은 함수. bisect_left()와 비슷한 동작을 하나, 같은 값이 있으면 그 값의 오른쪽 위치를 취한다.\n",
        "\n",
        "insort(arr, x) : bisect()로 구해진 위치에 x 값을 삽입한다.\n",
        "\n",
        "insort_left(arr, x) : bisect_left()로 구해진 위치에 x값을 삽입한다.\n",
        "\n",
        "\n",
        "\n",
        "Ref : https://soooprmx.com/bisect-%EC%9D%B4%EC%A7%84%ED%83%90%EC%83%89-%EC%95%8C%EA%B3%A0%EB%A6%AC%EB%93%AC/\n",
        "\n",
        "https://docs.python.org/3/library/bisect.html"
      ]
    },
    {
      "cell_type": "code",
      "metadata": {
        "id": "EjuWSfzCue-E"
      },
      "source": [
        "# Runtime: 72 ms            Your runtime beats 99.35 % of python3 submissions.\n",
        "# Memory Usage: 15.4 MB     Your memory usage beats 79.86 % of python3 submissions.\n",
        "\n",
        "class Solution:\n",
        "    def searchRange(self, nums: List[int], target: int) -> List[int]:\n",
        "        \n",
        "        if target in nums :\n",
        "            return [nums.index(target), nums.index(target) + nums.count(target)-1]\n",
        "        else :\n",
        "            return [-1,-1]"
      ],
      "execution_count": null,
      "outputs": []
    },
    {
      "cell_type": "code",
      "metadata": {
        "id": "5Lr0T-zWu5Xw"
      },
      "source": [
        "# Runtime: 84 ms            Your runtime beats 68.87 % of python3 submissions.\n",
        "# Memory Usage: 15.3 MB     Your memory usage beats 95.46 % of python3 submissions.\n",
        "# Trade-off between Memory and Speed\n",
        "class Solution:\n",
        "    def searchRange(self, nums: List[int], target: int) -> List[int]:\n",
        "        \n",
        "        if target in nums :\n",
        "            s = nums.index(target)\n",
        "            return [s, s + nums.count(target)-1]  # 1 is used as the start point\n",
        "        else :\n",
        "            return [-1,-1]"
      ],
      "execution_count": null,
      "outputs": []
    },
    {
      "cell_type": "code",
      "metadata": {
        "id": "rUzw_uF5wMP0"
      },
      "source": [
        "# solver : Babichev\n",
        "# ref : https://leetcode.com/problems/find-first-and-last-position-of-element-in-sorted-array/discuss/1181777/Python-Solution-using-bisect-explained\n",
        "\n",
        "from bisect import bisect, bisect_left\n",
        "\n",
        "class Solution:\n",
        "    def searchRange(self, nums, target):\n",
        "        l = bisect_left(nums,target)\n",
        "        r = bisect(nums,target)\n",
        "        return [-1, -1] if l == r else [l, r - 1]"
      ],
      "execution_count": null,
      "outputs": []
    },
    {
      "cell_type": "code",
      "metadata": {
        "colab": {
          "base_uri": "https://localhost:8080/"
        },
        "id": "xeAAXGqVxjl5",
        "outputId": "b736f436-76c2-4813-95f8-0d1eee856b1d"
      },
      "source": [
        "# bisect review\n",
        "import bisect\n",
        "\n",
        "def solution(nums, target) :\n",
        "\n",
        "    left = bisect.bisect_left(nums, target)\n",
        "    right = bisect.bisect(nums,target)\n",
        "\n",
        "    print(left, right)\n",
        "\n",
        "print(solution([1,1,2,4,5,6,6,6,7], 6), [5,7])\n",
        "print(solution([1,2,3,4,5,6,7], 5), 4)"
      ],
      "execution_count": 7,
      "outputs": [
        {
          "output_type": "stream",
          "text": [
            "5 8\n",
            "None [5, 7]\n",
            "4 5\n",
            "None 4\n"
          ],
          "name": "stdout"
        }
      ]
    }
  ]
}