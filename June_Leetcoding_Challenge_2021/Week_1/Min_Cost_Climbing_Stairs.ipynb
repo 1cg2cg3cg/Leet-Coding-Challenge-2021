{
  "nbformat": 4,
  "nbformat_minor": 0,
  "metadata": {
    "colab": {
      "name": "Week 1 : Min Cost Climbing Stairs",
      "provenance": [],
      "collapsed_sections": [],
      "authorship_tag": "ABX9TyP/sCzejTjbeHqR/pJPvaNc",
      "include_colab_link": true
    },
    "kernelspec": {
      "name": "python3",
      "display_name": "Python 3"
    },
    "language_info": {
      "name": "python"
    }
  },
  "cells": [
    {
      "cell_type": "markdown",
      "metadata": {
        "id": "view-in-github",
        "colab_type": "text"
      },
      "source": [
        "<a href=\"https://colab.research.google.com/github/1cg2cg3cg/Leet-Coding-Challenge-2021/blob/master/June_Leetcoding_Challenge_2021/Week_1/Min_Cost_Climbing_Stairs.ipynb\" target=\"_parent\"><img src=\"https://colab.research.google.com/assets/colab-badge.svg\" alt=\"Open In Colab\"/></a>"
      ]
    },
    {
      "cell_type": "code",
      "metadata": {
        "id": "Qw1gV2P5Dyl2"
      },
      "source": [
        "# 1st solution\n",
        "# Runtime: 72 ms            Your runtime beats 12.45 % of python3 submissions.\n",
        "# Memory Usage: 14.2 MB     Your memory usage beats 87.76 % of python3 submissions.\n",
        "\n",
        "class Solution:\n",
        "    def minCostClimbingStairs(self, cost: List[int]) -> int:\n",
        "        if len(cost) < 3 : return min(cost)\n",
        "        \n",
        "        dp = collections.defaultdict(int)\n",
        "        dp[0], dp[1] = cost[0], cost[1]\n",
        "        for i in range(2, len(cost)) :\n",
        "            dp[i] = min(dp[i-1], dp[i-2]) + cost[i]\n",
        "        \n",
        "        return min(dp[len(cost)-1], dp[len(cost)-2])"
      ],
      "execution_count": null,
      "outputs": []
    },
    {
      "cell_type": "code",
      "metadata": {
        "id": "epV6wMTRFv8h"
      },
      "source": [
        "# 2nd solution\n",
        "# Runtime: 60 ms            Your runtime beats 47.50 % of python3 submissions.\n",
        "# Memory Usage: 14.5 MB     Your memory usage beats 44.82 % of python3 submissions.\n",
        "\n",
        "# using list is faster than defaultdict but why? I know dict and set are more faster than list!\n",
        "\n",
        "class Solution:\n",
        "    def minCostClimbingStairs(self, cost: List[int]) -> int:\n",
        "        if len(cost) < 3 : return min(cost)\n",
        "        \n",
        "        dp = []\n",
        "        dp.append(cost[0])\n",
        "        dp.append(cost[1])\n",
        "        \n",
        "        for i in range(2, len(cost)) :\n",
        "            dp.append(min(dp[i-1], dp[i-2]) + cost[i])\n",
        "        \n",
        "        return min(dp[-1], dp[-2])"
      ],
      "execution_count": null,
      "outputs": []
    },
    {
      "cell_type": "markdown",
      "metadata": {
        "id": "8EgGNZrxHWfL"
      },
      "source": [
        "[A dictionary is 6.6 times faster than a list when we lookup in 100 items.](https://towardsdatascience.com/faster-lookups-in-python-1d7503e9cd38)\n",
        "\n",
        "It is already known that set and dict are faster than list.\n",
        "I added a name of variable n which has a value of length of cost.\n",
        "but it was more slower than ever...\n",
        "\n",
        "I'm so confused"
      ]
    }
  ]
}