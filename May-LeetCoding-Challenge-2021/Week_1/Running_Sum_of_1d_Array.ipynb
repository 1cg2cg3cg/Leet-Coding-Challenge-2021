{
  "nbformat": 4,
  "nbformat_minor": 0,
  "metadata": {
    "colab": {
      "name": "Week 1 : Running Sum of 1d Array.ipynb",
      "provenance": [],
      "collapsed_sections": [],
      "authorship_tag": "ABX9TyPZuPYYI+4KwvI12JN6XYLW",
      "include_colab_link": true
    },
    "kernelspec": {
      "name": "python3",
      "display_name": "Python 3"
    },
    "language_info": {
      "name": "python"
    }
  },
  "cells": [
    {
      "cell_type": "markdown",
      "metadata": {
        "id": "view-in-github",
        "colab_type": "text"
      },
      "source": [
        "<a href=\"https://colab.research.google.com/github/1cg2cg3cg/May-Leetcoding-Challenge/blob/main/Week_1/Running_Sum_of_1d_Array.ipynb\" target=\"_parent\"><img src=\"https://colab.research.google.com/assets/colab-badge.svg\" alt=\"Open In Colab\"/></a>"
      ]
    },
    {
      "cell_type": "code",
      "metadata": {
        "id": "YFEEuT0_mCs4"
      },
      "source": [
        "# Runtime: 36 ms            Your runtime beats 84.39 % of python3 submissions.\n",
        "# Memory Usage: 14.1 MB     Your memory usage beats 98.00 % of python3 submissions\n",
        "\n",
        "# Like D.P.\n",
        "\n",
        "class Solution:\n",
        "    def runningSum(self, nums: List[int]) -> List[int]:\n",
        "        stack = []\n",
        "        \n",
        "        for num in nums :\n",
        "            if not stack :      # the 1st element of num list\n",
        "                stack.append(num)\n",
        "            else :\n",
        "                stack.append(stack[-1]+num)     # stack[-1] is always the sum of before\n",
        "        \n",
        "        return stack"
      ],
      "execution_count": null,
      "outputs": []
    }
  ]
}