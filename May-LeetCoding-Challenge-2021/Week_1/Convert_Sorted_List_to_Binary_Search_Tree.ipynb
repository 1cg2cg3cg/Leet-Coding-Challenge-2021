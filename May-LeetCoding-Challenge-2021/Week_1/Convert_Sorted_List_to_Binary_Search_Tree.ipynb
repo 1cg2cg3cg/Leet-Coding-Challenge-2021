{
  "nbformat": 4,
  "nbformat_minor": 0,
  "metadata": {
    "colab": {
      "name": "Week 1 : Convert Sorted List to Binary Search Tree.ipynb",
      "provenance": [],
      "collapsed_sections": [],
      "authorship_tag": "ABX9TyOu0amkOiLtCdMyAaqd/yHE",
      "include_colab_link": true
    },
    "kernelspec": {
      "name": "python3",
      "display_name": "Python 3"
    },
    "language_info": {
      "name": "python"
    }
  },
  "cells": [
    {
      "cell_type": "markdown",
      "metadata": {
        "id": "view-in-github",
        "colab_type": "text"
      },
      "source": [
        "<a href=\"https://colab.research.google.com/github/1cg2cg3cg/May-Leetcoding-Challenge-2021/blob/main/Week_1/Convert_Sorted_List_to_Binary_Search_Tree.ipynb\" target=\"_parent\"><img src=\"https://colab.research.google.com/assets/colab-badge.svg\" alt=\"Open In Colab\"/></a>"
      ]
    },
    {
      "cell_type": "code",
      "metadata": {
        "id": "e3-rc8QNKhDW"
      },
      "source": [
        "# Definition for singly-linked list.\n",
        "# class ListNode:\n",
        "#     def __init__(self, val=0, next=None):\n",
        "#         self.val = val\n",
        "#         self.next = next\n",
        "# Definition for a binary tree node.\n",
        "# class TreeNode:\n",
        "#     def __init__(self, val=0, left=None, right=None):\n",
        "#         self.val = val\n",
        "#         self.left = left\n",
        "#         self.right = right\n",
        "class Solution:\n",
        "    def sortedListToBST(self, head: ListNode) -> TreeNode:\n",
        "        \n",
        "        def ListToBST(tree_list) :\n",
        "            if not tree_list :  # list is empty\n",
        "                return n\n",
        "            \n",
        "            mid = len(tree_list)//2             \n",
        "            n = TreeNode(tree_list[mid])  # push the middle element of the list\n",
        "            \n",
        "            if mid >= 1 :\n",
        "                n.left = ListToBST(tree_list[:mid])\n",
        "            \n",
        "            if mid < len(tree_list)-1 :\n",
        "                n.right = ListToBST(tree_list[mid+1:])\n",
        "            \n",
        "            return n\n",
        "        \n",
        "        if not head :   # single linked list is empty\n",
        "            return None\n",
        "        \n",
        "        tree_list = []\n",
        "        \n",
        "        while head :    # convert the linked list to list\n",
        "            tree_list.append(head.val)\n",
        "            head = head.next\n",
        "        \n",
        "        return ListToBST(tree_list)"
      ],
      "execution_count": null,
      "outputs": []
    },
    {
      "cell_type": "markdown",
      "metadata": {
        "id": "8qJQUAtI6dOH"
      },
      "source": [
        "여러 경우를 나열해보고, custom test를 run 해서 나온 결과를 바탕으로 설계\n",
        "\n",
        "정답을 알려주지 않았다면, 풀지 못했을 것\n",
        "\n",
        "리스트의 중간 값을 현재 노드의 val로 설정하고 중간을 기준으로 좌측과 우측 리스트로 나눈 후, 같은 과정을 계속 반복한다.\n",
        "\n",
        "처음에 이 과정을 while 반복문과 조건문을 사용해 해결하려고 했는데 어떻게 설계해야 할 지 감이 오지 않았다."
      ]
    }
  ]
}