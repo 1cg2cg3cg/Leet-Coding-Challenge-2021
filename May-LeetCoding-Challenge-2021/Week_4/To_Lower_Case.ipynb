{
  "nbformat": 4,
  "nbformat_minor": 0,
  "metadata": {
    "colab": {
      "name": "Week 4 : To Lower Case.ipynb",
      "provenance": [],
      "collapsed_sections": [],
      "authorship_tag": "ABX9TyOV/EPHSl44SXoyc7VbKyc7",
      "include_colab_link": true
    },
    "kernelspec": {
      "name": "python3",
      "display_name": "Python 3"
    },
    "language_info": {
      "name": "python"
    }
  },
  "cells": [
    {
      "cell_type": "markdown",
      "metadata": {
        "id": "view-in-github",
        "colab_type": "text"
      },
      "source": [
        "<a href=\"https://colab.research.google.com/github/1cg2cg3cg/May-Leetcoding-Challenge-2021/blob/main/Week_4/To_Lower_Case.ipynb\" target=\"_parent\"><img src=\"https://colab.research.google.com/assets/colab-badge.svg\" alt=\"Open In Colab\"/></a>"
      ]
    },
    {
      "cell_type": "code",
      "metadata": {
        "id": "2FKutJEwsNVr"
      },
      "source": [
        "# 2nd trial\n",
        "# Runtime: 24 ms            Your runtime beats 92.04 % of python3 submissions.\n",
        "# Memory Usage: 14.2 MB     Your memory usage beats 63.92 % of python3 submissions.\n",
        "\n",
        "## use ASCII number. ord <-> chr\n",
        "class Solution:\n",
        "    def toLowerCase(self, s: str) -> str:\n",
        "        answer = ''\n",
        "        for i in s :\n",
        "            \n",
        "            if ord(i) >= 65 and ord(i) <= 90: \n",
        "                answer += chr(ord(i)+32)\n",
        "            else :\n",
        "                answer += i\n",
        "        \n",
        "        return answer"
      ],
      "execution_count": null,
      "outputs": []
    },
    {
      "cell_type": "code",
      "metadata": {
        "id": "3fqr4XxHt1dp"
      },
      "source": [
        "# 5th\n",
        "# Runtime: 32 ms            Your runtime beats 40.32 % of python3 submissions.\n",
        "# Memory Usage: 13.9 MB     Your memory usage beats 96.91 % of python3 submissions.\n",
        "\n",
        "class Solution:\n",
        "    def toLowerCase(self, s: str) -> str:\n",
        "        answer = ''\n",
        "        for i in s :\n",
        "            \n",
        "            if i.isupper(): \n",
        "                answer += i.lower()\n",
        "            else :\n",
        "                answer += i\n",
        "        \n",
        "        return answer"
      ],
      "execution_count": null,
      "outputs": []
    },
    {
      "cell_type": "code",
      "metadata": {
        "id": "mHkALWc8q4kE"
      },
      "source": [
        "# 1st trial\n",
        "# Runtime: 28 ms            Your runtime beats 73.65 % of python3 submissions.\n",
        "# Memory Usage: 14.3 MB     \n",
        "\n",
        "class Solution:\n",
        "    def toLowerCase(self, s: str) -> str:\n",
        "        return s.lower()"
      ],
      "execution_count": null,
      "outputs": []
    },
    {
      "cell_type": "code",
      "metadata": {
        "id": "RsuqtrB2s1kr"
      },
      "source": [
        "# 3rd trial\n",
        "# Runtime: 28 ms            Your runtime beats 73.65 % of python3 submissions.\n",
        "# Memory Usage: 14.3 MB\n",
        "\n",
        "class Solution:\n",
        "    def toLowerCase(self, s: str) -> str:\n",
        "        n = len(s)\n",
        "        for i in s :\n",
        "            \n",
        "            if ord(i) >= 65 and ord(i) <= 90: \n",
        "                s += chr(ord(i)+32)\n",
        "            else :\n",
        "                s += i\n",
        "        \n",
        "        return s[n:]"
      ],
      "execution_count": null,
      "outputs": []
    },
    {
      "cell_type": "code",
      "metadata": {
        "id": "tiHD7U7EtVUi"
      },
      "source": [
        "# 4th trial\n",
        "# Runtime: 32 ms            Your runtime beats 40.32 % of python3 submissions.\n",
        "# Memory Usage: 14.1 MB     Your memory usage beats 86.65 % of python3 submissions.\n",
        "\n",
        "class Solution:\n",
        "    def toLowerCase(self, s: str) -> str:\n",
        "        answer = []\n",
        "        for i in s :\n",
        "            \n",
        "            if ord(i) >= 65 and ord(i) <= 90: \n",
        "                answer.append(chr(ord(i)+32))\n",
        "            else :\n",
        "                answer.append(i)\n",
        "        \n",
        "        return ''.join(answer)"
      ],
      "execution_count": null,
      "outputs": []
    }
  ]
}