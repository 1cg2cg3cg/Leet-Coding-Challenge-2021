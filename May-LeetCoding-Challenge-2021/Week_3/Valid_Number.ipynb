{
  "nbformat": 4,
  "nbformat_minor": 0,
  "metadata": {
    "colab": {
      "name": "Week 3 : Valid Number.ipynb",
      "provenance": [],
      "collapsed_sections": [],
      "authorship_tag": "ABX9TyONCrgij0ElfaKRDBB0E73F",
      "include_colab_link": true
    },
    "kernelspec": {
      "name": "python3",
      "display_name": "Python 3"
    },
    "language_info": {
      "name": "python"
    }
  },
  "cells": [
    {
      "cell_type": "markdown",
      "metadata": {
        "id": "view-in-github",
        "colab_type": "text"
      },
      "source": [
        "<a href=\"https://colab.research.google.com/github/1cg2cg3cg/May-Leetcoding-Challenge-2021/blob/main/Week_3/Valid_Number.ipynb\" target=\"_parent\"><img src=\"https://colab.research.google.com/assets/colab-badge.svg\" alt=\"Open In Colab\"/></a>"
      ]
    },
    {
      "cell_type": "code",
      "metadata": {
        "id": "D8cOGjcHr7FU"
      },
      "source": [
        "# Runtime: 36 ms            Your runtime beats 53.00 % of python3 submissions\n",
        "# Memory Usage: 14.2 MB     Your memory usage beats 83.60 % of python3 submissions.\n",
        "\n",
        "# first, I try to use eval() but float() is more easier and clear\n",
        "\n",
        "class Solution:\n",
        "    def isNumber(self, s: str) -> bool:\n",
        "        \n",
        "        if s.count('.') > 1 : \n",
        "            print('..')\n",
        "            return False\n",
        "        \n",
        "        if '++' in s or '--' in s or '+-' in s or '-+' in s : \n",
        "            print('+-')\n",
        "            return False\n",
        "        \n",
        "        if len(s) == 1 and not s.isdigit() : return False\n",
        "        \n",
        "        if 'inf' in s.lower() : return False\n",
        "        \n",
        "        try :\n",
        "            if float(s) is not None :\n",
        "                return True\n",
        "        except :\n",
        "            return False\n",
        "                "
      ],
      "execution_count": null,
      "outputs": []
    },
    {
      "cell_type": "code",
      "metadata": {
        "id": "YUnFG6oQr8ki"
      },
      "source": [
        "# Runtime: 28 ms            Your runtime beats 92.33 % of python3 submissions.\n",
        "# Memory Usage: 14.1 MB     Your memory usage beats 83.60 % of python3 submissions.\n",
        "\n",
        "\n",
        "# actually, preprocessing is not necessary except checking a 'inf'\n",
        "# bacause the other rules are covered by float()\n",
        "\n",
        "class Solution:\n",
        "    def isNumber(self, s: str) -> bool:\n",
        "\n",
        "        if 'inf' in s.lower() : return False\n",
        "        \n",
        "        try :\n",
        "            if float(s) is not None :\n",
        "                return True\n",
        "        except :\n",
        "            return False"
      ],
      "execution_count": null,
      "outputs": []
    },
    {
      "cell_type": "code",
      "metadata": {
        "colab": {
          "base_uri": "https://localhost:8080/",
          "height": 228
        },
        "id": "ordJk5YzLPYM",
        "outputId": "58ec0825-ee59-40cb-d072-9de979394ad2"
      },
      "source": [
        "s = '--1+5+1e1'\n",
        "s = '-90E3'\n",
        "s = 'e3'\n",
        "s = '-9.9e-2.'\n",
        "s = '+-1e2.5'\n",
        "#s = '0'\n",
        "#print(eval(s) * eval(s[1:]))\n",
        "\n",
        "print(s, float(s))\n",
        "try :\n",
        "    if float(s) is not None :\n",
        "        print('T')\n",
        "except :\n",
        "    print('F')"
      ],
      "execution_count": 8,
      "outputs": [
        {
          "output_type": "error",
          "ename": "ValueError",
          "evalue": "ignored",
          "traceback": [
            "\u001b[0;31m---------------------------------------------------------------------------\u001b[0m",
            "\u001b[0;31mValueError\u001b[0m                                Traceback (most recent call last)",
            "\u001b[0;32m<ipython-input-8-04e08594bf53>\u001b[0m in \u001b[0;36m<module>\u001b[0;34m()\u001b[0m\n\u001b[1;32m      7\u001b[0m \u001b[0;31m#print(eval(s) * eval(s[1:]))\u001b[0m\u001b[0;34m\u001b[0m\u001b[0;34m\u001b[0m\u001b[0;34m\u001b[0m\u001b[0m\n\u001b[1;32m      8\u001b[0m \u001b[0;34m\u001b[0m\u001b[0m\n\u001b[0;32m----> 9\u001b[0;31m \u001b[0mprint\u001b[0m\u001b[0;34m(\u001b[0m\u001b[0ms\u001b[0m\u001b[0;34m,\u001b[0m \u001b[0mfloat\u001b[0m\u001b[0;34m(\u001b[0m\u001b[0ms\u001b[0m\u001b[0;34m)\u001b[0m\u001b[0;34m)\u001b[0m\u001b[0;34m\u001b[0m\u001b[0;34m\u001b[0m\u001b[0m\n\u001b[0m\u001b[1;32m     10\u001b[0m \u001b[0;32mtry\u001b[0m \u001b[0;34m:\u001b[0m\u001b[0;34m\u001b[0m\u001b[0;34m\u001b[0m\u001b[0m\n\u001b[1;32m     11\u001b[0m     \u001b[0;32mif\u001b[0m \u001b[0mfloat\u001b[0m\u001b[0;34m(\u001b[0m\u001b[0ms\u001b[0m\u001b[0;34m)\u001b[0m \u001b[0;32mis\u001b[0m \u001b[0;32mnot\u001b[0m \u001b[0;32mNone\u001b[0m \u001b[0;34m:\u001b[0m\u001b[0;34m\u001b[0m\u001b[0;34m\u001b[0m\u001b[0m\n",
            "\u001b[0;31mValueError\u001b[0m: could not convert string to float: '+-1e2.5'"
          ]
        }
      ]
    },
    {
      "cell_type": "code",
      "metadata": {
        "id": "ag8ubMAwe5FT"
      },
      "source": [
        "class Solution:\n",
        "    def isNumber(self, s: str) -> bool:\n",
        "        \n",
        "        if s.count('.') > 1 : \n",
        "            print('..')\n",
        "            return False\n",
        "        \n",
        "        if '++' in s or '--' in s or '+-' in s or '-+' in s : \n",
        "            print('+-')\n",
        "            return False\n",
        "        \n",
        "        c, e, cnt = -1, -1, 0\n",
        "        \n",
        "        for i in range(len(s)) :\n",
        "            \n",
        "            if s[i] == '.' :\n",
        "                if not s[i-1].isdigit() and not s[i+1].isdigit() : \n",
        "                    print('.앞뒤')\n",
        "                    return False\n",
        "                \n",
        "                c = i\n",
        "        \n",
        "            elif s[i].isalpha() :\n",
        "                if s[i] != 'e' and s[i] != 'E': return False\n",
        "                \n",
        "                e = i\n",
        "                cnt += 1\n",
        "            \n",
        "            elif s[i] == '+' and i > 0 and s[i-1] != 'e' and s[i-1] != 'E' : \n",
        "                print('+')\n",
        "                return False\n",
        "            elif s[i] == '-' and i > 0 and s[i-1] != 'e' and s[i-1] != 'E' : \n",
        "                print('-')\n",
        "                return False\n",
        "                \n",
        "            if cnt > 1 : \n",
        "                print('Ee')\n",
        "                return False\n",
        "            \n",
        "        if c > e and e > -1 : \n",
        "            print('c>e')\n",
        "            return False\n",
        "        \n",
        "        return True\n",
        "                "
      ],
      "execution_count": null,
      "outputs": []
    }
  ]
}