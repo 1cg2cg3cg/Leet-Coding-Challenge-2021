{
  "nbformat": 4,
  "nbformat_minor": 0,
  "metadata": {
    "colab": {
      "name": "Week 3 : Binary Tree Cameras.ipynb",
      "provenance": [],
      "collapsed_sections": [],
      "authorship_tag": "ABX9TyN0SYeMZgANcwqtFaN4zOyI",
      "include_colab_link": true
    },
    "kernelspec": {
      "name": "python3",
      "display_name": "Python 3"
    },
    "language_info": {
      "name": "python"
    }
  },
  "cells": [
    {
      "cell_type": "markdown",
      "metadata": {
        "id": "view-in-github",
        "colab_type": "text"
      },
      "source": [
        "<a href=\"https://colab.research.google.com/github/1cg2cg3cg/May-Leetcoding-Challenge-2021/blob/main/Week_3/Fail_to_solve_Binary_Tree_Cameras.ipynb\" target=\"_parent\"><img src=\"https://colab.research.google.com/assets/colab-badge.svg\" alt=\"Open In Colab\"/></a>"
      ]
    },
    {
      "cell_type": "code",
      "metadata": {
        "id": "Lj53ryORCHXZ"
      },
      "source": [
        "## 해결 실패\n",
        "\n",
        "# 1. 현재 node의 카메라 설치 여부를 판별하기 위해 손자 노드까지 확인하려고 했다.\n",
        "# 2. 자식 노드가 2개라면, 현재 노드에 카메라 설치\n",
        "# 를 비롯한 다양한 논리를 세웠는데 해결하지 못했다.\n",
        "\n",
        "# 해결하지 못한 가장 큰 원인은, 트리의 root에서 leaf 방향으로 탐색할 때, 다시 위로 거슬러 올라올 방법을 찾지 못했기 때문이다.\n",
        "# 그래서 손자노드까지 확인하는 방법을 고안했는데, 스스로 만든 반례를 해결하지 못했다.\n",
        "\n",
        "# 두 명의 풀이를 첨부한다.\n",
        "# 서로 다른 방법으로 풀이했는데, 두 풀이 모두 익혀서 비슷한 문제가 나올 때 활용해야겠다."
      ],
      "execution_count": null,
      "outputs": []
    },
    {
      "cell_type": "code",
      "metadata": {
        "id": "y6CGrCbZDAbQ"
      },
      "source": [
        "# https://dev.to/seanpgallivan/solution-binary-tree-cameras-1a5i\n",
        "\n",
        "# dfs와 return을 사용해 자식 노드의 상태를 위로 올려준다.\n",
        "# 자식 노드의 정보를 사용해 카메라 설치 여부를 결정한다.\n",
        "\n",
        "class Solution:\n",
        "    ans = 0\n",
        "    def minCameraCover(self, root: TreeNode) -> int:\n",
        "        def dfs(node: TreeNode) -> int:\n",
        "            if not node: return 0\n",
        "            val = dfs(node.left) + dfs(node.right)\n",
        "            if val == 0: return 3\n",
        "            if val < 3: return 0\n",
        "            self.ans += 1\n",
        "            return 1\n",
        "        return self.ans + 1 if dfs(root) > 2 else self.ans"
      ],
      "execution_count": null,
      "outputs": []
    },
    {
      "cell_type": "code",
      "metadata": {
        "id": "Anf6PAxeDRuO"
      },
      "source": [
        "# https://leetcode.com/problems/binary-tree-cameras/discuss/1211832/Python-dp-solution-explained\n",
        "\n",
        "# 발생하는 경우의 가지수를 나누고, 최소 카메라를 사용할 수 있는 경우를 찾는 dp를 적용했다.\n",
        "\n",
        "class Solution:\n",
        "    def minCameraCover(self, root):\n",
        "        def dfs(node):\n",
        "            if not node: return (float(\"inf\"), 0, 0)\n",
        "            q1_l, q2_l, q3_l = dfs(node.left)\n",
        "            q1_r, q2_r, q3_r = dfs(node.right)\n",
        "            q1 = min(q1_l, q3_l) + min(q1_r, q3_r) + 1\n",
        "            q2 = min(q1_l + q1_r, q1_l + q2_r, q2_l + q1_r)\n",
        "            q3 = min(q2, q2_l + q2_r)\n",
        "            return (q1, q2, q3)\n",
        "            \n",
        "        return min(dfs(root)[:2]) "
      ],
      "execution_count": null,
      "outputs": []
    }
  ]
}