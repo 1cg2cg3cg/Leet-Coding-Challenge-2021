{
  "nbformat": 4,
  "nbformat_minor": 0,
  "metadata": {
    "colab": {
      "name": "Week 3 : Find and Replace Pattern.ipynb",
      "provenance": [],
      "collapsed_sections": [],
      "authorship_tag": "ABX9TyNKrhni6zQLabD2S1k0RMnC",
      "include_colab_link": true
    },
    "kernelspec": {
      "name": "python3",
      "display_name": "Python 3"
    },
    "language_info": {
      "name": "python"
    }
  },
  "cells": [
    {
      "cell_type": "markdown",
      "metadata": {
        "id": "view-in-github",
        "colab_type": "text"
      },
      "source": [
        "<a href=\"https://colab.research.google.com/github/1cg2cg3cg/May-Leetcoding-Challenge-2021/blob/main/Week_3/Find_and_Replace_Pattern.ipynb\" target=\"_parent\"><img src=\"https://colab.research.google.com/assets/colab-badge.svg\" alt=\"Open In Colab\"/></a>"
      ]
    },
    {
      "cell_type": "code",
      "metadata": {
        "id": "AKoyctqyRPfj"
      },
      "source": [
        "## 1st solution in 15 minutes\n",
        "# Runtime: 40 ms            Your runtime beats 5.43 % of python3 submissions. ### HAVE TO OPTIMIZE\n",
        "# Memory Usage: 14.2 MB     Your memory usage beats 84.80 % of python3 submissions.\n",
        "\n",
        "## Idea : make a map to have a matched character for each characer(from word)\n",
        "# ex) word = 'abbcd' ans patten = 'bccdc'\n",
        "# MAP =  'a' : 'b', 'b' : 'c', 'c' : 'd'\n",
        "# and using dummy str variable 'temp', make a string\n",
        "# if there is matched charater in a map, add it to temp\n",
        "# if there are more than 2 characters for one key, it is invaild. break!\n",
        "# after the loop about each word, compare the temp to pattern\n",
        "# append word to answer if they are same\n",
        "\n",
        "import collections\n",
        "\n",
        "class Solution:\n",
        "    def findAndReplacePattern(self, words: List[str], pattern: str) -> List[str]:\n",
        "        \n",
        "        answer = []     # answer\n",
        "        \n",
        "        for word in words :\n",
        "            \n",
        "            D = collections.defaultdict(str)\n",
        "            temp = ''\n",
        "            discovered = set()            \n",
        "            \n",
        "            for i in range(len(word)) :\n",
        "                \n",
        "                if word[i] not in D and pattern[i] not in discovered: \n",
        "                    temp += pattern[i]\n",
        "                    D[word[i]] += pattern[i]\n",
        "                    discovered.add(pattern[i])\n",
        "                \n",
        "                else : \n",
        "                    temp += D[word[i]]\n",
        "                \n",
        "                if sum([len(D[x]) for x in D]) != len(D) : \n",
        "                    break\n",
        "                \n",
        "            if temp == pattern :\n",
        "                answer.append(word)\n",
        "                \n",
        "        return answer"
      ],
      "execution_count": null,
      "outputs": []
    }
  ]
}