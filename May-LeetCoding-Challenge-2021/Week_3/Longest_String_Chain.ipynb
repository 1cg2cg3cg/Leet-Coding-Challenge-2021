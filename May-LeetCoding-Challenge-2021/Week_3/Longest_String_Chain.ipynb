{
  "nbformat": 4,
  "nbformat_minor": 0,
  "metadata": {
    "colab": {
      "name": "Week 3 : Longest String Chain.ipynb",
      "provenance": [],
      "collapsed_sections": [],
      "authorship_tag": "ABX9TyNcazvdAtR0X4qXvn2VsHAv",
      "include_colab_link": true
    },
    "kernelspec": {
      "name": "python3",
      "display_name": "Python 3"
    },
    "language_info": {
      "name": "python"
    }
  },
  "cells": [
    {
      "cell_type": "markdown",
      "metadata": {
        "id": "view-in-github",
        "colab_type": "text"
      },
      "source": [
        "<a href=\"https://colab.research.google.com/github/1cg2cg3cg/May-Leetcoding-Challenge-2021/blob/main/Week_3/Longest_String_Chain.ipynb\" target=\"_parent\"><img src=\"https://colab.research.google.com/assets/colab-badge.svg\" alt=\"Open In Colab\"/></a>"
      ]
    },
    {
      "cell_type": "code",
      "metadata": {
        "id": "TFNn8rKRhUvR"
      },
      "source": [
        "# Runtime: 132 ms           Your runtime beats 71.74 % of python3 submissions.\n",
        "# Memory Usage: 14.4 MB     Your memory usage beats 97.25 % of python3 submissions.\n",
        "\n",
        "# map or dp?\n",
        "\n",
        "# ex) bacd -->  bacd\n",
        "#               acd\n",
        "#               bcd\n",
        "#               bac\n",
        "class Solution:\n",
        "    \n",
        "    def longestStrChain(self, words: List[str]) -> int:\n",
        "        words.sort(key = lambda x : len(x))\n",
        "        \n",
        "        answer = {}\n",
        "        \n",
        "        for word in words :\n",
        "            \n",
        "            if word not in answer : answer[word] = 1\n",
        "            \n",
        "            for i in range(len(word)) :\n",
        "                \n",
        "                key = word[:i] + word[i+1:]     # all the possible words with one character removed.\n",
        "                \n",
        "                if key in answer :\n",
        "                    answer[word] = max(answer[word], answer[key]+1)     # current word is appeared first vs chained\n",
        "                    \n",
        "        print(answer)\n",
        "        return max(answer.values())"
      ],
      "execution_count": null,
      "outputs": []
    },
    {
      "cell_type": "code",
      "metadata": {
        "colab": {
          "base_uri": "https://localhost:8080/"
        },
        "id": "ri8b6mpHzVpS",
        "outputId": "2768380f-8923-4a8a-fa11-d9f2059ce69d"
      },
      "source": [
        "## DFS failure\n",
        "## first, I want to check all the possible paths deleting a charater for each word in words.\n",
        "## I can just probe all paths but fail to find calculte string briefly ex) 'abc', 'ba' ## Counter can't do this\n",
        "## nested for loop takes so much time.\n",
        "\n",
        "answer = 1\n",
        "\n",
        "class Solution:\n",
        "    def longestStrChain(self, words: List[str]) -> int:\n",
        "        words.sort(key = lambda x : len(x), reverse = True)\n",
        "        \n",
        "        def dfs(idx, l :int) :\n",
        "                        \n",
        "            for j in range(idx+1, len(words)) :\n",
        "            \n",
        "                length = sum((collections.Counter(words[idx]) - collections.Counter(words[j])).values())    # do not work as I thought\n",
        "                \n",
        "                if length == 1 :\n",
        "                    dfs(j, l+1)\n",
        "                \n",
        "                elif length == 0 :\n",
        "                    continue\n",
        "                    \n",
        "                else :\n",
        "                    if l > answer : answer = l\n",
        "                    return\n",
        "                \n",
        "        \n",
        "        for i in range(len(words)) :\n",
        "            dfs(i, 1)\n",
        "        \n",
        "        return answer"
      ],
      "execution_count": null,
      "outputs": [
        {
          "output_type": "stream",
          "text": [
            "abbbbccdacd\n",
            "Counter({'b': 4, 'c': 1})\n",
            "5\n"
          ],
          "name": "stdout"
        }
      ]
    }
  ]
}