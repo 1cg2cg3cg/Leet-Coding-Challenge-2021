{
  "nbformat": 4,
  "nbformat_minor": 0,
  "metadata": {
    "colab": {
      "name": "Week 2 : Construct Target Array With Multiple Sums.ipynb",
      "provenance": [],
      "collapsed_sections": [],
      "authorship_tag": "ABX9TyMDrMLM+xQZOtjLxsCPkUsa",
      "include_colab_link": true
    },
    "kernelspec": {
      "name": "python3",
      "display_name": "Python 3"
    },
    "language_info": {
      "name": "python"
    }
  },
  "cells": [
    {
      "cell_type": "markdown",
      "metadata": {
        "id": "view-in-github",
        "colab_type": "text"
      },
      "source": [
        "<a href=\"https://colab.research.google.com/github/1cg2cg3cg/May-Leetcoding-Challenge-2021/blob/main/Week_2/Construct_Target_Array_With_Multiple_Sums.ipynb\" target=\"_parent\"><img src=\"https://colab.research.google.com/assets/colab-badge.svg\" alt=\"Open In Colab\"/></a>"
      ]
    },
    {
      "cell_type": "code",
      "metadata": {
        "id": "LBvGBQuhHeYw"
      },
      "source": [
        "class Solution:\n",
        "    def isPossible(self, target: List[int]) -> bool:\n",
        "        if len(target) == 1 and target[0] != 1 : return False\n",
        "        \n",
        "        heap = []\n",
        "        \n",
        "        for i in target :\n",
        "            heapq.heappush(heap, -i)\n",
        "        \n",
        "        while -heap[0] > 1 :\n",
        "            \n",
        "            a = -heapq.heappop(heap)\n",
        "            s = -sum(heap)\n",
        "            \n",
        "            if a < s : \n",
        "                return False\n",
        "            \n",
        "            if not heap and a != 1 :\n",
        "                return False\n",
        "            \n",
        "            if a % s == 0 and s != 1 :\n",
        "                return False\n",
        "            \n",
        "            heapq.heappush(heap, -a %sum(heap))\n",
        "\n",
        "        return True"
      ],
      "execution_count": null,
      "outputs": []
    }
  ]
}