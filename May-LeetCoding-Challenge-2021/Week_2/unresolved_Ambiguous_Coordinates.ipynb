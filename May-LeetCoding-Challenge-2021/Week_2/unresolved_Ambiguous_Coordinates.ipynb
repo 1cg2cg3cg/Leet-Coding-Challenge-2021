{
  "nbformat": 4,
  "nbformat_minor": 0,
  "metadata": {
    "colab": {
      "name": "Week 2 : Ambiguous Coordinates.ipynb",
      "provenance": [],
      "authorship_tag": "ABX9TyOzG2E+/nlFos5j0ny2HnjH",
      "include_colab_link": true
    },
    "kernelspec": {
      "name": "python3",
      "display_name": "Python 3"
    },
    "language_info": {
      "name": "python"
    }
  },
  "cells": [
    {
      "cell_type": "markdown",
      "metadata": {
        "id": "view-in-github",
        "colab_type": "text"
      },
      "source": [
        "<a href=\"https://colab.research.google.com/github/1cg2cg3cg/May-Leetcoding-Challenge-2021/blob/main/Week_2/unresolved_Ambiguous_Coordinates.ipynb\" target=\"_parent\"><img src=\"https://colab.research.google.com/assets/colab-badge.svg\" alt=\"Open In Colab\"/></a>"
      ]
    },
    {
      "cell_type": "code",
      "metadata": {
        "id": "6OEDgrVKpbxW"
      },
      "source": [
        ""
      ],
      "execution_count": null,
      "outputs": []
    },
    {
      "cell_type": "code",
      "metadata": {
        "id": "UP9Wq8DqLzbR",
        "colab": {
          "base_uri": "https://localhost:8080/"
        },
        "outputId": "a23320fa-6aca-4599-c0e5-872e52987095"
      },
      "source": [
        "# 209 / 346 test cases passed.\n",
        "\n",
        "class Solution:\n",
        "    def ambiguousCoordinates(self, s: str) -> List[str]:\n",
        "        answer = set()\n",
        "        def div_num(st: str) :\n",
        "            \n",
        "            if st[-1] == '0' : return {st}\n",
        "            if st[0] == '0' : return {st[0] + '.' + st[1:]}\n",
        "        \n",
        "            tmp = set()\n",
        "            tmp.add(st)\n",
        "            for i in range(1, len(st)) :\n",
        "                tmp.add(st[:i] + '.' + st[i:])\n",
        "            \n",
        "            return tmp\n",
        "        \n",
        "        for i in range(2, len(s)-1) :\n",
        "            \n",
        "            if int(s[1:i]) == 0 and i > 2: continue\n",
        "            if int(s[i:-1]) == 0 and len(s)-i > 2 : continue\n",
        "            \n",
        "            #if i > 2 and (int(s[1:i]) == 0 or int(s[-i:-1]) == 0 ):\n",
        "            #    continue\n",
        "            L = div_num(s[1:i])\n",
        "            R = div_num(s[i:-1])\n",
        "            print('L', L, 'R', R)\n",
        "            \n",
        "            for l in L :\n",
        "                for r in R :\n",
        "                    \n",
        "                    #print('(' + l +', ' + r + ')')\n",
        "                    answer.add('(' + l +', ' + r + ')')\n",
        "                    \n",
        "        return answer"
      ],
      "execution_count": null,
      "outputs": [
        {
          "output_type": "stream",
          "text": [
            "{'120'}\n"
          ],
          "name": "stdout"
        }
      ]
    }
  ]
}