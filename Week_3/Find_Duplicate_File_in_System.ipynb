{
  "nbformat": 4,
  "nbformat_minor": 0,
  "metadata": {
    "colab": {
      "name": "Week 3 : Find Duplicate File in System.ipynb",
      "provenance": [],
      "collapsed_sections": [],
      "authorship_tag": "ABX9TyNhCLt4Np+VaUExw74PAQ2x",
      "include_colab_link": true
    },
    "kernelspec": {
      "name": "python3",
      "display_name": "Python 3"
    },
    "language_info": {
      "name": "python"
    }
  },
  "cells": [
    {
      "cell_type": "markdown",
      "metadata": {
        "id": "view-in-github",
        "colab_type": "text"
      },
      "source": [
        "<a href=\"https://colab.research.google.com/github/1cg2cg3cg/May-Leetcoding-Challenge-2021/blob/main/Week_3/Find_Duplicate_File_in_System.ipynb\" target=\"_parent\"><img src=\"https://colab.research.google.com/assets/colab-badge.svg\" alt=\"Open In Colab\"/></a>"
      ]
    },
    {
      "cell_type": "code",
      "metadata": {
        "id": "3jaJrC49KvoY"
      },
      "source": [
        "# Runtime: 76 ms            Your runtime beats 95.38 % of python3 submissions.\n",
        "# Memory Usage: 24 MB       Your memory usage beats 77.79 % of python3 submissions.\n",
        "\n",
        "## optimization focused on a speed\n",
        "\n",
        "import collections\n",
        "\n",
        "class Solution:\n",
        "    def findDuplicate(self, paths: List[str]) -> List[List[str]]:\n",
        "        \n",
        "        maps = collections.defaultdict(list)\n",
        "        \n",
        "        for p in paths :\n",
        "            A = p.split()\n",
        "            \n",
        "            for a in A[1:] :    ## A[0] is always directory\n",
        "                \n",
        "                if '.txt' in a :\n",
        "                    idx = a.index('.txt')\n",
        "                    maps[a[idx+4:]].append(A[0] + '/' + a[:idx+4])\n",
        "        \n",
        "        return [maps[x] for x in maps if len(maps[x]) > 1]"
      ],
      "execution_count": null,
      "outputs": []
    },
    {
      "cell_type": "code",
      "metadata": {
        "id": "6zvRpWvFGnc7"
      },
      "source": [
        "# delete some unnecessary variables to save memory\n",
        "\n",
        "# Runtime: 92 ms            Your runtime beats 47.09 % of python3 submissions.\n",
        "# Memory Usage: 24.2 MB     Your memory usage beats 70.64 % of python3 submissions.\n",
        "import collections\n",
        "\n",
        "class Solution:\n",
        "    def findDuplicate(self, paths: List[str]) -> List[List[str]]:\n",
        "        \n",
        "        maps = collections.defaultdict(list)\n",
        "        \n",
        "        for p in paths :\n",
        "            A = p.split()\n",
        "            \n",
        "            for a in A :\n",
        "                \n",
        "                if '.txt' in a :\n",
        "                    idx = a.index('.txt')\n",
        "                    maps[a[idx+4:]].append(A[0] + '/' + a[:idx+4])\n",
        "        \n",
        "        return [maps[x] for x in maps if len(maps[x]) > 1]"
      ],
      "execution_count": null,
      "outputs": []
    },
    {
      "cell_type": "code",
      "metadata": {
        "id": "wOGVCT2WEnM_"
      },
      "source": [
        "# Runtime: 92 ms            Your runtime beats 47.09 % of python3 submissions.\n",
        "# Memory Usage: 24.2 MB     Your memory usage beats 27.12 % of python3 submissions. --> 70.64%\n",
        "\n",
        "# Idea : Let's use ket : value as content : directory using a dict type variable\n",
        "# and finally return a list(contents) if len(value) >= 2\n",
        "\n",
        "import collections\n",
        "\n",
        "class Solution:\n",
        "    def findDuplicate(self, paths: List[str]) -> List[List[str]]:\n",
        "        \n",
        "        maps = collections.defaultdict(list)\n",
        "        \n",
        "        for p in paths :\n",
        "            \n",
        "            A = p.split()   # split the root and files\n",
        "            \n",
        "            for a in A :\n",
        "                if '.txt' in a :\n",
        "                    idx = a.index('.txt')   # before idx is a file name\n",
        "                    \n",
        "                    maps[a[idx+4:]].append(A[0] + '/' + a[:idx+4]) # maps key is a content and value is directory.\n",
        "        \n",
        "        m = [maps[x] for x in maps if len(maps[x]) > 1]\n",
        "        \n",
        "        return m"
      ],
      "execution_count": null,
      "outputs": []
    }
  ]
}