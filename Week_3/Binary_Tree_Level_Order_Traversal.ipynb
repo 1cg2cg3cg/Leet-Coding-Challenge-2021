{
  "nbformat": 4,
  "nbformat_minor": 0,
  "metadata": {
    "colab": {
      "name": "Week 3 : Binary Tree Level Order Traversal.ipynb",
      "provenance": [],
      "collapsed_sections": [],
      "authorship_tag": "ABX9TyMQfo5iHq0Nu0AeBvZcCv9w",
      "include_colab_link": true
    },
    "kernelspec": {
      "name": "python3",
      "display_name": "Python 3"
    },
    "language_info": {
      "name": "python"
    }
  },
  "cells": [
    {
      "cell_type": "markdown",
      "metadata": {
        "id": "view-in-github",
        "colab_type": "text"
      },
      "source": [
        "<a href=\"https://colab.research.google.com/github/1cg2cg3cg/May-Leetcoding-Challenge-2021/blob/main/Week_3/Binary_Tree_Level_Order_Traversal.ipynb\" target=\"_parent\"><img src=\"https://colab.research.google.com/assets/colab-badge.svg\" alt=\"Open In Colab\"/></a>"
      ]
    },
    {
      "cell_type": "code",
      "metadata": {
        "id": "kGRxXJNlLV1p"
      },
      "source": [
        "# 1st solution\n",
        "# Runtime: 36 ms            Your runtime beats 54.13 % of python3 submissions.\n",
        "# Memory Usage: 14.7 MB     Your memory usage beats 44.30 % of python3 submissions\n",
        "\n",
        "\n",
        "## typical BFS solution\n",
        "# append current value and rememeber left or right nodes.\n",
        "# at the last of the while loop, change cur to _next\n",
        "\n",
        "\n",
        "# Definition for a binary tree node.\n",
        "# class TreeNode:\n",
        "#     def __init__(self, val=0, left=None, right=None):\n",
        "#         self.val = val\n",
        "#         self.left = left\n",
        "#         self.right = right\n",
        "\n",
        "class Solution:\n",
        "    def levelOrder(self, root: TreeNode) -> List[List[int]]:\n",
        "        if not root : return []\n",
        "        \n",
        "        cur = [root]\n",
        "        answer = []\n",
        "        while cur :\n",
        "            \n",
        "            _next = []\n",
        "            val = []\n",
        "            \n",
        "            for node in cur :\n",
        "                val.append(node.val)\n",
        "                if node.left :\n",
        "                    _next.append(node.left)\n",
        "\n",
        "                if node.right :\n",
        "                    _next.append(node.right)\n",
        "            \n",
        "            cur = _next     # update the current nodes\n",
        "            answer.append(val)  # keep the list of values\n",
        "        \n",
        "        return answer"
      ],
      "execution_count": null,
      "outputs": []
    }
  ]
}