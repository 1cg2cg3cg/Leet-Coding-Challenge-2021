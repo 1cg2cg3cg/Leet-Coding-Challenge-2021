{
  "nbformat": 4,
  "nbformat_minor": 0,
  "metadata": {
    "colab": {
      "name": "Week 1 : Course Schedule III.ipynb",
      "provenance": [],
      "collapsed_sections": [],
      "authorship_tag": "ABX9TyO9PAnCY+BkUtzIiYwyCIEJ",
      "include_colab_link": true
    },
    "kernelspec": {
      "name": "python3",
      "display_name": "Python 3"
    },
    "language_info": {
      "name": "python"
    }
  },
  "cells": [
    {
      "cell_type": "markdown",
      "metadata": {
        "id": "view-in-github",
        "colab_type": "text"
      },
      "source": [
        "<a href=\"https://colab.research.google.com/github/1cg2cg3cg/May-Leetcoding-Challenge/blob/main/Week_1/Course_Schedule_III.ipynb\" target=\"_parent\"><img src=\"https://colab.research.google.com/assets/colab-badge.svg\" alt=\"Open In Colab\"/></a>"
      ]
    },
    {
      "cell_type": "code",
      "metadata": {
        "id": "UU2FHtn9PDD5"
      },
      "source": [
        "# during iteration, add the duration if total time is less than the lastday\n",
        "# if total time exceeds the lastday, remove the longest course already done before.\n",
        "import heapq\n",
        "class Solution:\n",
        "    def scheduleCourse(self, courses: List[List[int]]) -> int:\n",
        "        \n",
        "        heap, cur_time = [], 0\n",
        "        \n",
        "        for d, l in sorted(courses, key = lambda x : x[1]) :\n",
        "            \n",
        "            if cur_time + d <= l :  # if it meet the conditions\n",
        "                cur_time += d\n",
        "                heapq.heappush(heap, -d) # save the duration we processed, python heap is minimum heap so, we stack as - values to make it work as maximum heap\n",
        "            \n",
        "            elif heap and -heap[0] > d : # exceeds the lastday and not the 1st course\n",
        "                cur_time += d + heapq.heappop(heap) # heappop is negative value so, we add current course's duration and minus the longest duration before.\n",
        "                heapq.heappush(heap, -d)\n",
        "\n",
        "        return len(heap)    # the remain is processed course"
      ],
      "execution_count": null,
      "outputs": []
    }
  ]
}