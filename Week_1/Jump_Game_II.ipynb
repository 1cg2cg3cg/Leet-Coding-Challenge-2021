{
  "nbformat": 4,
  "nbformat_minor": 0,
  "metadata": {
    "colab": {
      "name": "Week 1 : Jump Game II.ipynb",
      "provenance": [],
      "collapsed_sections": [],
      "authorship_tag": "ABX9TyPelU4EstY+9QR8dMEVR+xS",
      "include_colab_link": true
    },
    "kernelspec": {
      "name": "python3",
      "display_name": "Python 3"
    },
    "language_info": {
      "name": "python"
    }
  },
  "cells": [
    {
      "cell_type": "markdown",
      "metadata": {
        "id": "view-in-github",
        "colab_type": "text"
      },
      "source": [
        "<a href=\"https://colab.research.google.com/github/1cg2cg3cg/May-Leetcoding-Challenge-2021/blob/main/Week_1/Jump_Game_II.ipynb\" target=\"_parent\"><img src=\"https://colab.research.google.com/assets/colab-badge.svg\" alt=\"Open In Colab\"/></a>"
      ]
    },
    {
      "cell_type": "code",
      "metadata": {
        "id": "nSYBcbKEjw9E"
      },
      "source": [
        "# Runtime: 32 ms            Your runtime beats 68.42 % of python3 submissions.\n",
        "# Memory Usage: 14.3 MB     Your memory usage beats 24.55 % of python3 submissions.\n",
        "\n",
        "# solution with stack, pointer and counter\n",
        "# stack elements mean the furthest point(index) where you can reach\n",
        "# counter counts the number of jumps\n",
        "class Solution:\n",
        "    def jump(self, nums: List[int]) -> int:\n",
        "        \n",
        "        p, cnt = 0, 0\n",
        "        stack = []\n",
        "        for i, num in enumerate(nums) : # calculate the furthest point\n",
        "            stack.append(i+num)\n",
        "            \n",
        "        while p < len(nums)-1 : # less than the last index\n",
        "\n",
        "            if stack[p] >= len(nums)-1 : # can be reached in 1 jump\n",
        "                return cnt+1\n",
        "            # 다음 점프에 가장 멀리 갈 수 있는 곳으로 간다.\n",
        "            p += stack[p:p+nums[p]+1].index(max(stack[p:p+nums[p]+1]))\n",
        "            cnt += 1\n",
        "        \n",
        "        return cnt"
      ],
      "execution_count": null,
      "outputs": []
    }
  ]
}