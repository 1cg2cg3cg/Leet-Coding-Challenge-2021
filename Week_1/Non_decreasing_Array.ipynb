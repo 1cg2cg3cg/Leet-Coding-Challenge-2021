{
  "nbformat": 4,
  "nbformat_minor": 0,
  "metadata": {
    "colab": {
      "name": "Week 1 : Non-decreasing Array.ipynb",
      "provenance": [],
      "collapsed_sections": [],
      "authorship_tag": "ABX9TyNyytny+q8Ly/VfSYr4+Wmu",
      "include_colab_link": true
    },
    "kernelspec": {
      "name": "python3",
      "display_name": "Python 3"
    },
    "language_info": {
      "name": "python"
    }
  },
  "cells": [
    {
      "cell_type": "markdown",
      "metadata": {
        "id": "view-in-github",
        "colab_type": "text"
      },
      "source": [
        "<a href=\"https://colab.research.google.com/github/1cg2cg3cg/May-Leetcoding-Challenge-2021/blob/main/Week_1/Non_decreasing_Array.ipynb\" target=\"_parent\"><img src=\"https://colab.research.google.com/assets/colab-badge.svg\" alt=\"Open In Colab\"/></a>"
      ]
    },
    {
      "cell_type": "code",
      "metadata": {
        "id": "PBMDTu-TYAgl"
      },
      "source": [
        "# Runtime: 180 ms           Your runtime beats 76.10 % of python3 submissions\n",
        "# Memory Usage: 15.4 MB     Your memory usage beats 63.24 % of python3 submissions.\n",
        "\n",
        "\n",
        "# event : the point where the decrease occurs\n",
        "# case 1 : nums[i-1] > nums[i+1] in this case, I changed the nums[i-1] to nums[i]\n",
        "# case 2 : nums[i-1] <= nums[i+1] in this case, I changed the nums[i] to nums[i-1]\n",
        "# if there are less than 1 conversion and non-decreasing array, nums equals sorted(nums)\n",
        "\n",
        "class Solution:\n",
        "    def checkPossibility(self, nums: List[int]) -> bool:\n",
        "        cnt = 0     # to count the number of modifying\n",
        "\n",
        "        if len(nums) < 3 : return True  # always True\n",
        "        \n",
        "        for i in range(1, len(nums)-1) :\n",
        "            \n",
        "            if nums[i-1] > nums[i] :    # event\n",
        "                    \n",
        "                if nums[i-1] > nums[i+1] :  # case 1\n",
        "                    nums[i-1] = nums[i]\n",
        "                \n",
        "                elif nums[i-1] <= nums[i+1] :   # case 2\n",
        "                    nums[i] = nums[i-1]\n",
        "            \n",
        "                cnt += 1\n",
        "                \n",
        "            if cnt > 1 : return False\n",
        "            \n",
        "        if nums[-2] > nums[-1] : # to consider the last two elements\n",
        "            nums[-1] = nums[-2]\n",
        "            cnt += 1\n",
        "        \n",
        "        if cnt > 1 : return False\n",
        "        \n",
        "        return nums == sorted(nums) # if we modified only once and nums is non decreasing array, it will be true\n",
        "\n",
        "\n",
        "# used to test\n",
        "'''[5,7,1,8]\n",
        "[4,2,3]\n",
        "[4,1,2]\n",
        "[1,1,1,1,2,2,2,2,3,3,3,3,4,5,6,5,6,5]\n",
        "[1,2,1,2,1,2]\n",
        "[3,4,2,3]\n",
        "[2,3,3,2]\n",
        "[2,3,3,2,4]\n",
        "[2,3,3,2,2]\n",
        "[5,6,7,1]'''"
      ],
      "execution_count": null,
      "outputs": []
    }
  ]
}