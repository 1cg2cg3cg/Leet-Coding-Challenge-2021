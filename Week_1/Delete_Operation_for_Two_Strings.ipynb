{
  "nbformat": 4,
  "nbformat_minor": 0,
  "metadata": {
    "colab": {
      "name": "Week 1 : Delete Operation for Two Strings.ipynb",
      "provenance": [],
      "collapsed_sections": [],
      "authorship_tag": "ABX9TyP0xVzJrCJK4G06sGBwM18X",
      "include_colab_link": true
    },
    "kernelspec": {
      "name": "python3",
      "display_name": "Python 3"
    },
    "language_info": {
      "name": "python"
    }
  },
  "cells": [
    {
      "cell_type": "markdown",
      "metadata": {
        "id": "view-in-github",
        "colab_type": "text"
      },
      "source": [
        "<a href=\"https://colab.research.google.com/github/1cg2cg3cg/May-Leetcoding-Challenge-2021/blob/main/Week_1/Delete_Operation_for_Two_Strings.ipynb\" target=\"_parent\"><img src=\"https://colab.research.google.com/assets/colab-badge.svg\" alt=\"Open In Colab\"/></a>"
      ]
    },
    {
      "cell_type": "code",
      "metadata": {
        "id": "RKhFGj64Xrm4"
      },
      "source": [
        "# fail to solve.\n",
        "# IDEA : https://www.youtube.com/watch?time_continue=5&v=NnD96abizww&feature=emb_logo&ab_channel=TusharRoy-CodingMadeSimple\n",
        "\n",
        "def minDistance(self, w1, w2):\n",
        "        m,n=len(w1), len(w2)\n",
        "        dp=[[0]*(n+1) for _ in range(m+1)]\n",
        "        \n",
        "        for i, a in enumerate(w1,1):\n",
        "            for j, b in enumerate(w2,1):\n",
        "                dp[i][j] = max(dp[i-1][j], dp[i][j-1], dp[i-1][j-1]+(a==b))\n",
        "        \n",
        "        return m + n - 2*dp[-1][-1] \n"
      ],
      "execution_count": null,
      "outputs": []
    },
    {
      "cell_type": "code",
      "metadata": {
        "colab": {
          "base_uri": "https://localhost:8080/"
        },
        "id": "1PZyR3fI352x",
        "outputId": "bb1cb9b6-09cd-4438-e3c3-91d7f55283c1"
      },
      "source": [
        "import collections\n",
        "\n",
        "word1 = 'elteeecdeo'\n",
        "word2 = 'etco'\n",
        "#word1 = 'sea'\n",
        "#word2 = 'eat'\n",
        "w = list(word1)\n",
        "\n",
        "C1 = collections.Counter(word1)\n",
        "C2 = collections.Counter(word2)\n",
        "\n",
        "stack = []\n",
        "p = 0\n",
        "cnt = 0\n",
        "for w in word2 :\n",
        "    \n",
        "    if w in list(word1)[p:] :\n",
        "        #print(w, list(word1).index(w))\n",
        "        cnt += list(word1).index(w) - (p+1)\n",
        "        #print(list(word1).index(w) - p, list(word1).index(w), p+1)\n",
        "        p = list(word1).index(w)\n",
        "        stack.append(w)\n",
        "\n",
        "print(cnt)\n",
        "print(C2, collections.Counter(stack), len(C2-collections.Counter(stack)))\n",
        "cnt += len(C2 - collections.Counter(stack))\n",
        "print(stack, cnt+1)\n"
      ],
      "execution_count": null,
      "outputs": [
        {
          "output_type": "stream",
          "text": [
            "5\n",
            "Counter({'e': 1, 't': 1, 'c': 1, 'o': 1}) Counter({'e': 1, 't': 1, 'c': 1, 'o': 1}) 0\n",
            "['e', 't', 'c', 'o'] 6\n"
          ],
          "name": "stdout"
        }
      ]
    },
    {
      "cell_type": "code",
      "metadata": {
        "colab": {
          "base_uri": "https://localhost:8080/"
        },
        "id": "Pyhp5o5GCvT2",
        "outputId": "bb9154b8-ab5d-4faa-d3d5-30c10ef5b94e"
      },
      "source": [
        "word1 = 'leetcode'\n",
        "word2 = 'etco'\n",
        "C1 = collections.Counter(word1)\n",
        "C2 = collections.Counter(word2)\n",
        "\n",
        "stack = []\n",
        "p = 0\n",
        "cnt = 0\n",
        "for w in word2 :\n",
        "\n",
        "    if w in list(word1)[p:] :\n",
        "        print(w, cnt, list(word1[p+1:]), list(word1[p+1:]).index(w), p, list(word1[p+1:]).index(w) - p)\n",
        "        cnt += list(word1[p+1:]).index(w) - p\n",
        "        p = list(word1).index(w)\n",
        "        stack.append(w)\n",
        "\n",
        "cnt += len(C2 - collections.Counter(stack))\n",
        "\n",
        "print(cnt+1)"
      ],
      "execution_count": null,
      "outputs": [
        {
          "output_type": "stream",
          "text": [
            "e 0 ['e', 'e', 't', 'c', 'o', 'd', 'e'] 0 0 0\n",
            "t 0 ['e', 't', 'c', 'o', 'd', 'e'] 1 1 0\n",
            "c 0 ['c', 'o', 'd', 'e'] 0 3 -3\n",
            "o -3 ['o', 'd', 'e'] 0 4 -4\n",
            "-6\n"
          ],
          "name": "stdout"
        }
      ]
    },
    {
      "cell_type": "code",
      "metadata": {
        "id": "DDWtYLUVH4ih"
      },
      "source": [
        "def solution(word1, word2) :\n",
        "    C1 = collections.Counter(word1)\n",
        "    C2 = collections.Counter(word2)\n",
        "\n",
        "    stack, idx = [], [-1]\n",
        "\n",
        "    for w in word2 :\n",
        "\n",
        "        if w in list(word1[idx[-1]+1:]) :\n",
        "            stack.append(w)\n",
        "            idx.append(list(word1).index(w))\n",
        "\n",
        "    print(stack, idx)\n",
        "\n",
        "    cnt = 0\n",
        "\n",
        "    if len(idx) > 1 and idx[1] != 0 : cnt += idx[1]\n",
        "\n",
        "    for i in range(1, len(idx)-1) :\n",
        "        #print(idx[i+1], idx[i], idx[i+1] - idx[i] -1)\n",
        "        cnt += idx[i+1] - idx[i] -1\n",
        "        #print(cnt)\n",
        "    print('b', cnt)\n",
        "\n",
        "    if not stack :\n",
        "        return len(word1) + len(word2)\n",
        "\n",
        "    cnt += len(word1)-1 - idx[-1]\n",
        "    print('a', cnt)\n",
        "\n",
        "    cnt += sum((C2 - collections.Counter(stack)).values())\n",
        "    return cnt\n",
        "\n",
        "print(solution(\"algorithm\", \"altruistic\"), 9)\n",
        "print(solution('a', 'ab'), 1)\n",
        "print(solution('industry', 'interest'), 8)\n",
        "print(solution('sea', 'eat'), 2)\n",
        "print(solution('leetcode', 'etco'), 4)\n",
        "print(solution('a', 'b'), 2)\n",
        "print(solution('intention', 'execution'), 8)"
      ],
      "execution_count": null,
      "outputs": []
    },
    {
      "cell_type": "code",
      "metadata": {
        "id": "WMoSwK1ANNKd"
      },
      "source": [
        "word1 = \"industry\"\n",
        "word2 = \"interest\"\n",
        "\n",
        "C1 = collections.Counter(word1)\n",
        "C2 = collections.Counter(word2)\n",
        "\n",
        "stack = []\n",
        "p = 0\n",
        "cnt = 0\n",
        "for w in word2 :\n",
        "\n",
        "    if w in list(word1)[p:] :\n",
        "        cnt += list(word1[p:]).index(w)\n",
        "        p += list(word1[p:]).index(w)+1\n",
        "        stack.append(w)\n",
        "\n",
        "cnt += len(word1)-p\n",
        "#cnt += len(C2 - collections.Counter(stack))\n",
        "cnt += sum(collections.Counter(stack).values())\n",
        "print(sum(collections.Counter(stack).values()))\n",
        "print(cnt)"
      ],
      "execution_count": null,
      "outputs": []
    }
  ]
}